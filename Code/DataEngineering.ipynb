{
 "cells": [
  {
   "cell_type": "markdown",
   "metadata": {},
   "source": [
    "# AM 207 Final Project\n",
    "## Now I See You\n",
    "### --- Sensor Based Single User Activity Recognition\n",
    "<img src=\"plot/background.png\", width=300>\n",
    "#### Team members:\n",
    "Xiaowen Chang: xiaowenchang@g.harvard.edu\n",
    "\n",
    "Baijie Lu: blu@g.harvard.edu\n",
    "\n",
    "Fangzheng Qian: fqian@g.harvard.edu\n",
    "\n",
    "Yuhan Tang: tang01@g.harvard.edu\n",
    "\n",
    "#### Assigned Teaching fellow: \n",
    "\n",
    "Xide Xia: xidexia@g.harvard.edu\n",
    "###### Submitted as the final project of AM 207: Advanced Scientific Computing in Harvard University"
   ]
  },
  {
   "cell_type": "markdown",
   "metadata": {},
   "source": [
    "# Table of Contents\n",
    "\n",
    "* [0. Introduction](#0.-Introduction)\n",
    "* [1. Data Engineering](#1.-Data-Engineering)\n",
    "    * [1.1 Preprocessing](#1.1-Preprocessing)\n",
    "    * [1.2 Activity Array](#1.2-Activity-Array)\n",
    "    * [1.3 Feature Representation](#1.3-Feature-Representation)\n",
    "        * [1.3.1 Raw](#1.3.1-Raw)\n",
    "        * [1.3.2 ChangePoint](#1.3.2-ChangePoint)\n",
    "        * [1.3.3 LastSensor](#1.3.3-LastSensor)\n",
    "    * [1.4 Save Files](#1.4-Save-Files)\n",
    "* [2. House and Feature Setting](#2.-House-and-Feature-Setting)\n",
    "* [3. Naive Bayes Model](#3.-Naive-Bayes-Model)\n",
    "    * [3.1 Parameter Estimation](#3.1-Parameter-Estimation)\n",
    "    * [3.2 Prior](#3.2-Prior)\n",
    "    * [3.3 Maximize Posterior](#3.3-Maximize-Posterior)\n",
    "    * [3.4 Model Visualization](#3.4-Model-Visualization)\n",
    "* [4. Hidden Markov Model (HMM)](#4.-Hidden-Markov-Model)\n",
    "    * [4.1 First Order HMM](#4.1-First-Order-HMM)\n",
    "    * [4.2 Second Order HMM](#4.2-Second-Order-HMM)\n",
    "* [5. Model Comparison](#5.-Model-Comparison)"
   ]
  },
  {
   "cell_type": "markdown",
   "metadata": {},
   "source": [
    "# 0. Introduction\n",
    "\n",
    "Activity Recognition, which identifies the activity (eg. cooking, sleeping, reading) that a user performs from a series of observations, is an active research area because it has many real-life applications such as healthcare and intelligent environments. In our project, to simplify the problem, we used sensor based single user data instead of some complex activities data involved multiple users. Recognize activities from sensor data poses the following challenges. First, there is an ambiguity of interpretation. The interpretation of similar observed sensor data may be different. For example, 'cooking' and 'cleaning fridge' both involve opening the fridge. Second, same activity may be performed in different ways. Third, from the observed sensor data, it is hard to see when one activity ends and another one starts. In this project, we implemented Naive Bayes Model, First Order HMM(Hidden Markov Model) and Second Order HMM to tackle these issues and tested their performance on several real world datasets. Besides models, different feature representations were tried to further improve the performance. \n",
    "\n",
    "**This project is split into two parts --- DataEngineering.ipynb and Models.ipynb. You are looking at the first part DataEngineering.ipynb. You only need to run this part once and all the data needed for building models would be generated and saved.**"
   ]
  },
  {
   "cell_type": "code",
   "execution_count": 1,
   "metadata": {
    "collapsed": true
   },
   "outputs": [],
   "source": [
    "import pandas as pd\n",
    "import numpy as np\n",
    "import matplotlib.pyplot as plt\n",
    "import scipy.io\n",
    "from datetime import datetime,timedelta\n",
    "%matplotlib inline"
   ]
  },
  {
   "cell_type": "markdown",
   "metadata": {},
   "source": [
    "# 1. Data Engineering"
   ]
  },
  {
   "cell_type": "markdown",
   "metadata": {},
   "source": [
    "## 1.1 Preprocessing \n",
    "### --- Organizing and Cleaning data"
   ]
  },
  {
   "cell_type": "markdown",
   "metadata": {},
   "source": [
    "In this project, supervised machine learning models were used for recognition of users' activity, therefore, labeled training data from sensors had to be collected. We used three online datasets with single user activity recorded in different houses. Sensors were installed in different places inside the house to gather the data needed for recognition. The floor plan of different houses is as following. The red boxes represent sensor nodes. It gives 1 when the sensor is firing and a 0 otherwise. \n",
    "<img src=\"plot/data1.png\"; width=300>\n",
    "<img src=\"plot/data2.png\"; width =300>"
   ]
  },
  {
   "cell_type": "code",
   "execution_count": 2,
   "metadata": {
    "collapsed": true
   },
   "outputs": [],
   "source": [
    "#convert matlab time to total seconds\n",
    "def to_sec(matlab_datenum):\n",
    "    dt = datetime.fromordinal(int(matlab_datenum)) + timedelta(days=matlab_datenum%1) - timedelta(days = 366)\n",
    "    seconds = (dt-datetime(1970,1,1)).total_seconds()\n",
    "    return int(seconds)"
   ]
  },
  {
   "cell_type": "code",
   "execution_count": 3,
   "metadata": {
    "collapsed": false
   },
   "outputs": [],
   "source": [
    "#run houses = 'A', 'B' and 'C'\n",
    "house = 'C'\n",
    "act_mat = scipy.io.loadmat(\"../data/datasets/house{}/actStructHouse{}.mat\".format(house, house))\n",
    "sensor_mat = scipy.io.loadmat(\"../data/datasets/house{}/sensorStructHouse{}.mat\".format(house, house))\n",
    "label_mat = scipy.io.loadmat(\"../data/datasets/house{}/senseandactLabelsHouse{}.mat\".format(house,house))"
   ]
  },
  {
   "cell_type": "code",
   "execution_count": 4,
   "metadata": {
    "collapsed": false
   },
   "outputs": [],
   "source": [
    "act_df = pd.DataFrame(act_mat['activityStructure'][0][0][0])"
   ]
  },
  {
   "cell_type": "code",
   "execution_count": 5,
   "metadata": {
    "collapsed": false
   },
   "outputs": [
    {
     "data": {
      "text/html": [
       "<div>\n",
       "<table border=\"1\" class=\"dataframe\">\n",
       "  <thead>\n",
       "    <tr style=\"text-align: right;\">\n",
       "      <th></th>\n",
       "      <th>start_time</th>\n",
       "      <th>end_time</th>\n",
       "      <th>start_sec</th>\n",
       "      <th>end_sec</th>\n",
       "      <th>diff_sec</th>\n",
       "      <th>label</th>\n",
       "    </tr>\n",
       "  </thead>\n",
       "  <tbody>\n",
       "    <tr>\n",
       "      <th>0</th>\n",
       "      <td>2008-11-19 17:49:00</td>\n",
       "      <td>2008-11-19 17:49:59</td>\n",
       "      <td>1227134940</td>\n",
       "      <td>1227134999</td>\n",
       "      <td>59</td>\n",
       "      <td>1</td>\n",
       "    </tr>\n",
       "    <tr>\n",
       "      <th>1</th>\n",
       "      <td>2008-11-19 17:50:40</td>\n",
       "      <td>2008-11-19 17:51:45</td>\n",
       "      <td>1227135040</td>\n",
       "      <td>1227135105</td>\n",
       "      <td>65</td>\n",
       "      <td>4</td>\n",
       "    </tr>\n",
       "    <tr>\n",
       "      <th>2</th>\n",
       "      <td>2008-11-19 17:59:25</td>\n",
       "      <td>2008-11-19 18:00:00</td>\n",
       "      <td>1227135565</td>\n",
       "      <td>1227135600</td>\n",
       "      <td>35</td>\n",
       "      <td>17</td>\n",
       "    </tr>\n",
       "    <tr>\n",
       "      <th>3</th>\n",
       "      <td>2008-11-19 18:00:50</td>\n",
       "      <td>2008-11-19 20:24:59</td>\n",
       "      <td>1227135650</td>\n",
       "      <td>1227144299</td>\n",
       "      <td>8649</td>\n",
       "      <td>28</td>\n",
       "    </tr>\n",
       "    <tr>\n",
       "      <th>4</th>\n",
       "      <td>2008-11-19 19:14:50</td>\n",
       "      <td>2008-11-19 19:15:19</td>\n",
       "      <td>1227140090</td>\n",
       "      <td>1227140119</td>\n",
       "      <td>29</td>\n",
       "      <td>17</td>\n",
       "    </tr>\n",
       "  </tbody>\n",
       "</table>\n",
       "</div>"
      ],
      "text/plain": [
       "            start_time             end_time   start_sec     end_sec  diff_sec  \\\n",
       "0  2008-11-19 17:49:00  2008-11-19 17:49:59  1227134940  1227134999        59   \n",
       "1  2008-11-19 17:50:40  2008-11-19 17:51:45  1227135040  1227135105        65   \n",
       "2  2008-11-19 17:59:25  2008-11-19 18:00:00  1227135565  1227135600        35   \n",
       "3  2008-11-19 18:00:50  2008-11-19 20:24:59  1227135650  1227144299      8649   \n",
       "4  2008-11-19 19:14:50  2008-11-19 19:15:19  1227140090  1227140119        29   \n",
       "\n",
       "   label  \n",
       "0      1  \n",
       "1      4  \n",
       "2     17  \n",
       "3     28  \n",
       "4     17  "
      ]
     },
     "execution_count": 5,
     "metadata": {},
     "output_type": "execute_result"
    }
   ],
   "source": [
    "act_df.columns = [\"start_sec\", \"end_sec\", \"label\"]\n",
    "act_df['start_sec'] = [to_sec(i) for i in act_df.start_sec]\n",
    "act_df['end_sec'] = [to_sec(i) for i in act_df.end_sec]\n",
    "act_df['diff_sec'] = act_df.end_sec-act_df.start_sec\n",
    "act_df['start_time'] = [str(datetime.fromtimestamp(i)) for i in act_df.start_sec]\n",
    "act_df['end_time'] = [str(datetime.fromtimestamp(i)) for i in act_df.end_sec]\n",
    "act_df = act_df[[\"start_time\", \"end_time\", \"start_sec\", \"end_sec\", \"diff_sec\", \"label\"]]\n",
    "act_df.head()"
   ]
  },
  {
   "cell_type": "code",
   "execution_count": 366,
   "metadata": {
    "collapsed": false
   },
   "outputs": [
    {
     "data": {
      "text/plain": [
       "344"
      ]
     },
     "execution_count": 366,
     "metadata": {},
     "output_type": "execute_result"
    }
   ],
   "source": [
    "len(act_df)"
   ]
  },
  {
   "cell_type": "code",
   "execution_count": 367,
   "metadata": {
    "collapsed": false
   },
   "outputs": [],
   "source": [
    "sensor_df = pd.DataFrame(sensor_mat['sensorStructure'][0][0][0])"
   ]
  },
  {
   "cell_type": "code",
   "execution_count": 368,
   "metadata": {
    "collapsed": false
   },
   "outputs": [
    {
     "data": {
      "text/html": [
       "<div>\n",
       "<table border=\"1\" class=\"dataframe\">\n",
       "  <thead>\n",
       "    <tr style=\"text-align: right;\">\n",
       "      <th></th>\n",
       "      <th>start_time</th>\n",
       "      <th>end_time</th>\n",
       "      <th>start_sec</th>\n",
       "      <th>end_sec</th>\n",
       "      <th>diff_sec</th>\n",
       "      <th>on</th>\n",
       "      <th>label</th>\n",
       "    </tr>\n",
       "  </thead>\n",
       "  <tbody>\n",
       "    <tr>\n",
       "      <th>0</th>\n",
       "      <td>2008-11-19 17:47:46</td>\n",
       "      <td>2008-11-19 17:49:17</td>\n",
       "      <td>1227134866</td>\n",
       "      <td>1227134957</td>\n",
       "      <td>91</td>\n",
       "      <td>1</td>\n",
       "      <td>28</td>\n",
       "    </tr>\n",
       "    <tr>\n",
       "      <th>1</th>\n",
       "      <td>2008-11-19 17:49:20</td>\n",
       "      <td>2008-11-19 17:49:22</td>\n",
       "      <td>1227134960</td>\n",
       "      <td>1227134962</td>\n",
       "      <td>2</td>\n",
       "      <td>1</td>\n",
       "      <td>28</td>\n",
       "    </tr>\n",
       "    <tr>\n",
       "      <th>2</th>\n",
       "      <td>2008-11-19 17:49:24</td>\n",
       "      <td>2008-11-19 17:50:14</td>\n",
       "      <td>1227134964</td>\n",
       "      <td>1227135014</td>\n",
       "      <td>50</td>\n",
       "      <td>1</td>\n",
       "      <td>28</td>\n",
       "    </tr>\n",
       "    <tr>\n",
       "      <th>3</th>\n",
       "      <td>2008-11-19 17:50:18</td>\n",
       "      <td>2008-11-20 06:14:11</td>\n",
       "      <td>1227135018</td>\n",
       "      <td>1227179651</td>\n",
       "      <td>44633</td>\n",
       "      <td>1</td>\n",
       "      <td>28</td>\n",
       "    </tr>\n",
       "    <tr>\n",
       "      <th>4</th>\n",
       "      <td>2008-11-19 17:51:02</td>\n",
       "      <td>2008-11-19 17:51:04</td>\n",
       "      <td>1227135062</td>\n",
       "      <td>1227135064</td>\n",
       "      <td>2</td>\n",
       "      <td>1</td>\n",
       "      <td>25</td>\n",
       "    </tr>\n",
       "  </tbody>\n",
       "</table>\n",
       "</div>"
      ],
      "text/plain": [
       "            start_time             end_time   start_sec     end_sec  diff_sec  \\\n",
       "0  2008-11-19 17:47:46  2008-11-19 17:49:17  1227134866  1227134957        91   \n",
       "1  2008-11-19 17:49:20  2008-11-19 17:49:22  1227134960  1227134962         2   \n",
       "2  2008-11-19 17:49:24  2008-11-19 17:50:14  1227134964  1227135014        50   \n",
       "3  2008-11-19 17:50:18  2008-11-20 06:14:11  1227135018  1227179651     44633   \n",
       "4  2008-11-19 17:51:02  2008-11-19 17:51:04  1227135062  1227135064         2   \n",
       "\n",
       "   on  label  \n",
       "0   1     28  \n",
       "1   1     28  \n",
       "2   1     28  \n",
       "3   1     28  \n",
       "4   1     25  "
      ]
     },
     "execution_count": 368,
     "metadata": {},
     "output_type": "execute_result"
    }
   ],
   "source": [
    "sensor_df.columns = ['start_sec', 'end_sec', 'label', 'on']\n",
    "sensor_df['start_sec'] = [to_sec(i) for i in sensor_df.start_sec]\n",
    "sensor_df['end_sec'] = [to_sec(i) for i in sensor_df.end_sec]\n",
    "sensor_df['diff_sec'] = sensor_df.end_sec-sensor_df.start_sec\n",
    "sensor_df['start_time'] = [str(datetime.fromtimestamp(i)) for i in sensor_df.start_sec]\n",
    "sensor_df['end_time'] = [str(datetime.fromtimestamp(i)) for i in sensor_df.end_sec]\n",
    "sensor_df = sensor_df[[\"start_time\", \"end_time\", \"start_sec\", \"end_sec\", \"diff_sec\", \"on\", \"label\"]]\n",
    "sensor_df.head()"
   ]
  },
  {
   "cell_type": "code",
   "execution_count": 369,
   "metadata": {
    "collapsed": false
   },
   "outputs": [
    {
     "data": {
      "text/plain": [
       "22700"
      ]
     },
     "execution_count": 369,
     "metadata": {},
     "output_type": "execute_result"
    }
   ],
   "source": [
    "len(sensor_df)"
   ]
  },
  {
   "cell_type": "code",
   "execution_count": 370,
   "metadata": {
    "collapsed": false
   },
   "outputs": [
    {
     "data": {
      "text/plain": [
       "{5: u'mat bed rechts, drukmat',\n",
       " 6: u'mat bank, huiskamer',\n",
       " 7: u'vriezer, reed',\n",
       " 8: u'toilet flush boven, flush ',\n",
       " 10: u'toilet flush beneden. flush ',\n",
       " 11: u'badkamer klapdeur links',\n",
       " 13: u'zelfde la als 18, kwik',\n",
       " 15: u'La sleutels',\n",
       " 16: u'badkamer klapdeur links',\n",
       " 18: u'bestek la, kwik sensor ',\n",
       " 20: u'kastje pannen, reed ',\n",
       " 21: u'magnetron, reed ',\n",
       " 22: u'kastje restjesbakjes, reed ',\n",
       " 23: u'kastje borden/kruiden,reed ',\n",
       " 25: u'deur toilet beneden',\n",
       " 27: u'kastje cups/bowl/tuna, reed ',\n",
       " 28: u'voordeur, reed ',\n",
       " 29: u'deur slaapkamer',\n",
       " 30: u'koelkast, reed ',\n",
       " 35: u'badkuip, pir ',\n",
       " 36: u'dresser, pir ',\n",
       " 38: u'wasbak boven, flush ',\n",
       " 39: u'mat bed links, drukmat '}"
      ]
     },
     "execution_count": 370,
     "metadata": {},
     "output_type": "execute_result"
    }
   ],
   "source": [
    "temp = label_mat['sensor_labels']\n",
    "sensor_labels = {}\n",
    "for item in temp:\n",
    "    sensor_labels[(item[0][0][0])]= item[1][0]\n",
    "sensor_labels "
   ]
  },
  {
   "cell_type": "code",
   "execution_count": 371,
   "metadata": {
    "collapsed": false
   },
   "outputs": [
    {
     "data": {
      "text/plain": [
       "{1: u'leave house',\n",
       " 3: u'Eating',\n",
       " 4: u'use toilet downstairs',\n",
       " 5: u'take shower',\n",
       " 6: u'brush teeth',\n",
       " 7: u'use toilet upstairs',\n",
       " 8: u'take bath',\n",
       " 9: u'shave',\n",
       " 10: u'go to bed',\n",
       " 11: u'get dressed',\n",
       " 12: u'take medication',\n",
       " 13: u'prepare Breakfast',\n",
       " 14: u'prepare Lunch',\n",
       " 15: u'prepare Dinner',\n",
       " 16: u'get snack',\n",
       " 17: u'get drink',\n",
       " 18: u'put items in dishwasher',\n",
       " 19: u'unload dishwasher',\n",
       " 20: u'store groceries',\n",
       " 21: u'Grooming (Collection of 6,9,12,22)',\n",
       " 22: u'put clothes in washingmachine',\n",
       " 23: u'unload washingmachine',\n",
       " 25: u'receive guest',\n",
       " 26: u'watch tv',\n",
       " 27: u'read paper',\n",
       " 28: u'relax',\n",
       " 30: u'Unknown'}"
      ]
     },
     "execution_count": 371,
     "metadata": {},
     "output_type": "execute_result"
    }
   ],
   "source": [
    "temp = label_mat['activity_labels']\n",
    "act_labels = {}\n",
    "for i,item in enumerate(temp):\n",
    "    if len(item[0]) != 0:\n",
    "        act_labels[i+1] = item[0][0]\n",
    "act_labels"
   ]
  },
  {
   "cell_type": "code",
   "execution_count": 372,
   "metadata": {
    "collapsed": true
   },
   "outputs": [],
   "source": [
    "if house == 'B':\n",
    "    sensor_df = sensor_df[sensor_df.label != 23]\n",
    "    act_df = act_df[act_df.label != 16]"
   ]
  },
  {
   "cell_type": "code",
   "execution_count": 373,
   "metadata": {
    "collapsed": false
   },
   "outputs": [],
   "source": [
    "temp = []\n",
    "for l in sensor_df.label:\n",
    "    temp.append(sensor_labels[int(l)])\n",
    "sensor_df['meaning'] = temp"
   ]
  },
  {
   "cell_type": "code",
   "execution_count": 374,
   "metadata": {
    "collapsed": false
   },
   "outputs": [
    {
     "data": {
      "text/html": [
       "<div>\n",
       "<table border=\"1\" class=\"dataframe\">\n",
       "  <thead>\n",
       "    <tr style=\"text-align: right;\">\n",
       "      <th></th>\n",
       "      <th>start_time</th>\n",
       "      <th>end_time</th>\n",
       "      <th>start_sec</th>\n",
       "      <th>end_sec</th>\n",
       "      <th>diff_sec</th>\n",
       "      <th>on</th>\n",
       "      <th>label</th>\n",
       "      <th>meaning</th>\n",
       "    </tr>\n",
       "  </thead>\n",
       "  <tbody>\n",
       "    <tr>\n",
       "      <th>0</th>\n",
       "      <td>2008-11-19 17:47:46</td>\n",
       "      <td>2008-11-19 17:49:17</td>\n",
       "      <td>1227134866</td>\n",
       "      <td>1227134957</td>\n",
       "      <td>91</td>\n",
       "      <td>1</td>\n",
       "      <td>28</td>\n",
       "      <td>voordeur, reed</td>\n",
       "    </tr>\n",
       "    <tr>\n",
       "      <th>1</th>\n",
       "      <td>2008-11-19 17:49:20</td>\n",
       "      <td>2008-11-19 17:49:22</td>\n",
       "      <td>1227134960</td>\n",
       "      <td>1227134962</td>\n",
       "      <td>2</td>\n",
       "      <td>1</td>\n",
       "      <td>28</td>\n",
       "      <td>voordeur, reed</td>\n",
       "    </tr>\n",
       "    <tr>\n",
       "      <th>2</th>\n",
       "      <td>2008-11-19 17:49:24</td>\n",
       "      <td>2008-11-19 17:50:14</td>\n",
       "      <td>1227134964</td>\n",
       "      <td>1227135014</td>\n",
       "      <td>50</td>\n",
       "      <td>1</td>\n",
       "      <td>28</td>\n",
       "      <td>voordeur, reed</td>\n",
       "    </tr>\n",
       "    <tr>\n",
       "      <th>3</th>\n",
       "      <td>2008-11-19 17:50:18</td>\n",
       "      <td>2008-11-20 06:14:11</td>\n",
       "      <td>1227135018</td>\n",
       "      <td>1227179651</td>\n",
       "      <td>44633</td>\n",
       "      <td>1</td>\n",
       "      <td>28</td>\n",
       "      <td>voordeur, reed</td>\n",
       "    </tr>\n",
       "    <tr>\n",
       "      <th>4</th>\n",
       "      <td>2008-11-19 17:51:02</td>\n",
       "      <td>2008-11-19 17:51:04</td>\n",
       "      <td>1227135062</td>\n",
       "      <td>1227135064</td>\n",
       "      <td>2</td>\n",
       "      <td>1</td>\n",
       "      <td>25</td>\n",
       "      <td>deur toilet beneden</td>\n",
       "    </tr>\n",
       "  </tbody>\n",
       "</table>\n",
       "</div>"
      ],
      "text/plain": [
       "            start_time             end_time   start_sec     end_sec  diff_sec  \\\n",
       "0  2008-11-19 17:47:46  2008-11-19 17:49:17  1227134866  1227134957        91   \n",
       "1  2008-11-19 17:49:20  2008-11-19 17:49:22  1227134960  1227134962         2   \n",
       "2  2008-11-19 17:49:24  2008-11-19 17:50:14  1227134964  1227135014        50   \n",
       "3  2008-11-19 17:50:18  2008-11-20 06:14:11  1227135018  1227179651     44633   \n",
       "4  2008-11-19 17:51:02  2008-11-19 17:51:04  1227135062  1227135064         2   \n",
       "\n",
       "   on  label              meaning  \n",
       "0   1     28      voordeur, reed   \n",
       "1   1     28      voordeur, reed   \n",
       "2   1     28      voordeur, reed   \n",
       "3   1     28      voordeur, reed   \n",
       "4   1     25  deur toilet beneden  "
      ]
     },
     "execution_count": 374,
     "metadata": {},
     "output_type": "execute_result"
    }
   ],
   "source": [
    "sensor_df.head()"
   ]
  },
  {
   "cell_type": "code",
   "execution_count": 375,
   "metadata": {
    "collapsed": false
   },
   "outputs": [],
   "source": [
    "temp = []\n",
    "for l in act_df.label:\n",
    "    temp.append(act_labels[int(l)])\n",
    "act_df['meaning'] = temp"
   ]
  },
  {
   "cell_type": "code",
   "execution_count": 376,
   "metadata": {
    "collapsed": false
   },
   "outputs": [
    {
     "data": {
      "text/html": [
       "<div>\n",
       "<table border=\"1\" class=\"dataframe\">\n",
       "  <thead>\n",
       "    <tr style=\"text-align: right;\">\n",
       "      <th></th>\n",
       "      <th>start_time</th>\n",
       "      <th>end_time</th>\n",
       "      <th>start_sec</th>\n",
       "      <th>end_sec</th>\n",
       "      <th>diff_sec</th>\n",
       "      <th>label</th>\n",
       "      <th>meaning</th>\n",
       "    </tr>\n",
       "  </thead>\n",
       "  <tbody>\n",
       "    <tr>\n",
       "      <th>0</th>\n",
       "      <td>2008-11-19 17:49:00</td>\n",
       "      <td>2008-11-19 17:49:59</td>\n",
       "      <td>1227134940</td>\n",
       "      <td>1227134999</td>\n",
       "      <td>59</td>\n",
       "      <td>1</td>\n",
       "      <td>leave house</td>\n",
       "    </tr>\n",
       "    <tr>\n",
       "      <th>1</th>\n",
       "      <td>2008-11-19 17:50:40</td>\n",
       "      <td>2008-11-19 17:51:45</td>\n",
       "      <td>1227135040</td>\n",
       "      <td>1227135105</td>\n",
       "      <td>65</td>\n",
       "      <td>4</td>\n",
       "      <td>use toilet downstairs</td>\n",
       "    </tr>\n",
       "    <tr>\n",
       "      <th>2</th>\n",
       "      <td>2008-11-19 17:59:25</td>\n",
       "      <td>2008-11-19 18:00:00</td>\n",
       "      <td>1227135565</td>\n",
       "      <td>1227135600</td>\n",
       "      <td>35</td>\n",
       "      <td>17</td>\n",
       "      <td>get drink</td>\n",
       "    </tr>\n",
       "    <tr>\n",
       "      <th>3</th>\n",
       "      <td>2008-11-19 18:00:50</td>\n",
       "      <td>2008-11-19 20:24:59</td>\n",
       "      <td>1227135650</td>\n",
       "      <td>1227144299</td>\n",
       "      <td>8649</td>\n",
       "      <td>28</td>\n",
       "      <td>relax</td>\n",
       "    </tr>\n",
       "    <tr>\n",
       "      <th>4</th>\n",
       "      <td>2008-11-19 19:14:50</td>\n",
       "      <td>2008-11-19 19:15:19</td>\n",
       "      <td>1227140090</td>\n",
       "      <td>1227140119</td>\n",
       "      <td>29</td>\n",
       "      <td>17</td>\n",
       "      <td>get drink</td>\n",
       "    </tr>\n",
       "  </tbody>\n",
       "</table>\n",
       "</div>"
      ],
      "text/plain": [
       "            start_time             end_time   start_sec     end_sec  diff_sec  \\\n",
       "0  2008-11-19 17:49:00  2008-11-19 17:49:59  1227134940  1227134999        59   \n",
       "1  2008-11-19 17:50:40  2008-11-19 17:51:45  1227135040  1227135105        65   \n",
       "2  2008-11-19 17:59:25  2008-11-19 18:00:00  1227135565  1227135600        35   \n",
       "3  2008-11-19 18:00:50  2008-11-19 20:24:59  1227135650  1227144299      8649   \n",
       "4  2008-11-19 19:14:50  2008-11-19 19:15:19  1227140090  1227140119        29   \n",
       "\n",
       "   label                meaning  \n",
       "0      1            leave house  \n",
       "1      4  use toilet downstairs  \n",
       "2     17              get drink  \n",
       "3     28                  relax  \n",
       "4     17              get drink  "
      ]
     },
     "execution_count": 376,
     "metadata": {},
     "output_type": "execute_result"
    }
   ],
   "source": [
    "act_df.head()"
   ]
  },
  {
   "cell_type": "code",
   "execution_count": 377,
   "metadata": {
    "collapsed": true
   },
   "outputs": [],
   "source": [
    "sensor_df.to_csv(\"../data/house{}_sensor.csv\".format(house), index=False)\n",
    "act_df.to_csv(\"../data/house{}_act.csv\".format(house), index=False)"
   ]
  },
  {
   "cell_type": "markdown",
   "metadata": {},
   "source": [
    "## 1.2. Data Discretization\n",
    "### - Use different house data by setting house to A or B or C\n",
    "\n",
    "After some experiments, data was discretized into T time slices of length $\\Delta t =60$ seconds which is long enough to be discriminative and gives a relative small discretization error. When two or more activities occur within a single time slice, we used the activity that occupies most of the time slice. "
   ]
  },
  {
   "cell_type": "code",
   "execution_count": 8,
   "metadata": {
    "collapsed": true
   },
   "outputs": [],
   "source": [
    "timeslice = 60"
   ]
  },
  {
   "cell_type": "code",
   "execution_count": 9,
   "metadata": {
    "collapsed": false
   },
   "outputs": [],
   "source": [
    "#####\n",
    "#select a house, 'A', 'B', or 'C'\n",
    "#####\n",
    "house = 'A'\n",
    "act_df = pd.read_csv(\"../data/house{}_act.csv\".format(house))\n",
    "sensor_df = pd.read_csv(\"../data/house{}_sensor.csv\".format(house))"
   ]
  },
  {
   "cell_type": "code",
   "execution_count": 10,
   "metadata": {
    "collapsed": false
   },
   "outputs": [],
   "source": [
    "start = min(min(act_df.start_sec), min(sensor_df.start_sec))\n",
    "end = max(max(act_df.end_sec), max(sensor_df.end_sec))\n",
    "if (end-start)%timeslice != 0:\n",
    "    end = (1+(end-start)/timeslice)*timeslice + start\n",
    "duration = end-start"
   ]
  },
  {
   "cell_type": "code",
   "execution_count": 11,
   "metadata": {
    "collapsed": false
   },
   "outputs": [
    {
     "name": "stdout",
     "output_type": "stream",
     "text": [
      "# sensors:  14\n",
      "# states/acts:  16\n",
      "# timeframes:  40006\n"
     ]
    }
   ],
   "source": [
    "num_sensor = len(list(set(sensor_df.label)))\n",
    "num_act = len(list(set(act_df.label)))\n",
    "num_t = duration/timeslice\n",
    "print \"# sensors: \", num_sensor\n",
    "print \"# states/acts: \", num_act\n",
    "print \"# timeframes: \", num_t"
   ]
  },
  {
   "cell_type": "markdown",
   "metadata": {},
   "source": [
    "## 1.2 Activity Array\n",
    "### ---Hidden States\n",
    "\n",
    "The hidden state(activity) is denoted with $y_t \\in \\{1,2, ..., D\\}$ for D possible hidden states. "
   ]
  },
  {
   "cell_type": "code",
   "execution_count": 12,
   "metadata": {
    "collapsed": false
   },
   "outputs": [
    {
     "name": "stdout",
     "output_type": "stream",
     "text": [
      "label:16.0, meaning:get snack, count:12\n",
      "label:22.0, meaning:put clothes in washingmachine, count:3\n",
      "label:6.0, meaning:brush teeth, count:16\n",
      "label:17.0, meaning:get drink, count:20\n",
      "label:23.0, meaning:unload washingmachine, count:4\n",
      "label:4.0, meaning:use toilet, count:114\n",
      "label:5.0, meaning:take shower, count:23\n",
      "label:15.0, meaning:prepare Dinner, count:9\n",
      "label:10.0, meaning:go to bed, count:24\n",
      "label:19.0, meaning:unload dishwasher, count:4\n",
      "label:20.0, meaning:store groceries, count:1\n",
      "label:1.0, meaning:leave house, count:33\n",
      "label:25.0, meaning:receive guest, count:3\n",
      "label:18.0, meaning:put items in dishwasher, count:5\n",
      "label:13.0, meaning:prepare Breakfast, count:20\n",
      "label:3.0, meaning:Eating, count:1\n"
     ]
    }
   ],
   "source": [
    "#check counts\n",
    "temp = list(set(zip(act_df.label, act_df.meaning)))\n",
    "for y in temp:\n",
    "    print \"label:{}, meaning:{}, count:{}\".format(y[0], y[1], sum(act_df.label==y[0]))"
   ]
  },
  {
   "cell_type": "code",
   "execution_count": 13,
   "metadata": {
    "collapsed": true
   },
   "outputs": [],
   "source": [
    "Y = np.zeros(num_t)"
   ]
  },
  {
   "cell_type": "code",
   "execution_count": 14,
   "metadata": {
    "collapsed": false
   },
   "outputs": [],
   "source": [
    "for j in range(num_t):\n",
    "    c = j*timeslice + start\n",
    "    c_ = c + timeslice\n",
    "    mask = ((act_df.start_sec <= c_) & (act_df.end_sec >= c_)) | ((act_df.start_sec <= c) & (act_df.end_sec >= c))\n",
    "    temp_df = act_df[mask]\n",
    "    max_cover = 0\n",
    "    max_label = 0 #default, unknown act\n",
    "    for i in range(len(temp_df)):\n",
    "        s = np.array(temp_df.start_sec)[i]\n",
    "        t = np.array(temp_df.end_sec)[i]\n",
    "        l = np.array(temp_df.label)[i]\n",
    "        \n",
    "        if s <= c and t >= c_:\n",
    "            max_cover = timeslice\n",
    "            max_label = l\n",
    "            break\n",
    "        elif s > c and t < c_ and (t-s) > max_cover:\n",
    "            max_cover = t-s\n",
    "            max_label = l\n",
    "        elif s<=c and t>=c and (t-c) > max_cover:\n",
    "            max_cover = t-c\n",
    "            max_label = l\n",
    "        elif s<=c_ and t>=c_ and (c_-s) > max_cover:\n",
    "            max_cover = c_-s\n",
    "            max_label = l\n",
    "    Y[j] = max_label\n",
    "            "
   ]
  },
  {
   "cell_type": "markdown",
   "metadata": {},
   "source": [
    "## 1.3 Feature Representation\n",
    "\n",
    "In a house dataset, with N sensors installed, we define a binary observation state vector at time t as $x_{t} = (x_{t1}, x_{t2}, ... , x_{tN})^T$. We tried 3 different ways to represent the observation states.\n",
    "<img src=\"plot/feature.png\">\n",
    "\n",
    "As shown in the graph above, \n",
    "\n",
    "(a) is our raw data feature representation which gives 1 when the sensor is firing and a 0 otherwise.  \n",
    "\n",
    "(b) is ChangePoint feature representation, which indicates the moment when a sensor changes its value. \n",
    "\n",
    "(c) is LastSensor feature representation. It indicates which sensor fired last. The sensor that changed state last continues to give 1 and only changes to 0 when another sensor changes its value."
   ]
  },
  {
   "cell_type": "markdown",
   "metadata": {},
   "source": [
    "### 1.3.1 Raw\n",
    "\n",
    "The raw sensor representation uses the sensor data directly as it was received from the sensors. It gives a 1 when the sensor is firing and a 0 otherwise.\n",
    "\n",
    "**X_raw** is a num_t-by-num_sensor matrix, where rows are times and columns are features(or sensors). The maps of sensors to index can be found by the dictionary. "
   ]
  },
  {
   "cell_type": "code",
   "execution_count": 17,
   "metadata": {
    "collapsed": false
   },
   "outputs": [
    {
     "data": {
      "text/plain": [
       "{1.0: 0,\n",
       " 5.0: 1,\n",
       " 6.0: 2,\n",
       " 7.0: 3,\n",
       " 8.0: 4,\n",
       " 9.0: 5,\n",
       " 12.0: 6,\n",
       " 13.0: 7,\n",
       " 14.0: 8,\n",
       " 17.0: 9,\n",
       " 18.0: 10,\n",
       " 20.0: 11,\n",
       " 23.0: 12,\n",
       " 24.0: 13}"
      ]
     },
     "execution_count": 17,
     "metadata": {},
     "output_type": "execute_result"
    }
   ],
   "source": [
    "#map from sensor to idx and idx to sensor\n",
    "i2s = dict(zip(range(num_sensor), list(set(sensor_df.label))))\n",
    "s2i = dict(zip(list(set(sensor_df.label)), range(num_sensor)))\n",
    "s2i"
   ]
  },
  {
   "cell_type": "code",
   "execution_count": 18,
   "metadata": {
    "collapsed": false
   },
   "outputs": [],
   "source": [
    "#each row = (x1, x2, .. xn), n=num_sensor\n",
    "X_raw = np.zeros([num_t, num_sensor])\n",
    "for i in range(len(sensor_df)):\n",
    "    elapsed = sensor_df.start_sec[i] - start\n",
    "    row = elapsed/timeslice\n",
    "    label = sensor_df.label[i]\n",
    "    diff = sensor_df.diff_sec[i]\n",
    "    while diff > 0:\n",
    "        X_raw[row, s2i[label]] = 1\n",
    "        row = row + 1\n",
    "        diff = diff - timeslice"
   ]
  },
  {
   "cell_type": "markdown",
   "metadata": {},
   "source": [
    "### 1.3.2 ChangePoint\n",
    "\n",
    "The change point representation indicates when a sensor event takes place. That is, it indicates when a sensor changes value. More formally, it gives a 1 when a sensor changes state (i.e. goes from zero to one or vice versa) and a 0 otherwise.\n",
    "\n",
    "**X_change** is a num_t-by-num_sensor matrix, where rows are times and columns are features(or sensors). The maps of sensors to index can be found by the dictionary. "
   ]
  },
  {
   "cell_type": "code",
   "execution_count": 19,
   "metadata": {
    "collapsed": true
   },
   "outputs": [],
   "source": [
    "X_change = np.zeros([num_t, num_sensor])\n",
    "X_change[0] = X_raw[0]\n",
    "for i in range(1, num_t):\n",
    "    curr = X_raw[i]\n",
    "    prev = X_raw[i-1]\n",
    "    logic = curr==prev\n",
    "    X_change[i] = [1-int(x) for x in logic]"
   ]
  },
  {
   "cell_type": "code",
   "execution_count": 20,
   "metadata": {
    "collapsed": false
   },
   "outputs": [
    {
     "name": "stdout",
     "output_type": "stream",
     "text": [
      "ones in X_raw:  52053.0\n",
      "ones in X_change:  1531.0\n"
     ]
    }
   ],
   "source": [
    "print \"ones in X_raw: \", sum(sum(X_raw))\n",
    "print \"ones in X_change: \", sum(sum(X_change))"
   ]
  },
  {
   "cell_type": "markdown",
   "metadata": {},
   "source": [
    "### 1.3.3 LastSensor\n",
    "The last-fired sensor representation indicates which sensor fired last. The sensor that changed state last continues to give 1 and changes to 0 when another sensor changes state.\n",
    "**X_last** is a num_t-by-num_sensor matrix, where rows are times and columns are features(or sensors). The maps of sensors to index can be found by the dictionary. "
   ]
  },
  {
   "cell_type": "code",
   "execution_count": 21,
   "metadata": {
    "collapsed": true
   },
   "outputs": [],
   "source": [
    "X_last = np.zeros([num_t, num_sensor])\n",
    "X_last[0] = X_change[0]\n",
    "#sensor index\n",
    "s_ind = list(X_change[0]).index(1.)\n",
    "for i in range(1, num_t):\n",
    "    if 1 in X_change[i]: s_ind = list(X_change[i]).index(1.)\n",
    "    X_last[i][s_ind] = 1.   "
   ]
  },
  {
   "cell_type": "markdown",
   "metadata": {
    "collapsed": true
   },
   "source": [
    "## 1.4 Save Files \n",
    "### (only need to be done once)"
   ]
  },
  {
   "cell_type": "code",
   "execution_count": 22,
   "metadata": {
    "collapsed": true
   },
   "outputs": [],
   "source": [
    "np.save(\"../data/X_raw_house{}.npy\".format(house), X_raw)\n",
    "np.save(\"../data/X_change_house{}.npy\".format(house), X_change)\n",
    "np.save(\"../data/X_last_house{}.npy\".format(house), X_last)\n",
    "np.save(\"../data/Y_house{}.npy\".format(house), Y)"
   ]
  }
 ],
 "metadata": {
  "kernelspec": {
   "display_name": "Python 2",
   "language": "python",
   "name": "python2"
  },
  "language_info": {
   "codemirror_mode": {
    "name": "ipython",
    "version": 2
   },
   "file_extension": ".py",
   "mimetype": "text/x-python",
   "name": "python",
   "nbconvert_exporter": "python",
   "pygments_lexer": "ipython2",
   "version": "2.7.11"
  },
  "name": "_merged"
 },
 "nbformat": 4,
 "nbformat_minor": 0
}
