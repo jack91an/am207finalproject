{
 "cells": [
  {
   "cell_type": "code",
   "execution_count": 1,
   "metadata": {
    "collapsed": true
   },
   "outputs": [],
   "source": [
    "import pandas as pd\n",
    "import numpy as np\n",
    "import matplotlib.pyplot as plt\n",
    "%matplotlib inline"
   ]
  },
  {
   "cell_type": "code",
   "execution_count": 2,
   "metadata": {
    "collapsed": false
   },
   "outputs": [],
   "source": [
    "houses = ['A', 'B', 'C']\n",
    "xtype_dict = {'r':'raw', 'c':'change'}"
   ]
  },
  {
   "cell_type": "code",
   "execution_count": 3,
   "metadata": {
    "collapsed": true
   },
   "outputs": [],
   "source": [
    "def read_data(house, xtype):\n",
    "    assert house in houses\n",
    "    assert xtype in xtype_dict\n",
    "    \n",
    "    act_df = pd.read_csv(\"house{}_act.csv\".format(house))\n",
    "    sensor_df = pd.read_csv(\"house{}_sensor.csv\".format(house))\n",
    "    X = np.load(\"X_{}_house{}.npy\".format(xtype_dict[xtype], house))\n",
    "    Y = np.load(\"Y_house{}.npy\".format(house))\n",
    "    return act_df, sensor_df, X, Y"
   ]
  },
  {
   "cell_type": "code",
   "execution_count": 4,
   "metadata": {
    "collapsed": false
   },
   "outputs": [],
   "source": [
    "#read in data\n",
    "house = 'C'\n",
    "t = 'c'\n",
    "act_df,sensor_df,X,Y = read_data(house, t)"
   ]
  },
  {
   "cell_type": "code",
   "execution_count": 5,
   "metadata": {
    "collapsed": true
   },
   "outputs": [],
   "source": [
    "#build 4 dict, act to idx, idx to act, sensor to idx, idx to sensor\n",
    "all_act = list(set(act_df.label)) + [0] #all the act labels\n",
    "a2i = dict(zip(all_act, range(len(all_act))))\n",
    "i2a = dict(zip(range(len(all_act)), all_act))\n",
    "\n",
    "all_sensor = list(set(sensor_df.label)) #all the sensor labels\n",
    "i2s = dict(zip(range(len(all_sensor)), all_sensor))\n",
    "s2i = dict(zip(all_sensor, range(len(all_sensor))))"
   ]
  },
  {
   "cell_type": "code",
   "execution_count": 6,
   "metadata": {
    "collapsed": false
   },
   "outputs": [
    {
     "name": "stdout",
     "output_type": "stream",
     "text": [
      "# sensors:  21\n",
      "# states/acts:  18\n",
      "# timeframes:  26488\n"
     ]
    }
   ],
   "source": [
    "print \"# sensors: \", len(all_sensor)\n",
    "print \"# states/acts: \", len(all_act)\n",
    "print \"# timeframes: \", len(X)"
   ]
  },
  {
   "cell_type": "code",
   "execution_count": 7,
   "metadata": {
    "collapsed": false
   },
   "outputs": [
    {
     "data": {
      "text/plain": [
       "[1.0,\n",
       " 3.0,\n",
       " 4.0,\n",
       " 5.0,\n",
       " 6.0,\n",
       " 7.0,\n",
       " 9.0,\n",
       " 10.0,\n",
       " 11.0,\n",
       " 12.0,\n",
       " 13.0,\n",
       " 14.0,\n",
       " 15.0,\n",
       " 16.0,\n",
       " 17.0,\n",
       " 22.0,\n",
       " 28.0,\n",
       " 0]"
      ]
     },
     "execution_count": 7,
     "metadata": {},
     "output_type": "execute_result"
    }
   ],
   "source": [
    "all_act"
   ]
  },
  {
   "cell_type": "code",
   "execution_count": 8,
   "metadata": {
    "collapsed": false
   },
   "outputs": [
    {
     "name": "stdout",
     "output_type": "stream",
     "text": [
      "C_Prior_A.npy                 Raw_Prior_A.npy               X_raw_houseB.npy              houseB_act.csv\r\n",
      "C_Prior_B.npy                 Raw_Prior_B.npy               X_raw_houseC.npy              houseB_sensor.csv\r\n",
      "C_Prior_C.npy                 Raw_Prior_C.npy               Y_houseA.npy                  houseC_act.csv\r\n",
      "Feature_Representation.ipynb  Starter_Code.ipynb            Y_houseB.npy                  houseC_sensor.csv\r\n",
      "Naive_Bayes_Part1.ipynb       X_change_houseA.npy           Y_houseC.npy                  muA.npy\r\n",
      "Naive_Bayes_Part2.ipynb       X_change_houseB.npy           \u001b[34mdatasets\u001b[m\u001b[m/                     muB.npy\r\n",
      "Preprocessing.ipynb           X_change_houseC.npy           houseA_act.csv                muC.npy\r\n",
      "RAW_PRIOR_new.ipynb           X_raw_houseA.npy              houseA_sensor.csv\r\n"
     ]
    }
   ],
   "source": [
    "ls"
   ]
  },
  {
   "cell_type": "code",
   "execution_count": 9,
   "metadata": {
    "collapsed": false
   },
   "outputs": [],
   "source": [
    "priorA = np.load('Raw_Prior_C.npy')"
   ]
  },
  {
   "cell_type": "code",
   "execution_count": 10,
   "metadata": {
    "collapsed": false
   },
   "outputs": [
    {
     "data": {
      "text/plain": [
       "array([[ 0.,  0.,  0., ...,  0.,  0.,  0.],\n",
       "       [ 0.,  0.,  0., ...,  0.,  0.,  0.],\n",
       "       [ 0.,  0.,  0., ...,  0.,  0.,  0.],\n",
       "       ..., \n",
       "       [ 0.,  0.,  0., ...,  0.,  0.,  0.],\n",
       "       [ 0.,  0.,  0., ...,  0.,  0.,  0.],\n",
       "       [ 0.,  0.,  0., ...,  0.,  0.,  0.]])"
      ]
     },
     "execution_count": 10,
     "metadata": {},
     "output_type": "execute_result"
    }
   ],
   "source": [
    "X[Y == all_act[0]]"
   ]
  },
  {
   "cell_type": "code",
   "execution_count": 11,
   "metadata": {
    "collapsed": false
   },
   "outputs": [],
   "source": [
    "miu = np.zeros([len(all_act), len(all_sensor)])\n",
    "for row in X[Y == all_act[0]]:\n",
    "    miu[0] += row"
   ]
  },
  {
   "cell_type": "code",
   "execution_count": 12,
   "metadata": {
    "collapsed": false
   },
   "outputs": [
    {
     "data": {
      "text/plain": [
       "11961"
      ]
     },
     "execution_count": 12,
     "metadata": {},
     "output_type": "execute_result"
    }
   ],
   "source": [
    "sum(Y == all_act[0])"
   ]
  },
  {
   "cell_type": "code",
   "execution_count": 13,
   "metadata": {
    "collapsed": false
   },
   "outputs": [
    {
     "data": {
      "text/plain": [
       "array([  8.36050497e-05,   0.00000000e+00,   0.00000000e+00,\n",
       "         7.02282418e-03,   0.00000000e+00,   0.00000000e+00,\n",
       "         2.50815149e-04,   0.00000000e+00,   1.67210099e-03,\n",
       "         1.67210099e-04,   0.00000000e+00,   0.00000000e+00,\n",
       "         0.00000000e+00,   0.00000000e+00,   1.67210099e-04,\n",
       "         0.00000000e+00,   0.00000000e+00,   7.52445448e-04,\n",
       "         8.36050497e-05,   0.00000000e+00,   0.00000000e+00])"
      ]
     },
     "execution_count": 13,
     "metadata": {},
     "output_type": "execute_result"
    }
   ],
   "source": [
    "miu[0]/11961"
   ]
  },
  {
   "cell_type": "markdown",
   "metadata": {},
   "source": [
    "## Naive Bayes"
   ]
  },
  {
   "cell_type": "code",
   "execution_count": 14,
   "metadata": {
    "collapsed": false
   },
   "outputs": [],
   "source": [
    "#each row represents sensors for a specific action i\n",
    "#each column is sensor j\n",
    "def calc_miu(X, Y, all_sensor=all_sensor, all_act=all_act):\n",
    "    assert len(X)==len(Y)\n",
    "    \n",
    "    num_act = len(all_act)\n",
    "    num_sensor = len(all_sensor)\n",
    "    miu = np.zeros([num_act, num_sensor])\n",
    "    for act in all_act:\n",
    "        sensor = X[Y==act]\n",
    "        for row in sensor:\n",
    "            miu[a2i[act]] += row\n",
    "        total = np.sum(Y==act)\n",
    "        if total != 0:\n",
    "            miu[a2i[act]] = miu[a2i[act]]/total\n",
    "#         else:\n",
    "#             miu[a2i[act]] = [1e-10]*len(miu[i])\n",
    "    #normalize\n",
    "#     for i,row in enumerate(miu):\n",
    "#         total = np.sum(row)\n",
    "#         if total != 0:\n",
    "#             miu[i] = miu[i]/total\n",
    "#         else:\n",
    "#             miu[i] = [1e-10]*len(miu[i])\n",
    "        \n",
    "    return miu"
   ]
  },
  {
   "cell_type": "code",
   "execution_count": 15,
   "metadata": {
    "collapsed": true
   },
   "outputs": [],
   "source": [
    "def max_like(miu, X, prior):\n",
    "    num_time = len(X)\n",
    "    num_act = len(miu)\n",
    "    prob = np.zeros((num_time, num_act))\n",
    "    for i in range(num_time):\n",
    "        sensor = X[i]\n",
    "        for j in range(num_act):\n",
    "            act = miu[j]\n",
    "            logp = 0\n",
    "            for k,s in enumerate(sensor):\n",
    "                if s == 1.:\n",
    "                    logp += np.log(act[k])\n",
    "                else:\n",
    "                    logp += np.log(1-act[k])\n",
    "            prob[i,j] = logp + np.log(prior[i , j])\n",
    "    return prob"
   ]
  },
  {
   "cell_type": "code",
   "execution_count": 16,
   "metadata": {
    "collapsed": false
   },
   "outputs": [],
   "source": [
    "def mle(matrix):\n",
    "    est = np.zeros(len(matrix))\n",
    "    for i,row in enumerate(matrix):\n",
    "        est[i] = np.argmax(row)\n",
    "    return est"
   ]
  },
  {
   "cell_type": "code",
   "execution_count": 17,
   "metadata": {
    "collapsed": false
   },
   "outputs": [
    {
     "name": "stdout",
     "output_type": "stream",
     "text": [
      "(26488, 18)\n"
     ]
    }
   ],
   "source": [
    "miu = calc_miu(X,Y)\n",
    "print priorA.shape\n",
    "likes = max_like(miu,X,priorA)\n",
    "result = mle(likes) #note: result is index, not label yet"
   ]
  },
  {
   "cell_type": "code",
   "execution_count": 18,
   "metadata": {
    "collapsed": false
   },
   "outputs": [
    {
     "data": {
      "text/plain": [
       "(26488, 18)"
      ]
     },
     "execution_count": 18,
     "metadata": {},
     "output_type": "execute_result"
    }
   ],
   "source": [
    "likes.shape"
   ]
  },
  {
   "cell_type": "code",
   "execution_count": 19,
   "metadata": {
    "collapsed": false
   },
   "outputs": [],
   "source": [
    "import seaborn as sns"
   ]
  },
  {
   "cell_type": "code",
   "execution_count": 20,
   "metadata": {
    "collapsed": false
   },
   "outputs": [
    {
     "name": "stdout",
     "output_type": "stream",
     "text": [
      "0,act label: 1.0, Y count:11961, estimate count:14076\n",
      "1,act label: 3.0, Y count:352, estimate count:44\n",
      "2,act label: 4.0, Y count:78, estimate count:237\n",
      "3,act label: 5.0, Y count:192, estimate count:406\n",
      "4,act label: 6.0, Y count:92, estimate count:24\n",
      "5,act label: 7.0, Y count:56, estimate count:133\n",
      "6,act label: 9.0, Y count:62, estimate count:55\n",
      "7,act label: 10.0, Y count:7760, estimate count:8975\n",
      "8,act label: 11.0, Y count:88, estimate count:90\n",
      "9,act label: 12.0, Y count:9, estimate count:149\n",
      "10,act label: 13.0, Y count:83, estimate count:639\n",
      "11,act label: 14.0, Y count:65, estimate count:30\n",
      "12,act label: 15.0, Y count:306, estimate count:110\n",
      "13,act label: 16.0, Y count:8, estimate count:67\n",
      "14,act label: 17.0, Y count:22, estimate count:89\n",
      "15,act label: 22.0, Y count:40, estimate count:38\n",
      "16,act label: 28.0, Y count:2457, estimate count:286\n",
      "17,act label: 0, Y count:2857, estimate count:1040\n"
     ]
    }
   ],
   "source": [
    "#convert index to label\n",
    "res_label = np.array([i2a[e] for e in result])\n",
    "for i,act in enumerate(all_act):\n",
    "    print \"{},act label: {}, Y count:{}, estimate count:{}\".format(i,act, sum(Y==act), sum(res_label==act))"
   ]
  },
  {
   "cell_type": "code",
   "execution_count": 21,
   "metadata": {
    "collapsed": false
   },
   "outputs": [
    {
     "data": {
      "text/plain": [
       "u'/Users/yuhantang/AM207Project/correct/am207finalproject/data'"
      ]
     },
     "execution_count": 21,
     "metadata": {},
     "output_type": "execute_result"
    }
   ],
   "source": [
    "pwd"
   ]
  },
  {
   "cell_type": "markdown",
   "metadata": {},
   "source": [
    "# Evaluation"
   ]
  },
  {
   "cell_type": "markdown",
   "metadata": {},
   "source": [
    "$$\\text{Precision} = \\frac{1}{N}\\sum^N_i \\frac{TP_i}{TI_i} $$\n",
    "$$\\text{Recall} = \\frac{1}{N}\\sum^N_i\\frac{TP_i}{TT_i} $$\n",
    "$$\\text{F-Measure} = \\frac{2 \\cdot precision \\cdot recal}{precision+recall} $$\n",
    "$$\\text{Accuracy} = \\frac{\\sum^N_i TP_i}{Total}$$"
   ]
  },
  {
   "cell_type": "code",
   "execution_count": 22,
   "metadata": {
    "collapsed": true
   },
   "outputs": [],
   "source": [
    "def precision(pred_label, Y):\n",
    "    all_label = list(set(Y))\n",
    "    N = len(all_label)\n",
    "    res = 0\n",
    "    for y in list(set(Y)):\n",
    "        TP = np.sum(pred_label[Y==y]==y)\n",
    "        TI = np.sum(pred_label==y)\n",
    "        if TI != 0:\n",
    "            res += (float(TP)/TI)\n",
    "    return float(res)/N\n",
    "\n",
    "def recall(pred_label, Y):\n",
    "    all_label = list(set(Y))\n",
    "    N = len(all_label)\n",
    "    res = 0\n",
    "    for y in list(set(Y)):\n",
    "        TP = np.sum(pred_label[Y==y]==y)\n",
    "        TT = np.sum(Y==y)\n",
    "        if TT != 0:\n",
    "            res += float(TP)/TT\n",
    "    return float(res)/N\n",
    "\n",
    "def f_score(pred_label, Y):\n",
    "    p = precision(pred_label, Y)\n",
    "    r = recall(pred_label, Y)\n",
    "    return 2*p*r/(p+r)\n",
    "\n",
    "def accuracy(pred_label, Y):\n",
    "    res = 0\n",
    "    all_label = list(set(Y))\n",
    "    for y in list(set(Y)):\n",
    "        TP = np.sum(pred_label[Y==y]==y)\n",
    "        res += TP\n",
    "    return float(res)/len(Y)"
   ]
  },
  {
   "cell_type": "code",
   "execution_count": 23,
   "metadata": {
    "collapsed": false
   },
   "outputs": [
    {
     "data": {
      "text/plain": [
       "0.19665418149626068"
      ]
     },
     "execution_count": 23,
     "metadata": {},
     "output_type": "execute_result"
    }
   ],
   "source": [
    "precision(res_label, Y)"
   ]
  },
  {
   "cell_type": "code",
   "execution_count": 24,
   "metadata": {
    "collapsed": false
   },
   "outputs": [
    {
     "data": {
      "text/plain": [
       "0.232955161867768"
      ]
     },
     "execution_count": 24,
     "metadata": {},
     "output_type": "execute_result"
    }
   ],
   "source": [
    "recall(res_label, Y)"
   ]
  },
  {
   "cell_type": "code",
   "execution_count": 25,
   "metadata": {
    "collapsed": false
   },
   "outputs": [
    {
     "data": {
      "text/plain": [
       "0.21327099789641424"
      ]
     },
     "execution_count": 25,
     "metadata": {},
     "output_type": "execute_result"
    }
   ],
   "source": [
    "f_score(res_label, Y)"
   ]
  },
  {
   "cell_type": "code",
   "execution_count": 26,
   "metadata": {
    "collapsed": false
   },
   "outputs": [
    {
     "data": {
      "text/plain": [
       "0.5889459377831471"
      ]
     },
     "execution_count": 26,
     "metadata": {},
     "output_type": "execute_result"
    }
   ],
   "source": [
    "accuracy(res_label, Y)"
   ]
  },
  {
   "cell_type": "code",
   "execution_count": 27,
   "metadata": {
    "collapsed": false
   },
   "outputs": [],
   "source": [
    "# #save miu\n",
    "np.save(\"mu{}.npy\".format(house), miu)"
   ]
  },
  {
   "cell_type": "code",
   "execution_count": 28,
   "metadata": {
    "collapsed": false
   },
   "outputs": [
    {
     "data": {
      "text/plain": [
       "(18, 21)"
      ]
     },
     "execution_count": 28,
     "metadata": {},
     "output_type": "execute_result"
    }
   ],
   "source": [
    "miu.shape"
   ]
  },
  {
   "cell_type": "code",
   "execution_count": null,
   "metadata": {
    "collapsed": true
   },
   "outputs": [],
   "source": []
  },
  {
   "cell_type": "code",
   "execution_count": null,
   "metadata": {
    "collapsed": true
   },
   "outputs": [],
   "source": []
  }
 ],
 "metadata": {
  "kernelspec": {
   "display_name": "Python 2",
   "language": "python",
   "name": "python2"
  },
  "language_info": {
   "codemirror_mode": {
    "name": "ipython",
    "version": 2
   },
   "file_extension": ".py",
   "mimetype": "text/x-python",
   "name": "python",
   "nbconvert_exporter": "python",
   "pygments_lexer": "ipython2",
   "version": "2.7.11"
  }
 },
 "nbformat": 4,
 "nbformat_minor": 0
}
