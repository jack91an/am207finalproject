{
 "cells": [
  {
   "cell_type": "code",
   "execution_count": 1,
   "metadata": {
    "collapsed": true
   },
   "outputs": [],
   "source": [
    "import pandas as pd\n",
    "import numpy as np\n",
    "import matplotlib.pyplot as plt\n",
    "%matplotlib inline"
   ]
  },
  {
   "cell_type": "markdown",
   "metadata": {},
   "source": [
    "## Creating 3 ways of feature representations\n",
    "\n",
    "\n",
    "\n",
    "***NOTE***\n",
    "\n",
    "-The timeslice length used here is 60 sec, which is proved to have good performance by paper\n",
    "\n",
    "-$\\vec{x_t^i}$ is a binary vector\n",
    "\n",
    "-according to the paper, $y_t = j$ means the state(i.e. act) $j$ takes most of the 60 secs, even if there are other states(i.e. acts) happening during this 60 secs\n",
    "\n",
    "-use different house data by setting house to A or B or C"
   ]
  },
  {
   "cell_type": "code",
   "execution_count": 2,
   "metadata": {
    "collapsed": true
   },
   "outputs": [],
   "source": [
    "timeslice = 60"
   ]
  },
  {
   "cell_type": "code",
   "execution_count": 44,
   "metadata": {
    "collapsed": false
   },
   "outputs": [],
   "source": [
    "#####\n",
    "#select a house, 'A', 'B', or 'C'\n",
    "#####\n",
    "house = 'B'\n",
    "act_df = pd.read_csv(\"house{}_act.csv\".format(house))\n",
    "sensor_df = pd.read_csv(\"house{}_sensor.csv\".format(house))"
   ]
  },
  {
   "cell_type": "code",
   "execution_count": 45,
   "metadata": {
    "collapsed": false
   },
   "outputs": [],
   "source": [
    "# #check duration of activities or sensors\n",
    "# plt.subplot(1,2,1)\n",
    "# plt.hist(act_df.diff_sec, bins=5);\n",
    "# plt.subplot(1,2,2)\n",
    "# plt.hist(sensor_df.diff_sec, bins=5);"
   ]
  },
  {
   "cell_type": "code",
   "execution_count": 46,
   "metadata": {
    "collapsed": false
   },
   "outputs": [],
   "source": [
    "start = min(min(act_df.start_sec), min(sensor_df.start_sec))\n",
    "end = max(max(act_df.end_sec), max(sensor_df.end_sec))\n",
    "if (end-start)%timeslice != 0:\n",
    "    end = (1+(end-start)/timeslice)*timeslice + start\n",
    "duration = end-start"
   ]
  },
  {
   "cell_type": "code",
   "execution_count": 47,
   "metadata": {
    "collapsed": false
   },
   "outputs": [
    {
     "name": "stdout",
     "output_type": "stream",
     "text": [
      "# sensors:  22\n",
      "# states/acts:  24\n",
      "# timeframes:  38900\n"
     ]
    }
   ],
   "source": [
    "num_sensor = len(list(set(sensor_df.label)))\n",
    "num_act = len(list(set(act_df.label)))\n",
    "num_t = duration/timeslice\n",
    "print \"# sensors: \", num_sensor\n",
    "print \"# states/acts: \", num_act\n",
    "print \"# timeframes: \", num_t"
   ]
  },
  {
   "cell_type": "markdown",
   "metadata": {},
   "source": [
    "### Activity array\n",
    "\n",
    "$y_t$ : activity at timeslice t \n",
    "\n",
    "0 means no activity\n",
    "\n",
    "non-zero means labelled activity"
   ]
  },
  {
   "cell_type": "code",
   "execution_count": 48,
   "metadata": {
    "collapsed": false
   },
   "outputs": [
    {
     "name": "stdout",
     "output_type": "stream",
     "text": [
      "label:42.0, meaning:Gwenn searches keys, count:1\n",
      "label:17.0, meaning:Get a drink, count:8\n",
      "label:5.0, meaning:Take shower, count:11\n",
      "label:6.0, meaning:Brush teeth, count:13\n",
      "label:36.0, meaning:On phone, count:1\n",
      "label:13.0, meaning:Prepare brunch, count:9\n",
      "label:38.0, meaning:Wash toaster, count:1\n",
      "label:32.0, meaning:Eat brunch, count:10\n",
      "label:10.0, meaning:Go to bed, count:14\n",
      "label:34.0, meaning:Unpacking, count:1\n",
      "label:29.0, meaning:Answering phone, count:2\n",
      "label:11.0, meaning:Get dressed, count:14\n",
      "label:33.0, meaning:Setting up sensors, count:1\n",
      "label:37.0, meaning:Fasten kitchen camera, count:5\n",
      "label:15.0, meaning:Prepare dinner, count:6\n",
      "label:1.0, meaning:Leaving the house, count:24\n",
      "label:24.0, meaning:Wash dishes, count:6\n",
      "label:9.0, meaning:Shaving, count:1\n",
      "label:44.0, meaning:Drop dish (No dishwash), count:3\n",
      "label:4.0, meaning:Use toilet, count:27\n",
      "label:43.0, meaning:Prepare for leaving, count:9\n",
      "label:40.0, meaning:Play piano, count:25\n",
      "label:35.0, meaning:Install sensor, count:2\n",
      "label:31.0, meaning:Eat dinner, count:5\n"
     ]
    }
   ],
   "source": [
    "#check counts\n",
    "temp = list(set(zip(act_df.label, act_df.meaning)))\n",
    "for y in temp:\n",
    "    print \"label:{}, meaning:{}, count:{}\".format(y[0], y[1], sum(act_df.label==y[0]))"
   ]
  },
  {
   "cell_type": "code",
   "execution_count": 49,
   "metadata": {
    "collapsed": true
   },
   "outputs": [],
   "source": [
    "Y = np.zeros(num_t)"
   ]
  },
  {
   "cell_type": "code",
   "execution_count": 50,
   "metadata": {
    "collapsed": false
   },
   "outputs": [],
   "source": [
    "for j in range(num_t):\n",
    "    c = j*timeslice + start\n",
    "    c_ = c + timeslice\n",
    "    mask = ((act_df.start_sec <= c_) & (act_df.end_sec >= c_)) | ((act_df.start_sec <= c) & (act_df.end_sec >= c))\n",
    "    temp_df = act_df[mask]\n",
    "    max_cover = 0\n",
    "    max_label = 0 #default, unknown act\n",
    "    for i in range(len(temp_df)):\n",
    "        s = np.array(temp_df.start_sec)[i]\n",
    "        t = np.array(temp_df.end_sec)[i]\n",
    "        l = np.array(temp_df.label)[i]\n",
    "        \n",
    "        if s <= c and t >= c_:\n",
    "            max_cover = timeslice\n",
    "            max_label = l\n",
    "            break\n",
    "        elif s > c and t < c_ and (t-s) > max_cover:\n",
    "            max_cover = t-s\n",
    "            max_label = l\n",
    "        elif s<=c and t>=c and (t-c) > max_cover:\n",
    "            max_cover = t-c\n",
    "            max_label = l\n",
    "        elif s<=c_ and t>=c_ and (c_-s) > max_cover:\n",
    "            max_cover = c_-s\n",
    "            max_label = l\n",
    "    Y[j] = max_label\n",
    "            "
   ]
  },
  {
   "cell_type": "code",
   "execution_count": 51,
   "metadata": {
    "collapsed": false
   },
   "outputs": [],
   "source": [
    "# #For house A, mannualy add eating\n",
    "# temp_df = act_df[act_df.label==3]\n",
    "# s = list(temp_df.start_sec)[0]\n",
    "# diff = list(temp_df.diff_sec)[0]\n",
    "# i = (s-start)/timeslice\n",
    "# while diff > 0:\n",
    "#     Y[i] = 3\n",
    "#     i += 1\n",
    "#     diff -= timeslice"
   ]
  },
  {
   "cell_type": "code",
   "execution_count": 52,
   "metadata": {
    "collapsed": false
   },
   "outputs": [],
   "source": [
    "# for y in list(set(act_df.label)):\n",
    "#     if np.sum(Y==y)==0:\n",
    "#         print y"
   ]
  },
  {
   "cell_type": "markdown",
   "metadata": {},
   "source": [
    "### Representation 1: raw data\n",
    "\n",
    "The raw sensor representation uses the sensor data directly as it was received from the sensors. It gives a 1 when the sensor is firing and a 0 otherwise.\n",
    "\n",
    "**X_raw** is a num_t-by-num_sensor matrix, where rows are times and columns are features(or sensors). The maps of sensors to index can be found by the dictionary. "
   ]
  },
  {
   "cell_type": "code",
   "execution_count": 53,
   "metadata": {
    "collapsed": false
   },
   "outputs": [
    {
     "data": {
      "text/plain": [
       "{1.0: 0,\n",
       " 3.0: 1,\n",
       " 5.0: 2,\n",
       " 6.0: 3,\n",
       " 7.0: 4,\n",
       " 9.0: 5,\n",
       " 10.0: 6,\n",
       " 12.0: 7,\n",
       " 13.0: 8,\n",
       " 14.0: 9,\n",
       " 15.0: 10,\n",
       " 16.0: 11,\n",
       " 18.0: 12,\n",
       " 19.0: 13,\n",
       " 20.0: 14,\n",
       " 21.0: 15,\n",
       " 22.0: 16,\n",
       " 24.0: 17,\n",
       " 25.0: 18,\n",
       " 26.0: 19,\n",
       " 27.0: 20,\n",
       " 28.0: 21}"
      ]
     },
     "execution_count": 53,
     "metadata": {},
     "output_type": "execute_result"
    }
   ],
   "source": [
    "#map from sensor to idx and idx to sensor\n",
    "i2s = dict(zip(range(num_sensor), list(set(sensor_df.label))))\n",
    "s2i = dict(zip(list(set(sensor_df.label)), range(num_sensor)))\n",
    "s2i"
   ]
  },
  {
   "cell_type": "code",
   "execution_count": 54,
   "metadata": {
    "collapsed": false
   },
   "outputs": [],
   "source": [
    "#each row = (x1, x2, .. xn), n=num_sensor\n",
    "X_raw = np.zeros([num_t, num_sensor])\n",
    "for i in range(len(sensor_df)):\n",
    "    elapsed = sensor_df.start_sec[i] - start\n",
    "    row = elapsed/timeslice\n",
    "    label = sensor_df.label[i]\n",
    "    diff = sensor_df.diff_sec[i]\n",
    "    while diff > 0:\n",
    "        X_raw[row, s2i[label]] = 1\n",
    "        row = row + 1\n",
    "        diff = diff - timeslice"
   ]
  },
  {
   "cell_type": "markdown",
   "metadata": {},
   "source": [
    "### Representation 2: changepoint\n",
    "\n",
    "The change point representation indicates when a sensor event takes place. That is, it indicates when a sensor changes value. More formally, it gives a 1 when a sensor changes state (i.e. goes from zero to one or vice versa) and a 0 otherwise.\n",
    "\n",
    "**X_change** is a num_t-by-num_sensor matrix, where rows are times and columns are features(or sensors). The maps of sensors to index can be found by the dictionary. "
   ]
  },
  {
   "cell_type": "code",
   "execution_count": 55,
   "metadata": {
    "collapsed": true
   },
   "outputs": [],
   "source": [
    "X_change = np.zeros([num_t, num_sensor])\n",
    "X_change[0] = X_raw[0]\n",
    "for i in range(1, num_t):\n",
    "    curr = X_raw[i]\n",
    "    prev = X_raw[i-1]\n",
    "    logic = curr==prev\n",
    "    X_change[i] = [1-int(x) for x in logic]"
   ]
  },
  {
   "cell_type": "code",
   "execution_count": 56,
   "metadata": {
    "collapsed": false
   },
   "outputs": [
    {
     "name": "stdout",
     "output_type": "stream",
     "text": [
      "ones in X_raw:  219822.0\n",
      "ones in X_change:  4381.0\n"
     ]
    }
   ],
   "source": [
    "print \"ones in X_raw: \", sum(sum(X_raw))\n",
    "print \"ones in X_change: \", sum(sum(X_change))"
   ]
  },
  {
   "cell_type": "markdown",
   "metadata": {},
   "source": [
    "### Representation3: Last Fired Data\n",
    "The last-fired sensor representation indicates which sensor fired last. The sensor that changed state last continues to give 1 and changes to 0 when another sensor changes state.\n",
    "**X_last** is a num_t-by-num_sensor matrix, where rows are times and columns are features(or sensors). The maps of sensors to index can be found by the dictionary. "
   ]
  },
  {
   "cell_type": "code",
   "execution_count": 57,
   "metadata": {
    "collapsed": true
   },
   "outputs": [],
   "source": [
    "X_last = np.zeros([num_t, num_sensor])\n",
    "X_last[0] = X_change[0]\n",
    "#sensor index\n",
    "s_ind = list(X_change[0]).index(1.)\n",
    "for i in range(1, num_t):\n",
    "    if 1 in X_change[i]: s_ind = list(X_change[i]).index(1.)\n",
    "    X_last[i][s_ind] = 1.   "
   ]
  },
  {
   "cell_type": "markdown",
   "metadata": {
    "collapsed": true
   },
   "source": [
    "## Save files (only need to be done once)"
   ]
  },
  {
   "cell_type": "code",
   "execution_count": 58,
   "metadata": {
    "collapsed": true
   },
   "outputs": [],
   "source": [
    "# np.save(\"X_raw_house{}.npy\".format(house), X_raw)\n",
    "# np.save(\"X_change_house{}.npy\".format(house), X_change)\n",
    "np.save(\"X_last_house{}.npy\".format(house), X_last)\n",
    "# np.save(\"Y_house{}.npy\".format(house), Y)"
   ]
  },
  {
   "cell_type": "code",
   "execution_count": null,
   "metadata": {
    "collapsed": true
   },
   "outputs": [],
   "source": []
  },
  {
   "cell_type": "code",
   "execution_count": null,
   "metadata": {
    "collapsed": true
   },
   "outputs": [],
   "source": []
  }
 ],
 "metadata": {
  "kernelspec": {
   "display_name": "Python 2",
   "language": "python",
   "name": "python2"
  },
  "language_info": {
   "codemirror_mode": {
    "name": "ipython",
    "version": 2
   },
   "file_extension": ".py",
   "mimetype": "text/x-python",
   "name": "python",
   "nbconvert_exporter": "python",
   "pygments_lexer": "ipython2",
   "version": "2.7.11"
  }
 },
 "nbformat": 4,
 "nbformat_minor": 0
}
