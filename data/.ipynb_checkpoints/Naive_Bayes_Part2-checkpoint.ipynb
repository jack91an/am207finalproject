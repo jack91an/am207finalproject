{
 "cells": [
  {
   "cell_type": "code",
   "execution_count": 67,
   "metadata": {
    "collapsed": true
   },
   "outputs": [],
   "source": [
    "import pandas as pd\n",
    "import numpy as np\n",
    "import seaborn as sns\n",
    "import matplotlib.pyplot as plt\n",
    "%matplotlib inline"
   ]
  },
  {
   "cell_type": "code",
   "execution_count": 68,
   "metadata": {
    "collapsed": false
   },
   "outputs": [
    {
     "data": {
      "text/plain": [
       "u'/Users/yuhantang/AM207Project/correct/am207finalproject/data'"
      ]
     },
     "execution_count": 68,
     "metadata": {},
     "output_type": "execute_result"
    }
   ],
   "source": [
    "pwd"
   ]
  },
  {
   "cell_type": "code",
   "execution_count": 69,
   "metadata": {
    "collapsed": false
   },
   "outputs": [],
   "source": [
    "houses = ['A', 'B', 'C']\n",
    "xtype_dict = {'r':'raw', 'c':'change','l':'last'}"
   ]
  },
  {
   "cell_type": "code",
   "execution_count": 70,
   "metadata": {
    "collapsed": true
   },
   "outputs": [],
   "source": [
    "def read_data(house, xtype):\n",
    "    assert house in houses\n",
    "    assert xtype in xtype_dict\n",
    "    \n",
    "    act_df = pd.read_csv(\"house{}_act.csv\".format(house))\n",
    "    sensor_df = pd.read_csv(\"house{}_sensor.csv\".format(house))\n",
    "    X = np.load(\"X_{}_house{}.npy\".format(xtype_dict[xtype], house))\n",
    "    Y = np.load(\"Y_house{}.npy\".format(house))\n",
    "    return act_df, sensor_df, X, Y"
   ]
  },
  {
   "cell_type": "code",
   "execution_count": 71,
   "metadata": {
    "collapsed": false
   },
   "outputs": [],
   "source": [
    "#each row represents sensors for a specific action i\n",
    "#each column is sensor j\n",
    "def calc_miu(X, Y, all_sensor, all_act):\n",
    "    assert len(X)==len(Y)\n",
    "    \n",
    "    num_act = len(all_act)\n",
    "    num_sensor = len(all_sensor)\n",
    "    miu = np.zeros([num_act, num_sensor])\n",
    "    for act in all_act:\n",
    "        sensor = X[Y==act]\n",
    "        for row in sensor:\n",
    "            miu[a2i[act]] += row\n",
    "        total = np.sum(Y==act)\n",
    "        if total != 0:\n",
    "            miu[a2i[act]] = miu[a2i[act]]/total\n",
    "#         else:\n",
    "#             miu[a2i[act]] = [1e-10]*len(miu[i])\n",
    "    #normalize\n",
    "#     for i,row in enumerate(miu):\n",
    "#         total = np.sum(row)\n",
    "#         if total != 0:\n",
    "#             miu[i] = miu[i]/total\n",
    "#         else:\n",
    "#             miu[i] = [1e-10]*len(miu[i])\n",
    "        \n",
    "    return miu"
   ]
  },
  {
   "cell_type": "code",
   "execution_count": 72,
   "metadata": {
    "collapsed": true
   },
   "outputs": [],
   "source": [
    "def max_posterior(miu, X, prior):\n",
    "    num_time = len(X)\n",
    "    num_act = len(miu)\n",
    "    prob = np.zeros((num_time, num_act))\n",
    "    for i in range(num_time):\n",
    "        sensor = X[i]\n",
    "        for j in range(num_act):\n",
    "            act = miu[j]\n",
    "            logp = 0\n",
    "            for k,s in enumerate(sensor):\n",
    "                if s == 1.:\n",
    "                    logp += np.log(act[k])\n",
    "                else:\n",
    "                    logp += np.log(1-act[k])\n",
    "            prob[i,j] = logp + np.log(prior[i , j])\n",
    "    return prob"
   ]
  },
  {
   "cell_type": "code",
   "execution_count": 73,
   "metadata": {
    "collapsed": false
   },
   "outputs": [],
   "source": [
    "def MAP(matrix):\n",
    "    est = np.zeros(len(matrix))\n",
    "    for i,row in enumerate(matrix):\n",
    "        est[i] = np.argmax(row)\n",
    "    return est"
   ]
  },
  {
   "cell_type": "code",
   "execution_count": 74,
   "metadata": {
    "collapsed": true
   },
   "outputs": [],
   "source": [
    "def precision(pred_label, Y):\n",
    "    all_label = list(set(Y))\n",
    "    N = len(all_label)\n",
    "    res = 0\n",
    "    for y in list(set(Y)):\n",
    "        TP = np.sum(pred_label[Y==y]==y)\n",
    "        TI = np.sum(pred_label==y)\n",
    "        if TI != 0:\n",
    "            res += (float(TP)/TI)\n",
    "    return float(res)/N\n",
    "\n",
    "def recall(pred_label, Y):\n",
    "    all_label = list(set(Y))\n",
    "    N = len(all_label)\n",
    "    res = 0\n",
    "    for y in list(set(Y)):\n",
    "        TP = np.sum(pred_label[Y==y]==y)\n",
    "        TT = np.sum(Y==y)\n",
    "        if TT != 0:\n",
    "            res += float(TP)/TT\n",
    "    return float(res)/N\n",
    "\n",
    "def f_score(pred_label, Y):\n",
    "    p = precision(pred_label, Y)\n",
    "    r = recall(pred_label, Y)\n",
    "    return 2*p*r/(p+r)\n",
    "\n",
    "def accuracy(pred_label, Y):\n",
    "    res = 0\n",
    "    all_label = list(set(Y))\n",
    "    for y in list(set(Y)):\n",
    "        TP = np.sum(pred_label[Y==y]==y)\n",
    "        res += TP\n",
    "    return float(res)/len(Y)"
   ]
  },
  {
   "cell_type": "markdown",
   "metadata": {},
   "source": [
    "# Raw house A MAP"
   ]
  },
  {
   "cell_type": "code",
   "execution_count": 75,
   "metadata": {
    "collapsed": false
   },
   "outputs": [
    {
     "name": "stdout",
     "output_type": "stream",
     "text": [
      "# sensors:  14\n",
      "# states/acts:  17\n",
      "# timeframes:  40006\n",
      "(40006, 17)\n",
      "0,act label: 1.0, Y count:19723, estimate count:20056\n",
      "1,act label: 3.0, Y count:0, estimate count:0\n",
      "2,act label: 4.0, Y count:220, estimate count:181\n",
      "3,act label: 5.0, Y count:240, estimate count:24\n",
      "4,act label: 6.0, Y count:31, estimate count:4\n",
      "5,act label: 10.0, Y count:11670, estimate count:13694\n",
      "6,act label: 13.0, Y count:71, estimate count:54\n",
      "7,act label: 15.0, Y count:292, estimate count:76\n",
      "8,act label: 16.0, Y count:33, estimate count:23\n",
      "9,act label: 17.0, Y count:21, estimate count:16\n",
      "10,act label: 18.0, Y count:38, estimate count:37\n",
      "11,act label: 19.0, Y count:25, estimate count:23\n",
      "12,act label: 20.0, Y count:2, estimate count:2\n",
      "13,act label: 22.0, Y count:10, estimate count:6\n",
      "14,act label: 23.0, Y count:11, estimate count:5\n",
      "15,act label: 25.0, Y count:454, estimate count:137\n",
      "16,act label: 0, Y count:7165, estimate count:5668\n"
     ]
    }
   ],
   "source": [
    "#read in data\n",
    "house = 'A'\n",
    "t = 'r'\n",
    "act_df,sensor_df,X,Y = read_data(house, t)\n",
    "\n",
    "#build 4 dict, act to idx, idx to act, sensor to idx, idx to sensor\n",
    "all_act = list(set(act_df.label)) + [0] #all the act labels\n",
    "a2i = dict(zip(all_act, range(len(all_act))))\n",
    "i2a = dict(zip(range(len(all_act)), all_act))\n",
    "\n",
    "all_sensor = list(set(sensor_df.label)) #all the sensor labels\n",
    "i2s = dict(zip(range(len(all_sensor)), all_sensor))\n",
    "s2i = dict(zip(all_sensor, range(len(all_sensor))))\n",
    "\n",
    "print \"# sensors: \", len(all_sensor)\n",
    "print \"# states/acts: \", len(all_act)\n",
    "print \"# timeframes: \", len(X)\n",
    "\n",
    "priorA = np.load('Prior_A.npy')\n",
    "\n",
    "miu = np.zeros([len(all_act), len(all_sensor)])\n",
    "for row in X[Y == all_act[0]]:\n",
    "    miu[0] += row\n",
    "\n",
    "miu = calc_miu(X,Y,all_sensor, all_act)\n",
    "print priorA.shape\n",
    "likes = max_posterior(miu,X,priorA)\n",
    "result = MAP(likes) #note: result is index, not label yet\n",
    "\n",
    "#convert index to label\n",
    "res_label = np.array([i2a[e] for e in result])\n",
    "for i,act in enumerate(all_act):\n",
    "    print \"{},act label: {}, Y count:{}, estimate count:{}\".format(i,act, sum(Y==act), sum(res_label==act))"
   ]
  },
  {
   "cell_type": "markdown",
   "metadata": {},
   "source": [
    "# Evaluation Raw A"
   ]
  },
  {
   "cell_type": "markdown",
   "metadata": {},
   "source": [
    "$$\\text{Precision} = \\frac{1}{N}\\sum^N_i \\frac{TP_i}{TI_i} $$\n",
    "$$\\text{Recall} = \\frac{1}{N}\\sum^N_i\\frac{TP_i}{TT_i} $$\n",
    "$$\\text{F-Measure} = \\frac{2 \\cdot precision \\cdot recal}{precision+recall} $$\n",
    "$$\\text{Accuracy} = \\frac{\\sum^N_i TP_i}{Total}$$"
   ]
  },
  {
   "cell_type": "code",
   "execution_count": 76,
   "metadata": {
    "collapsed": false
   },
   "outputs": [
    {
     "name": "stdout",
     "output_type": "stream",
     "text": [
      "Precision of house A is 0.827909600324\n",
      "recall of house A is 0.576325527602\n",
      "F score of house A is 0.679580545629\n",
      "Accuracy of house A is 0.775583662451\n"
     ]
    }
   ],
   "source": [
    "print 'Precision of house {} is {}'.format(house,precision(res_label, Y))\n",
    "print 'recall of house {} is {}'.format(house,recall(res_label, Y))\n",
    "print 'F score of house {} is {}'.format(house,f_score(res_label, Y))\n",
    "print 'Accuracy of house {} is {}'.format(house,accuracy(res_label, Y))"
   ]
  },
  {
   "cell_type": "markdown",
   "metadata": {},
   "source": [
    "# Raw house B MAP"
   ]
  },
  {
   "cell_type": "code",
   "execution_count": 82,
   "metadata": {
    "collapsed": false
   },
   "outputs": [
    {
     "name": "stdout",
     "output_type": "stream",
     "text": [
      "# sensors:  22\n",
      "# states/acts:  25\n",
      "# timeframes:  38900\n",
      "(38900, 25)\n",
      "0,act label: 1.0, Y count:12242, estimate count:10168\n",
      "1,act label: 4.0, Y count:49, estimate count:32\n",
      "2,act label: 5.0, Y count:115, estimate count:93\n",
      "3,act label: 6.0, Y count:30, estimate count:21\n",
      "4,act label: 9.0, Y count:9, estimate count:9\n",
      "5,act label: 10.0, Y count:6057, estimate count:5911\n",
      "6,act label: 11.0, Y count:28, estimate count:55\n",
      "7,act label: 13.0, Y count:85, estimate count:82\n",
      "8,act label: 15.0, Y count:90, estimate count:77\n",
      "9,act label: 17.0, Y count:6, estimate count:5\n",
      "10,act label: 24.0, Y count:27, estimate count:18\n",
      "11,act label: 29.0, Y count:30, estimate count:57\n",
      "12,act label: 31.0, Y count:50, estimate count:24\n",
      "13,act label: 32.0, Y count:137, estimate count:103\n",
      "14,act label: 33.0, Y count:35, estimate count:35\n",
      "15,act label: 34.0, Y count:38, estimate count:38\n",
      "16,act label: 35.0, Y count:77, estimate count:64\n",
      "17,act label: 36.0, Y count:4, estimate count:4\n",
      "18,act label: 37.0, Y count:14, estimate count:5\n",
      "19,act label: 38.0, Y count:3, estimate count:3\n",
      "20,act label: 40.0, Y count:475, estimate count:367\n",
      "21,act label: 42.0, Y count:10, estimate count:10\n",
      "22,act label: 43.0, Y count:30, estimate count:19\n",
      "23,act label: 44.0, Y count:3, estimate count:2\n",
      "24,act label: 0, Y count:19256, estimate count:21698\n"
     ]
    }
   ],
   "source": [
    "#read in data\n",
    "house = 'B'\n",
    "t = 'r'\n",
    "act_df,sensor_df,X,Y = read_data(house, t)\n",
    "\n",
    "#build 4 dict, act to idx, idx to act, sensor to idx, idx to sensor\n",
    "all_act = list(set(act_df.label)) + [0] #all the act labels\n",
    "a2i = dict(zip(all_act, range(len(all_act))))\n",
    "i2a = dict(zip(range(len(all_act)), all_act))\n",
    "\n",
    "all_sensor = list(set(sensor_df.label)) #all the sensor labels\n",
    "i2s = dict(zip(range(len(all_sensor)), all_sensor))\n",
    "s2i = dict(zip(all_sensor, range(len(all_sensor))))\n",
    "\n",
    "print \"# sensors: \", len(all_sensor)\n",
    "print \"# states/acts: \", len(all_act)\n",
    "print \"# timeframes: \", len(X)\n",
    "\n",
    "priorB = np.load('Prior_B.npy')\n",
    "\n",
    "miu = np.zeros([len(all_act), len(all_sensor)])\n",
    "for row in X[Y == all_act[0]]:\n",
    "    miu[0] += row\n",
    "\n",
    "miu = calc_miu(X,Y,all_sensor, all_act)\n",
    "print priorB.shape\n",
    "likes = max_posterior(miu,X,priorB)\n",
    "result = MAP(likes) #note: result is index, not label yet\n",
    "\n",
    "#convert index to label\n",
    "res_label = np.array([i2a[e] for e in result])\n",
    "for i,act in enumerate(all_act):\n",
    "    print \"{},act label: {}, Y count:{}, estimate count:{}\".format(i,act, sum(Y==act), sum(res_label==act))"
   ]
  },
  {
   "cell_type": "code",
   "execution_count": null,
   "metadata": {
    "collapsed": false
   },
   "outputs": [],
   "source": []
  },
  {
   "cell_type": "markdown",
   "metadata": {},
   "source": [
    "# Evaluation Raw B"
   ]
  },
  {
   "cell_type": "code",
   "execution_count": 83,
   "metadata": {
    "collapsed": false
   },
   "outputs": [
    {
     "name": "stdout",
     "output_type": "stream",
     "text": [
      "Precision of house B is 0.806193713717\n",
      "recall of house B is 0.71489999497\n",
      "F score of house B is 0.757807199635\n",
      "Accuracy of house B is 0.874652956298\n"
     ]
    }
   ],
   "source": [
    "print 'Precision of house {} is {}'.format(house,precision(res_label, Y))\n",
    "print 'recall of house {} is {}'.format(house,recall(res_label, Y))\n",
    "print 'F score of house {} is {}'.format(house,f_score(res_label, Y))\n",
    "print 'Accuracy of house {} is {}'.format(house,accuracy(res_label, Y))"
   ]
  },
  {
   "cell_type": "markdown",
   "metadata": {},
   "source": [
    "# Raw House C MAP"
   ]
  },
  {
   "cell_type": "code",
   "execution_count": 13,
   "metadata": {
    "collapsed": false
   },
   "outputs": [
    {
     "name": "stdout",
     "output_type": "stream",
     "text": [
      "# sensors:  21\n",
      "# states/acts:  18\n",
      "# timeframes:  26488\n",
      "(26488, 18)\n",
      "0,act label: 1.0, Y count:11961, estimate count:11622\n",
      "1,act label: 3.0, Y count:352, estimate count:189\n",
      "2,act label: 4.0, Y count:78, estimate count:257\n",
      "3,act label: 5.0, Y count:192, estimate count:508\n",
      "4,act label: 6.0, Y count:92, estimate count:395\n",
      "5,act label: 7.0, Y count:56, estimate count:173\n",
      "6,act label: 9.0, Y count:62, estimate count:379\n",
      "7,act label: 10.0, Y count:7760, estimate count:6625\n",
      "8,act label: 11.0, Y count:88, estimate count:267\n",
      "9,act label: 12.0, Y count:9, estimate count:886\n",
      "10,act label: 13.0, Y count:83, estimate count:353\n",
      "11,act label: 14.0, Y count:65, estimate count:349\n",
      "12,act label: 15.0, Y count:306, estimate count:139\n",
      "13,act label: 16.0, Y count:8, estimate count:537\n",
      "14,act label: 17.0, Y count:22, estimate count:349\n",
      "15,act label: 22.0, Y count:40, estimate count:83\n",
      "16,act label: 28.0, Y count:2457, estimate count:1457\n",
      "17,act label: 0, Y count:2857, estimate count:1920\n"
     ]
    }
   ],
   "source": [
    "#read in data\n",
    "house = 'C'\n",
    "t = 'r'\n",
    "act_df,sensor_df,X,Y = read_data(house, t)\n",
    "\n",
    "#build 4 dict, act to idx, idx to act, sensor to idx, idx to sensor\n",
    "all_act = list(set(act_df.label)) + [0] #all the act labels\n",
    "a2i = dict(zip(all_act, range(len(all_act))))\n",
    "i2a = dict(zip(range(len(all_act)), all_act))\n",
    "\n",
    "all_sensor = list(set(sensor_df.label)) #all the sensor labels\n",
    "i2s = dict(zip(range(len(all_sensor)), all_sensor))\n",
    "s2i = dict(zip(all_sensor, range(len(all_sensor))))\n",
    "\n",
    "print \"# sensors: \", len(all_sensor)\n",
    "print \"# states/acts: \", len(all_act)\n",
    "print \"# timeframes: \", len(X)\n",
    "\n",
    "priorC = np.load('Prior_C.npy')\n",
    "\n",
    "miu = np.zeros([len(all_act), len(all_sensor)])\n",
    "for row in X[Y == all_act[0]]:\n",
    "    miu[0] += row\n",
    "\n",
    "miu = calc_miu(X,Y,all_sensor, all_act)\n",
    "print priorC.shape\n",
    "likes = max_posterior(miu,X,priorC)\n",
    "result = MAP(likes) #note: result is index, not label yet\n",
    "\n",
    "#convert index to label\n",
    "res_label = np.array([i2a[e] for e in result])\n",
    "for i,act in enumerate(all_act):\n",
    "    print \"{},act label: {}, Y count:{}, estimate count:{}\".format(i,act, sum(Y==act), sum(res_label==act))"
   ]
  },
  {
   "cell_type": "code",
   "execution_count": 14,
   "metadata": {
    "collapsed": false
   },
   "outputs": [
    {
     "name": "stdout",
     "output_type": "stream",
     "text": [
      "Precision of house C is 0.165571904768\n",
      "recall of house C is 0.27077995426\n",
      "F score of house C is 0.20549266319\n",
      "Accuracy of house C is 0.528239202658\n"
     ]
    }
   ],
   "source": [
    "print 'Precision of house {} is {}'.format(house,precision(res_label, Y))\n",
    "print 'recall of house {} is {}'.format(house,recall(res_label, Y))\n",
    "print 'F score of house {} is {}'.format(house,f_score(res_label, Y))\n",
    "print 'Accuracy of house {} is {}'.format(house,accuracy(res_label, Y))"
   ]
  },
  {
   "cell_type": "markdown",
   "metadata": {
    "collapsed": true
   },
   "source": [
    "# Change House A MAP"
   ]
  },
  {
   "cell_type": "code",
   "execution_count": 77,
   "metadata": {
    "collapsed": false
   },
   "outputs": [
    {
     "name": "stdout",
     "output_type": "stream",
     "text": [
      "# sensors:  14\n",
      "# states/acts:  17\n",
      "# timeframes:  40006\n",
      "(40006, 17)\n",
      "0,act label: 1.0, Y count:19723, estimate count:22412\n",
      "1,act label: 3.0, Y count:0, estimate count:0\n",
      "2,act label: 4.0, Y count:220, estimate count:210\n",
      "3,act label: 5.0, Y count:240, estimate count:71\n",
      "4,act label: 6.0, Y count:31, estimate count:22\n",
      "5,act label: 10.0, Y count:11670, estimate count:15036\n",
      "6,act label: 13.0, Y count:71, estimate count:64\n",
      "7,act label: 15.0, Y count:292, estimate count:156\n",
      "8,act label: 16.0, Y count:33, estimate count:29\n",
      "9,act label: 17.0, Y count:21, estimate count:21\n",
      "10,act label: 18.0, Y count:38, estimate count:9\n",
      "11,act label: 19.0, Y count:25, estimate count:23\n",
      "12,act label: 20.0, Y count:2, estimate count:2\n",
      "13,act label: 22.0, Y count:10, estimate count:6\n",
      "14,act label: 23.0, Y count:11, estimate count:6\n",
      "15,act label: 25.0, Y count:454, estimate count:41\n",
      "16,act label: 0, Y count:7165, estimate count:1898\n"
     ]
    }
   ],
   "source": [
    "#read in data\n",
    "house = 'A'\n",
    "t = 'c'\n",
    "act_df,sensor_df,X,Y = read_data(house, t)\n",
    "\n",
    "#build 4 dict, act to idx, idx to act, sensor to idx, idx to sensor\n",
    "all_act = list(set(act_df.label)) + [0] #all the act labels\n",
    "a2i = dict(zip(all_act, range(len(all_act))))\n",
    "i2a = dict(zip(range(len(all_act)), all_act))\n",
    "\n",
    "all_sensor = list(set(sensor_df.label)) #all the sensor labels\n",
    "i2s = dict(zip(range(len(all_sensor)), all_sensor))\n",
    "s2i = dict(zip(all_sensor, range(len(all_sensor))))\n",
    "\n",
    "print \"# sensors: \", len(all_sensor)\n",
    "print \"# states/acts: \", len(all_act)\n",
    "print \"# timeframes: \", len(X)\n",
    "\n",
    "priorA = np.load('Prior_A.npy')\n",
    "\n",
    "miu = np.zeros([len(all_act), len(all_sensor)])\n",
    "for row in X[Y == all_act[0]]:\n",
    "    miu[0] += row\n",
    "\n",
    "miu = calc_miu(X,Y,all_sensor, all_act)\n",
    "print priorA.shape\n",
    "likes = max_posterior(miu,X,priorA)\n",
    "result = MAP(likes) #note: result is index, not label yet\n",
    "\n",
    "#convert index to label\n",
    "res_label = np.array([i2a[e] for e in result])\n",
    "for i,act in enumerate(all_act):\n",
    "    print \"{},act label: {}, Y count:{}, estimate count:{}\".format(i,act, sum(Y==act), sum(res_label==act))"
   ]
  },
  {
   "cell_type": "code",
   "execution_count": 78,
   "metadata": {
    "collapsed": false
   },
   "outputs": [
    {
     "name": "stdout",
     "output_type": "stream",
     "text": [
      "Precision of house A is 0.770766501191\n",
      "recall of house A is 0.575909143045\n",
      "F score of house A is 0.659240370298\n",
      "Accuracy of house A is 0.710318452232\n"
     ]
    }
   ],
   "source": [
    "print 'Precision of house {} is {}'.format(house,precision(res_label, Y))\n",
    "print 'recall of house {} is {}'.format(house,recall(res_label, Y))\n",
    "print 'F score of house {} is {}'.format(house,f_score(res_label, Y))\n",
    "print 'Accuracy of house {} is {}'.format(house,accuracy(res_label, Y))"
   ]
  },
  {
   "cell_type": "markdown",
   "metadata": {},
   "source": [
    "# Change House B MAP"
   ]
  },
  {
   "cell_type": "code",
   "execution_count": 93,
   "metadata": {
    "collapsed": false
   },
   "outputs": [
    {
     "name": "stdout",
     "output_type": "stream",
     "text": [
      "# sensors:  22\n",
      "# states/acts:  25\n",
      "# timeframes:  38900\n",
      "(38900, 25)\n",
      "0,act label: 1.0, Y count:12242, estimate count:9628\n",
      "1,act label: 4.0, Y count:49, estimate count:46\n",
      "2,act label: 5.0, Y count:115, estimate count:36\n",
      "3,act label: 6.0, Y count:30, estimate count:19\n",
      "4,act label: 9.0, Y count:9, estimate count:1\n",
      "5,act label: 10.0, Y count:6057, estimate count:740\n",
      "6,act label: 11.0, Y count:28, estimate count:23\n",
      "7,act label: 13.0, Y count:85, estimate count:51\n",
      "8,act label: 15.0, Y count:90, estimate count:57\n",
      "9,act label: 17.0, Y count:6, estimate count:6\n",
      "10,act label: 24.0, Y count:27, estimate count:16\n",
      "11,act label: 29.0, Y count:30, estimate count:19\n",
      "12,act label: 31.0, Y count:50, estimate count:5\n",
      "13,act label: 32.0, Y count:137, estimate count:5\n",
      "14,act label: 33.0, Y count:35, estimate count:29\n",
      "15,act label: 34.0, Y count:38, estimate count:26\n",
      "16,act label: 35.0, Y count:77, estimate count:58\n",
      "17,act label: 36.0, Y count:4, estimate count:3\n",
      "18,act label: 37.0, Y count:14, estimate count:2\n",
      "19,act label: 38.0, Y count:3, estimate count:1\n",
      "20,act label: 40.0, Y count:475, estimate count:127\n",
      "21,act label: 42.0, Y count:10, estimate count:7\n",
      "22,act label: 43.0, Y count:30, estimate count:17\n",
      "23,act label: 44.0, Y count:3, estimate count:0\n",
      "24,act label: 0, Y count:19256, estimate count:27978\n"
     ]
    }
   ],
   "source": [
    "#read in data\n",
    "house = 'B'\n",
    "t = 'c'\n",
    "act_df,sensor_df,X,Y = read_data(house, t)\n",
    "\n",
    "#build 4 dict, act to idx, idx to act, sensor to idx, idx to sensor\n",
    "all_act = list(set(act_df.label)) + [0] #all the act labels\n",
    "a2i = dict(zip(all_act, range(len(all_act))))\n",
    "i2a = dict(zip(range(len(all_act)), all_act))\n",
    "\n",
    "all_sensor = list(set(sensor_df.label)) #all the sensor labels\n",
    "i2s = dict(zip(range(len(all_sensor)), all_sensor))\n",
    "s2i = dict(zip(all_sensor, range(len(all_sensor))))\n",
    "\n",
    "print \"# sensors: \", len(all_sensor)\n",
    "print \"# states/acts: \", len(all_act)\n",
    "print \"# timeframes: \", len(X)\n",
    "\n",
    "priorB = np.load('Prior_B.npy')\n",
    "\n",
    "miu = np.zeros([len(all_act), len(all_sensor)])\n",
    "for row in X[Y == all_act[0]]:\n",
    "    miu[0] += row\n",
    "\n",
    "miu = calc_miu(X,Y,all_sensor, all_act)\n",
    "print priorB.shape\n",
    "likes = max_posterior(miu,X,priorB)\n",
    "result = MAP(likes) #note: result is index, not label yet\n",
    "\n",
    "#convert index to label\n",
    "res_label = np.array([i2a[e] for e in result])\n",
    "for i,act in enumerate(all_act):\n",
    "    print \"{},act label: {}, Y count:{}, estimate count:{}\".format(i,act, sum(Y==act), sum(res_label==act))"
   ]
  },
  {
   "cell_type": "code",
   "execution_count": 92,
   "metadata": {
    "collapsed": false
   },
   "outputs": [
    {
     "name": "stdout",
     "output_type": "stream",
     "text": [
      "Precision of house B is 0.667133479473\n",
      "recall of house B is 0.566522040912\n",
      "F score of house B is 0.612725050238\n",
      "Accuracy of house B is 0.754550128535\n"
     ]
    }
   ],
   "source": [
    "print 'Precision of house {} is {}'.format(house,precision(res_label, Y))\n",
    "print 'recall of house {} is {}'.format(house,recall(res_label, Y))\n",
    "print 'F score of house {} is {}'.format(house,f_score(res_label, Y))\n",
    "print 'Accuracy of house {} is {}'.format(house,accuracy(res_label, Y))"
   ]
  },
  {
   "cell_type": "markdown",
   "metadata": {},
   "source": [
    "# Change House C MAP"
   ]
  },
  {
   "cell_type": "code",
   "execution_count": 19,
   "metadata": {
    "collapsed": false
   },
   "outputs": [
    {
     "name": "stdout",
     "output_type": "stream",
     "text": [
      "# sensors:  21\n",
      "# states/acts:  18\n",
      "# timeframes:  26488\n",
      "(26488, 18)\n",
      "0,act label: 1.0, Y count:11961, estimate count:14072\n",
      "1,act label: 3.0, Y count:352, estimate count:103\n",
      "2,act label: 4.0, Y count:78, estimate count:206\n",
      "3,act label: 5.0, Y count:192, estimate count:898\n",
      "4,act label: 6.0, Y count:92, estimate count:25\n",
      "5,act label: 7.0, Y count:56, estimate count:124\n",
      "6,act label: 9.0, Y count:62, estimate count:39\n",
      "7,act label: 10.0, Y count:7760, estimate count:8979\n",
      "8,act label: 11.0, Y count:88, estimate count:95\n",
      "9,act label: 12.0, Y count:9, estimate count:156\n",
      "10,act label: 13.0, Y count:83, estimate count:58\n",
      "11,act label: 14.0, Y count:65, estimate count:33\n",
      "12,act label: 15.0, Y count:306, estimate count:106\n",
      "13,act label: 16.0, Y count:8, estimate count:73\n",
      "14,act label: 17.0, Y count:22, estimate count:75\n",
      "15,act label: 22.0, Y count:40, estimate count:34\n",
      "16,act label: 28.0, Y count:2457, estimate count:287\n",
      "17,act label: 0, Y count:2857, estimate count:1125\n"
     ]
    }
   ],
   "source": [
    "#read in data\n",
    "house = 'C'\n",
    "t = 'c'\n",
    "act_df,sensor_df,X,Y = read_data(house, t)\n",
    "\n",
    "#build 4 dict, act to idx, idx to act, sensor to idx, idx to sensor\n",
    "all_act = list(set(act_df.label)) + [0] #all the act labels\n",
    "a2i = dict(zip(all_act, range(len(all_act))))\n",
    "i2a = dict(zip(range(len(all_act)), all_act))\n",
    "\n",
    "all_sensor = list(set(sensor_df.label)) #all the sensor labels\n",
    "i2s = dict(zip(range(len(all_sensor)), all_sensor))\n",
    "s2i = dict(zip(all_sensor, range(len(all_sensor))))\n",
    "\n",
    "print \"# sensors: \", len(all_sensor)\n",
    "print \"# states/acts: \", len(all_act)\n",
    "print \"# timeframes: \", len(X)\n",
    "\n",
    "priorC = np.load('Prior_C.npy')\n",
    "\n",
    "miu = np.zeros([len(all_act), len(all_sensor)])\n",
    "for row in X[Y == all_act[0]]:\n",
    "    miu[0] += row\n",
    "\n",
    "miu = calc_miu(X,Y,all_sensor, all_act)\n",
    "print priorC.shape\n",
    "likes = max_posterior(miu,X,priorC)\n",
    "result = MAP(likes) #note: result is index, not label yet\n",
    "\n",
    "#convert index to label\n",
    "res_label = np.array([i2a[e] for e in result])\n",
    "for i,act in enumerate(all_act):\n",
    "    print \"{},act label: {}, Y count:{}, estimate count:{}\".format(i,act, sum(Y==act), sum(res_label==act))"
   ]
  },
  {
   "cell_type": "code",
   "execution_count": 20,
   "metadata": {
    "collapsed": false
   },
   "outputs": [
    {
     "name": "stdout",
     "output_type": "stream",
     "text": [
      "Precision of house C is 0.202923803297\n",
      "recall of house C is 0.230502704228\n",
      "F score of house C is 0.215835831912\n",
      "Accuracy of house C is 0.590003020236\n"
     ]
    }
   ],
   "source": [
    "print 'Precision of house {} is {}'.format(house,precision(res_label, Y))\n",
    "print 'recall of house {} is {}'.format(house,recall(res_label, Y))\n",
    "print 'F score of house {} is {}'.format(house,f_score(res_label, Y))\n",
    "print 'Accuracy of house {} is {}'.format(house,accuracy(res_label, Y))"
   ]
  },
  {
   "cell_type": "markdown",
   "metadata": {
    "collapsed": true
   },
   "source": [
    "# Last Fire House MAP"
   ]
  },
  {
   "cell_type": "code",
   "execution_count": 80,
   "metadata": {
    "collapsed": false
   },
   "outputs": [
    {
     "name": "stdout",
     "output_type": "stream",
     "text": [
      "# sensors:  14\n",
      "# states/acts:  17\n",
      "# timeframes:  40006\n",
      "(40006, 17)\n",
      "0,act label: 1.0, Y count:19723, estimate count:22739\n",
      "1,act label: 3.0, Y count:0, estimate count:0\n",
      "2,act label: 4.0, Y count:220, estimate count:92\n",
      "3,act label: 5.0, Y count:240, estimate count:473\n",
      "4,act label: 6.0, Y count:31, estimate count:11\n",
      "5,act label: 10.0, Y count:11670, estimate count:12637\n",
      "6,act label: 13.0, Y count:71, estimate count:33\n",
      "7,act label: 15.0, Y count:292, estimate count:278\n",
      "8,act label: 16.0, Y count:33, estimate count:39\n",
      "9,act label: 17.0, Y count:21, estimate count:32\n",
      "10,act label: 18.0, Y count:38, estimate count:40\n",
      "11,act label: 19.0, Y count:25, estimate count:28\n",
      "12,act label: 20.0, Y count:2, estimate count:4\n",
      "13,act label: 22.0, Y count:10, estimate count:7\n",
      "14,act label: 23.0, Y count:11, estimate count:8\n",
      "15,act label: 25.0, Y count:454, estimate count:155\n",
      "16,act label: 0, Y count:7165, estimate count:3430\n"
     ]
    }
   ],
   "source": [
    "#read in data\n",
    "house = 'A'\n",
    "t = 'l'\n",
    "act_df,sensor_df,X,Y = read_data(house, t)\n",
    "\n",
    "#build 4 dict, act to idx, idx to act, sensor to idx, idx to sensor\n",
    "all_act = list(set(act_df.label)) + [0] #all the act labels\n",
    "a2i = dict(zip(all_act, range(len(all_act))))\n",
    "i2a = dict(zip(range(len(all_act)), all_act))\n",
    "\n",
    "all_sensor = list(set(sensor_df.label)) #all the sensor labels\n",
    "i2s = dict(zip(range(len(all_sensor)), all_sensor))\n",
    "s2i = dict(zip(all_sensor, range(len(all_sensor))))\n",
    "\n",
    "print \"# sensors: \", len(all_sensor)\n",
    "print \"# states/acts: \", len(all_act)\n",
    "print \"# timeframes: \", len(X)\n",
    "\n",
    "priorA = np.load('Prior_A.npy')\n",
    "\n",
    "miu = np.zeros([len(all_act), len(all_sensor)])\n",
    "for row in X[Y == all_act[0]]:\n",
    "    miu[0] += row\n",
    "\n",
    "miu = calc_miu(X,Y,all_sensor, all_act)\n",
    "print priorA.shape\n",
    "likes = max_posterior(miu,X,priorA)\n",
    "result = MAP(likes) #note: result is index, not label yet\n",
    "\n",
    "#convert index to label\n",
    "res_label = np.array([i2a[e] for e in result])\n",
    "for i,act in enumerate(all_act):\n",
    "    print \"{},act label: {}, Y count:{}, estimate count:{}\".format(i,act, sum(Y==act), sum(res_label==act))"
   ]
  },
  {
   "cell_type": "code",
   "execution_count": 81,
   "metadata": {
    "collapsed": false
   },
   "outputs": [
    {
     "name": "stdout",
     "output_type": "stream",
     "text": [
      "Precision of house A is 0.662168290111\n",
      "recall of house A is 0.620084068935\n",
      "F score of house A is 0.640435565987\n",
      "Accuracy of house A is 0.853147027946\n"
     ]
    }
   ],
   "source": [
    "print 'Precision of house {} is {}'.format(house,precision(res_label, Y))\n",
    "print 'recall of house {} is {}'.format(house,recall(res_label, Y))\n",
    "print 'F score of house {} is {}'.format(house,f_score(res_label, Y))\n",
    "print 'Accuracy of house {} is {}'.format(house,accuracy(res_label, Y))"
   ]
  },
  {
   "cell_type": "markdown",
   "metadata": {},
   "source": [
    "# Last fire B"
   ]
  },
  {
   "cell_type": "code",
   "execution_count": 86,
   "metadata": {
    "collapsed": false
   },
   "outputs": [
    {
     "name": "stdout",
     "output_type": "stream",
     "text": [
      "# sensors:  22\n",
      "# states/acts:  25\n",
      "# timeframes:  38900\n",
      "(38900, 25)\n",
      "0,act label: 1.0, Y count:12242, estimate count:12502\n",
      "1,act label: 4.0, Y count:49, estimate count:61\n",
      "2,act label: 5.0, Y count:115, estimate count:99\n",
      "3,act label: 6.0, Y count:30, estimate count:25\n",
      "4,act label: 9.0, Y count:9, estimate count:0\n",
      "5,act label: 10.0, Y count:6057, estimate count:4939\n",
      "6,act label: 11.0, Y count:28, estimate count:20\n",
      "7,act label: 13.0, Y count:85, estimate count:61\n",
      "8,act label: 15.0, Y count:90, estimate count:83\n",
      "9,act label: 17.0, Y count:6, estimate count:5\n",
      "10,act label: 24.0, Y count:27, estimate count:11\n",
      "11,act label: 29.0, Y count:30, estimate count:60\n",
      "12,act label: 31.0, Y count:50, estimate count:34\n",
      "13,act label: 32.0, Y count:137, estimate count:40\n",
      "14,act label: 33.0, Y count:35, estimate count:38\n",
      "15,act label: 34.0, Y count:38, estimate count:5\n",
      "16,act label: 35.0, Y count:77, estimate count:188\n",
      "17,act label: 36.0, Y count:4, estimate count:4\n",
      "18,act label: 37.0, Y count:14, estimate count:4\n",
      "19,act label: 38.0, Y count:3, estimate count:4\n",
      "20,act label: 40.0, Y count:475, estimate count:574\n",
      "21,act label: 42.0, Y count:10, estimate count:0\n",
      "22,act label: 43.0, Y count:30, estimate count:21\n",
      "23,act label: 44.0, Y count:3, estimate count:0\n",
      "24,act label: 0, Y count:19256, estimate count:20122\n"
     ]
    }
   ],
   "source": [
    "#read in data\n",
    "house = 'B'\n",
    "t = 'l'\n",
    "act_df,sensor_df,X,Y = read_data(house, t)\n",
    "\n",
    "#build 4 dict, act to idx, idx to act, sensor to idx, idx to sensor\n",
    "all_act = list(set(act_df.label)) + [0] #all the act labels\n",
    "a2i = dict(zip(all_act, range(len(all_act))))\n",
    "i2a = dict(zip(range(len(all_act)), all_act))\n",
    "\n",
    "all_sensor = list(set(sensor_df.label)) #all the sensor labels\n",
    "i2s = dict(zip(range(len(all_sensor)), all_sensor))\n",
    "s2i = dict(zip(all_sensor, range(len(all_sensor))))\n",
    "\n",
    "print \"# sensors: \", len(all_sensor)\n",
    "print \"# states/acts: \", len(all_act)\n",
    "print \"# timeframes: \", len(X)\n",
    "\n",
    "priorB = np.load('Prior_B.npy')\n",
    "\n",
    "miu = np.zeros([len(all_act), len(all_sensor)])\n",
    "for row in X[Y == all_act[0]]:\n",
    "    miu[0] += row\n",
    "\n",
    "miu = calc_miu(X,Y,all_sensor, all_act)\n",
    "print priorB.shape\n",
    "likes = max_posterior(miu,X,priorB)\n",
    "result = MAP(likes) #note: result is index, not label yet\n",
    "\n",
    "#convert index to label\n",
    "res_label = np.array([i2a[e] for e in result])\n",
    "for i,act in enumerate(all_act):\n",
    "    print \"{},act label: {}, Y count:{}, estimate count:{}\".format(i,act, sum(Y==act), sum(res_label==act))"
   ]
  },
  {
   "cell_type": "code",
   "execution_count": 89,
   "metadata": {
    "collapsed": false
   },
   "outputs": [
    {
     "name": "stdout",
     "output_type": "stream",
     "text": [
      "Precision of house B is 0.667133479473\n",
      "recall of house B is 0.566522040912\n",
      "F score of house B is 0.612725050238\n",
      "Accuracy of house B is 0.754550128535\n"
     ]
    }
   ],
   "source": [
    "print 'Precision of house {} is {}'.format(house,precision(res_label, Y))\n",
    "print 'recall of house {} is {}'.format(house,recall(res_label, Y))\n",
    "print 'F score of house {} is {}'.format(house,f_score(res_label, Y))\n",
    "print 'Accuracy of house {} is {}'.format(house,accuracy(res_label, Y))"
   ]
  },
  {
   "cell_type": "code",
   "execution_count": 65,
   "metadata": {
    "collapsed": false
   },
   "outputs": [
    {
     "name": "stdout",
     "output_type": "stream",
     "text": [
      "# sensors:  21\n",
      "# states/acts:  18\n",
      "# timeframes:  26488\n",
      "(26488, 18)\n",
      "0,act label: 1.0, Y count:11961, estimate count:12743\n",
      "1,act label: 3.0, Y count:352, estimate count:737\n",
      "2,act label: 4.0, Y count:78, estimate count:127\n",
      "3,act label: 5.0, Y count:192, estimate count:260\n",
      "4,act label: 6.0, Y count:92, estimate count:20\n",
      "5,act label: 7.0, Y count:56, estimate count:129\n",
      "6,act label: 9.0, Y count:62, estimate count:33\n",
      "7,act label: 10.0, Y count:7760, estimate count:7505\n",
      "8,act label: 11.0, Y count:88, estimate count:130\n",
      "9,act label: 12.0, Y count:9, estimate count:100\n",
      "10,act label: 13.0, Y count:83, estimate count:15\n",
      "11,act label: 14.0, Y count:65, estimate count:96\n",
      "12,act label: 15.0, Y count:306, estimate count:492\n",
      "13,act label: 16.0, Y count:8, estimate count:87\n",
      "14,act label: 17.0, Y count:22, estimate count:251\n",
      "15,act label: 22.0, Y count:40, estimate count:34\n",
      "16,act label: 28.0, Y count:2457, estimate count:1699\n",
      "17,act label: 0, Y count:2857, estimate count:2030\n"
     ]
    }
   ],
   "source": [
    "#read in data\n",
    "house = 'C'\n",
    "t = 'l'\n",
    "act_df,sensor_df,X,Y = read_data(house, t)\n",
    "\n",
    "#build 4 dict, act to idx, idx to act, sensor to idx, idx to sensor\n",
    "all_act = list(set(act_df.label)) + [0] #all the act labels\n",
    "a2i = dict(zip(all_act, range(len(all_act))))\n",
    "i2a = dict(zip(range(len(all_act)), all_act))\n",
    "\n",
    "all_sensor = list(set(sensor_df.label)) #all the sensor labels\n",
    "i2s = dict(zip(range(len(all_sensor)), all_sensor))\n",
    "s2i = dict(zip(all_sensor, range(len(all_sensor))))\n",
    "\n",
    "print \"# sensors: \", len(all_sensor)\n",
    "print \"# states/acts: \", len(all_act)\n",
    "print \"# timeframes: \", len(X)\n",
    "\n",
    "priorC = np.load('Prior_C.npy')\n",
    "\n",
    "miu = np.zeros([len(all_act), len(all_sensor)])\n",
    "for row in X[Y == all_act[0]]:\n",
    "    miu[0] += row\n",
    "\n",
    "miu = calc_miu(X,Y,all_sensor, all_act)\n",
    "print priorC.shape\n",
    "likes = max_posterior(miu,X,priorC)\n",
    "result = MAP(likes) #note: result is index, not label yet\n",
    "\n",
    "#convert index to label\n",
    "res_label = np.array([i2a[e] for e in result])\n",
    "for i,act in enumerate(all_act):\n",
    "    print \"{},act label: {}, Y count:{}, estimate count:{}\".format(i,act, sum(Y==act), sum(res_label==act))"
   ]
  },
  {
   "cell_type": "code",
   "execution_count": 66,
   "metadata": {
    "collapsed": false
   },
   "outputs": [
    {
     "name": "stdout",
     "output_type": "stream",
     "text": [
      "Precision of house C is 0.208860174493\n",
      "recall of house C is 0.236525405896\n",
      "F score of house C is 0.221833573976\n",
      "Accuracy of house C is 0.70043038357\n"
     ]
    }
   ],
   "source": [
    "print 'Precision of house {} is {}'.format(house,precision(res_label, Y))\n",
    "print 'recall of house {} is {}'.format(house,recall(res_label, Y))\n",
    "print 'F score of house {} is {}'.format(house,f_score(res_label, Y))\n",
    "print 'Accuracy of house {} is {}'.format(house,accuracy(res_label, Y))"
   ]
  },
  {
   "cell_type": "code",
   "execution_count": null,
   "metadata": {
    "collapsed": true
   },
   "outputs": [],
   "source": []
  },
  {
   "cell_type": "code",
   "execution_count": null,
   "metadata": {
    "collapsed": true
   },
   "outputs": [],
   "source": []
  },
  {
   "cell_type": "code",
   "execution_count": null,
   "metadata": {
    "collapsed": true
   },
   "outputs": [],
   "source": []
  }
 ],
 "metadata": {
  "kernelspec": {
   "display_name": "Python 2",
   "language": "python",
   "name": "python2"
  },
  "language_info": {
   "codemirror_mode": {
    "name": "ipython",
    "version": 2
   },
   "file_extension": ".py",
   "mimetype": "text/x-python",
   "name": "python",
   "nbconvert_exporter": "python",
   "pygments_lexer": "ipython2",
   "version": "2.7.11"
  }
 },
 "nbformat": 4,
 "nbformat_minor": 0
}
