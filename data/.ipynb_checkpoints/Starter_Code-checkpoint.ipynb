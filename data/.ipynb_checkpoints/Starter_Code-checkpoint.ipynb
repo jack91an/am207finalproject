{
 "cells": [
  {
   "cell_type": "markdown",
   "metadata": {},
   "source": [
    "## NOTE: all the algorithms should start with this code"
   ]
  },
  {
   "cell_type": "code",
   "execution_count": 9,
   "metadata": {
    "collapsed": true
   },
   "outputs": [],
   "source": [
    "import pandas as pd\n",
    "import numpy as np\n",
    "import matplotlib.pyplot as plt\n",
    "%matplotlib inline"
   ]
  },
  {
   "cell_type": "code",
   "execution_count": 10,
   "metadata": {
    "collapsed": true
   },
   "outputs": [],
   "source": [
    "houses = ['A', 'B', 'C']\n",
    "xtype_dict = {'r':'raw', 'c':'change'}"
   ]
  },
  {
   "cell_type": "code",
   "execution_count": 11,
   "metadata": {
    "collapsed": true
   },
   "outputs": [],
   "source": [
    "def read_data(house, xtype):\n",
    "    assert house in houses\n",
    "    assert xtype in xtype_dict\n",
    "    \n",
    "    act_df = pd.read_csv(\"house{}_act.csv\".format(house))\n",
    "    sensor_df = pd.read_csv(\"house{}_sensor.csv\".format(house))\n",
    "    X = np.load(\"X_{}_house{}.npy\".format(xtype_dict[xtype], house))\n",
    "    Y = np.load(\"Y_house{}.npy\".format(house))\n",
    "    return act_df, sensor_df, X, Y"
   ]
  },
  {
   "cell_type": "markdown",
   "metadata": {},
   "source": [
    "# Example"
   ]
  },
  {
   "cell_type": "code",
   "execution_count": 12,
   "metadata": {
    "collapsed": false
   },
   "outputs": [],
   "source": [
    "#read in data, choose a house and a X matrix type\n",
    "act_df,sensor_df,X,Y = read_data('A', 'r')"
   ]
  },
  {
   "cell_type": "markdown",
   "metadata": {},
   "source": [
    "# IMPORTANT: better run this to build index dicts"
   ]
  },
  {
   "cell_type": "code",
   "execution_count": 13,
   "metadata": {
    "collapsed": true
   },
   "outputs": [],
   "source": [
    "#build 4 dict, act to idx, idx to act, sensor to idx, idx to sensor\n",
    "all_act = list(set(act_df.label)) + [0] #all the act labels\n",
    "a2i = dict(zip(all_act, range(len(all_act))))\n",
    "i2a = dict(zip(range(len(all_act)), all_act))\n",
    "\n",
    "all_sensor = list(set(sensor_df.label))\n",
    "i2s = dict(zip(range(len(all_sensor)), all_sensor))\n",
    "s2i = dict(zip(all_sensor, range(len(all_sensor))))"
   ]
  },
  {
   "cell_type": "markdown",
   "metadata": {},
   "source": [
    "# Now you can start your own code.."
   ]
  },
  {
   "cell_type": "code",
   "execution_count": 15,
   "metadata": {
    "collapsed": false
   },
   "outputs": [
    {
     "name": "stdout",
     "output_type": "stream",
     "text": [
      "# sensors:  14\n",
      "# states/acts (including unknown):  17\n",
      "# timeframes:  40006\n"
     ]
    }
   ],
   "source": [
    "#e.g. print something\n",
    "print \"# sensors: \", len(all_sensor)\n",
    "print \"# states/acts (including unknown): \", len(all_act)\n",
    "print \"# timeframes: \", len(X)"
   ]
  },
  {
   "cell_type": "code",
   "execution_count": null,
   "metadata": {
    "collapsed": true
   },
   "outputs": [],
   "source": []
  }
 ],
 "metadata": {
  "kernelspec": {
   "display_name": "Python 2",
   "language": "python",
   "name": "python2"
  },
  "language_info": {
   "codemirror_mode": {
    "name": "ipython",
    "version": 2
   },
   "file_extension": ".py",
   "mimetype": "text/x-python",
   "name": "python",
   "nbconvert_exporter": "python",
   "pygments_lexer": "ipython2",
   "version": "2.7.11"
  }
 },
 "nbformat": 4,
 "nbformat_minor": 0
}
