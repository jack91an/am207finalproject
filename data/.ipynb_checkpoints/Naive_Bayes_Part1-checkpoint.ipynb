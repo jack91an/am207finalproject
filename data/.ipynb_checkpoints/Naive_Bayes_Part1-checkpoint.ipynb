{
 "cells": [
  {
   "cell_type": "code",
   "execution_count": 3,
   "metadata": {
    "collapsed": true
   },
   "outputs": [],
   "source": [
    "import pandas as pd\n",
    "import numpy as np\n",
    "import matplotlib.pyplot as plt\n",
    "%matplotlib inline"
   ]
  },
  {
   "cell_type": "markdown",
   "metadata": {},
   "source": [
    "## NOTE: all the algorithms should start with this code"
   ]
  },
  {
   "cell_type": "code",
   "execution_count": 82,
   "metadata": {
    "collapsed": false
   },
   "outputs": [],
   "source": [
    "houses = ['A', 'B', 'C']\n",
    "xtype_dict = {'r':'raw', 'c':'change'}"
   ]
  },
  {
   "cell_type": "code",
   "execution_count": 90,
   "metadata": {
    "collapsed": true
   },
   "outputs": [],
   "source": [
    "def read_data(house, xtype):\n",
    "    assert house in houses\n",
    "    assert xtype in xtype_dict\n",
    "    \n",
    "    act_df = pd.read_csv(\"house{}_act.csv\".format(house))\n",
    "    sensor_df = pd.read_csv(\"house{}_sensor.csv\".format(house))\n",
    "    X = np.load(\"X_{}_house{}.npy\".format(xtype_dict[xtype], house))\n",
    "    Y = np.load(\"Y_house{}.npy\".format(house))\n",
    "    return act_df, sensor_df, X, Y"
   ]
  },
  {
   "cell_type": "code",
   "execution_count": 91,
   "metadata": {
    "collapsed": true
   },
   "outputs": [],
   "source": [
    "#read in data\n",
    "act_df,sensor_df,X,Y = read_data('A', 'r')"
   ]
  },
  {
   "cell_type": "code",
   "execution_count": 85,
   "metadata": {
    "collapsed": true
   },
   "outputs": [],
   "source": [
    "#build 4 dict, act to idx, idx to act, sensor to idx, idx to sensor\n",
    "all_act = list(set(act_df.label))\n",
    "a2i = dict(zip(all_act, range(len(all_act))))\n",
    "i2a = dict(zip(range(len(all_act)), all_act))\n",
    "\n",
    "all_sensor = list(set(sensor_df.label))\n",
    "i2s = dict(zip(range(len(all_sensor)), all_sensor))\n",
    "s2i = dict(zip(all_sensor, range(len(all_sensor))))"
   ]
  },
  {
   "cell_type": "code",
   "execution_count": 86,
   "metadata": {
    "collapsed": false
   },
   "outputs": [
    {
     "name": "stdout",
     "output_type": "stream",
     "text": [
      "# sensors:  14\n",
      "# states/acts:  16\n",
      "# timeframes:  40006\n"
     ]
    }
   ],
   "source": [
    "print \"# sensors: \", len(all_sensor)\n",
    "print \"# states/acts: \", len(all_act)\n",
    "print \"# timeframes: \", len(X)"
   ]
  },
  {
   "cell_type": "markdown",
   "metadata": {},
   "source": [
    "## Naive Bayes"
   ]
  },
  {
   "cell_type": "code",
   "execution_count": 87,
   "metadata": {
    "collapsed": false
   },
   "outputs": [],
   "source": [
    "#each row represents sensors for a specific action\n",
    "def calc_miu(X, Y, all_sensor=all_sensor, all_act=all_act):\n",
    "    assert len(X)==len(Y)\n",
    "    \n",
    "    num_act = len(all_act)\n",
    "    num_sensor = len(all_sensor)\n",
    "    miu = np.zeros([num_act, num_sensor])\n",
    "    for act in all_act:\n",
    "        sensor = X[Y==act]\n",
    "        for row in sensor:\n",
    "            miu[a2i[act]] += row\n",
    "    return miu"
   ]
  },
  {
   "cell_type": "code",
   "execution_count": 89,
   "metadata": {
    "collapsed": false
   },
   "outputs": [],
   "source": [
    "miu = calc_miu(X,Y)"
   ]
  },
  {
   "cell_type": "code",
   "execution_count": null,
   "metadata": {
    "collapsed": true
   },
   "outputs": [],
   "source": [
    "def mle(miu, sensor_df):\n",
    "    for row in sensor_df:\n",
    "        "
   ]
  }
 ],
 "metadata": {
  "kernelspec": {
   "display_name": "Python 2",
   "language": "python",
   "name": "python2"
  },
  "language_info": {
   "codemirror_mode": {
    "name": "ipython",
    "version": 2
   },
   "file_extension": ".py",
   "mimetype": "text/x-python",
   "name": "python",
   "nbconvert_exporter": "python",
   "pygments_lexer": "ipython2",
   "version": "2.7.11"
  }
 },
 "nbformat": 4,
 "nbformat_minor": 0
}
