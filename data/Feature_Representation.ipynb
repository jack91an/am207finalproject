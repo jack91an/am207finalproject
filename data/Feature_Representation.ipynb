{
 "cells": [
  {
   "cell_type": "code",
   "execution_count": 1,
   "metadata": {
    "collapsed": true
   },
   "outputs": [],
   "source": [
    "import pandas as pd\n",
    "import numpy as np\n",
    "import matplotlib.pyplot as plt\n",
    "%matplotlib inline"
   ]
  },
  {
   "cell_type": "markdown",
   "metadata": {},
   "source": [
    "## Creating 2 ways of feature representations\n",
    "\n",
    "\n",
    "\n",
    "***NOTE***\n",
    "\n",
    "-The timeslice length used here is 60 sec, which is proved to have good performance by paper\n",
    "\n",
    "-$\\vec{x_t^i}$ is a binary vector\n",
    "\n",
    "-according to the paper, $y_t = j$ means the state(i.e. act) $j$ takes most of the 60 secs, even if there are other states(i.e. acts) happening during this 60 secs\n",
    "\n",
    "-use different house data by setting house to A or B or C"
   ]
  },
  {
   "cell_type": "code",
   "execution_count": 2,
   "metadata": {
    "collapsed": true
   },
   "outputs": [],
   "source": [
    "timeslice = 60"
   ]
  },
  {
   "cell_type": "code",
   "execution_count": 3,
   "metadata": {
    "collapsed": false
   },
   "outputs": [],
   "source": [
    "#####\n",
    "#select a house, 'A', 'B', or 'C'\n",
    "#####\n",
    "house = 'A'\n",
    "act_df = pd.read_csv(\"house{}_act.csv\".format(house))\n",
    "sensor_df = pd.read_csv(\"house{}_sensor.csv\".format(house))"
   ]
  },
  {
   "cell_type": "code",
   "execution_count": 4,
   "metadata": {
    "collapsed": false
   },
   "outputs": [],
   "source": [
    "# #check duration of activities or sensors\n",
    "# plt.subplot(1,2,1)\n",
    "# plt.hist(act_df.diff_sec, bins=5);\n",
    "# plt.subplot(1,2,2)\n",
    "# plt.hist(sensor_df.diff_sec, bins=5);"
   ]
  },
  {
   "cell_type": "code",
   "execution_count": 5,
   "metadata": {
    "collapsed": false
   },
   "outputs": [],
   "source": [
    "start = min(min(act_df.start_sec), min(sensor_df.start_sec))\n",
    "end = max(max(act_df.end_sec), max(sensor_df.end_sec))\n",
    "if (end-start)%timeslice != 0:\n",
    "    end = (1+(end-start)/timeslice)*timeslice + start\n",
    "duration = end-start"
   ]
  },
  {
   "cell_type": "code",
   "execution_count": 6,
   "metadata": {
    "collapsed": false
   },
   "outputs": [
    {
     "name": "stdout",
     "output_type": "stream",
     "text": [
      "# sensors:  14\n",
      "# states/acts:  16\n",
      "# timeframes:  40006\n"
     ]
    }
   ],
   "source": [
    "num_sensor = len(list(set(sensor_df.label)))\n",
    "num_act = len(list(set(act_df.label)))\n",
    "num_t = duration/timeslice\n",
    "print \"# sensors: \", num_sensor\n",
    "print \"# states/acts: \", num_act\n",
    "print \"# timeframes: \", num_t"
   ]
  },
  {
   "cell_type": "markdown",
   "metadata": {},
   "source": [
    "### Activity array\n",
    "\n",
    "$y_t$ : activity at timeslice t \n",
    "\n",
    "0 means no activity\n",
    "\n",
    "non-zero means labelled activity"
   ]
  },
  {
   "cell_type": "code",
   "execution_count": 7,
   "metadata": {
    "collapsed": false
   },
   "outputs": [
    {
     "name": "stdout",
     "output_type": "stream",
     "text": [
      "label:16.0, meaning:get snack, count:12\n",
      "label:22.0, meaning:put clothes in washingmachine, count:3\n",
      "label:6.0, meaning:brush teeth, count:16\n",
      "label:17.0, meaning:get drink, count:20\n",
      "label:23.0, meaning:unload washingmachine, count:4\n",
      "label:4.0, meaning:use toilet, count:114\n",
      "label:5.0, meaning:take shower, count:23\n",
      "label:15.0, meaning:prepare Dinner, count:9\n",
      "label:10.0, meaning:go to bed, count:24\n",
      "label:19.0, meaning:unload dishwasher, count:4\n",
      "label:20.0, meaning:store groceries, count:1\n",
      "label:1.0, meaning:leave house, count:33\n",
      "label:25.0, meaning:receive guest, count:3\n",
      "label:18.0, meaning:put items in dishwasher, count:5\n",
      "label:13.0, meaning:prepare Breakfast, count:20\n",
      "label:3.0, meaning:Eating, count:1\n"
     ]
    }
   ],
   "source": [
    "#check counts\n",
    "temp = list(set(zip(act_df.label, act_df.meaning)))\n",
    "for y in temp:\n",
    "    print \"label:{}, meaning:{}, count:{}\".format(y[0], y[1], sum(act_df.label==y[0]))"
   ]
  },
  {
   "cell_type": "code",
   "execution_count": 8,
   "metadata": {
    "collapsed": true
   },
   "outputs": [],
   "source": [
    "Y = np.zeros(num_t)"
   ]
  },
  {
   "cell_type": "code",
   "execution_count": 9,
   "metadata": {
    "collapsed": false
   },
   "outputs": [],
   "source": [
    "for j in range(num_t):\n",
    "    c = j*timeslice + start\n",
    "    c_ = c + timeslice\n",
    "    mask = ((act_df.start_sec <= c_) & (act_df.end_sec >= c_)) | ((act_df.start_sec <= c) & (act_df.end_sec >= c))\n",
    "    temp_df = act_df[mask]\n",
    "    max_cover = 0\n",
    "    max_label = 0 #default, unknown act\n",
    "    for i in range(len(temp_df)):\n",
    "        s = np.array(temp_df.start_sec)[i]\n",
    "        t = np.array(temp_df.end_sec)[i]\n",
    "        l = np.array(temp_df.label)[i]\n",
    "        \n",
    "        if s <= c and t >= c_:\n",
    "            max_cover = timeslice\n",
    "            max_label = l\n",
    "            break\n",
    "        elif s > c and t < c_ and (t-s) > max_cover:\n",
    "            max_cover = t-s\n",
    "            max_label = l\n",
    "        elif s<=c and t>=c and (t-c) > max_cover:\n",
    "            max_cover = t-c\n",
    "            max_label = l\n",
    "        elif s<=c_ and t>=c_ and (c_-s) > max_cover:\n",
    "            max_cover = c_-s\n",
    "            max_label = l\n",
    "    Y[j] = max_label\n",
    "            "
   ]
  },
  {
   "cell_type": "code",
   "execution_count": null,
   "metadata": {
    "collapsed": false
   },
   "outputs": [],
   "source": [
    "# #For house A, mannualy add eating\n",
    "# temp_df = act_df[act_df.label==3]\n",
    "# s = list(temp_df.start_sec)[0]\n",
    "# diff = list(temp_df.diff_sec)[0]\n",
    "# i = (s-start)/timeslice\n",
    "# while diff > 0:\n",
    "#     Y[i] = 3\n",
    "#     i += 1\n",
    "#     diff -= timeslice"
   ]
  },
  {
   "cell_type": "code",
   "execution_count": null,
   "metadata": {
    "collapsed": false
   },
   "outputs": [],
   "source": [
    "# for y in list(set(act_df.label)):\n",
    "#     if np.sum(Y==y)==0:\n",
    "#         print y"
   ]
  },
  {
   "cell_type": "markdown",
   "metadata": {},
   "source": [
    "### Representation 1: raw data\n",
    "\n",
    "The raw sensor representation uses the sensor data directly as it was received from the sensors. It gives a 1 when the sensor is firing and a 0 otherwise.\n",
    "\n",
    "**X_raw** is a num_t-by-num_sensor matrix, where rows are times and columns are features(or sensors). The maps of sensors to index can be found by the dictionary. "
   ]
  },
  {
   "cell_type": "code",
   "execution_count": null,
   "metadata": {
    "collapsed": false
   },
   "outputs": [],
   "source": [
    "#map from sensor to idx and idx to sensor\n",
    "i2s = dict(zip(range(num_sensor), list(set(sensor_df.label))))\n",
    "s2i = dict(zip(list(set(sensor_df.label)), range(num_sensor)))\n",
    "s2i"
   ]
  },
  {
   "cell_type": "code",
   "execution_count": null,
   "metadata": {
    "collapsed": false
   },
   "outputs": [],
   "source": [
    "#each row = (x1, x2, .. xn), n=num_sensor\n",
    "X_raw = np.zeros([num_t, num_sensor])\n",
    "for i in range(len(sensor_df)):\n",
    "    elapsed = sensor_df.start_sec[i] - start\n",
    "    row = elapsed/timeslice\n",
    "    label = sensor_df.label[i]\n",
    "    diff = sensor_df.diff_sec[i]\n",
    "    while diff > 0:\n",
    "        X_raw[row, s2i[label]] = 1\n",
    "        row = row + 1\n",
    "        diff = diff - timeslice"
   ]
  },
  {
   "cell_type": "markdown",
   "metadata": {},
   "source": [
    "### Representation 2: changepoint\n",
    "\n",
    "The change point representation indicates when a sensor event takes place. That is, it indicates when a sensor changes value. More formally, it gives a 1 when a sensor changes state (i.e. goes from zero to one or vice versa) and a 0 otherwise.\n",
    "\n",
    "**X_change** is a num_t-by-num_sensor matrix, where rows are times and columns are features(or sensors). The maps of sensors to index can be found by the dictionary. "
   ]
  },
  {
   "cell_type": "code",
   "execution_count": null,
   "metadata": {
    "collapsed": false
   },
   "outputs": [],
   "source": [
    "X_change = np.zeros([num_t, num_sensor])\n",
    "temp1 = np.zeros([num_t, num_sensor])\n",
    "temp2 = np.zeros([num_t, num_sensor])\n",
    "\n",
    "for i in range(len(sensor_df)):\n",
    "    #for start point (from 0 to 1)\n",
    "    row = (sensor_df.start_sec[i] - start)/timeslice\n",
    "    label = sensor_df.label[i]\n",
    "    temp1[row, s2i[label]] += 1 \n",
    "    \n",
    "    #for end point (from 1 to 0)\n",
    "    row2 = (sensor_df.end_sec[i] - start)/timeslice\n",
    "    #if ended in another time frame, we check the endpoint \n",
    "    if row2 != row:\n",
    "        temp2[row2, s2i[label]] += 1\n",
    "\n",
    "for i in range(num_t):\n",
    "    for j in range(num_sensor):\n",
    "        diff = abs(temp1[i,j]-temp2[i,j])\n",
    "        if diff%2 == 1:\n",
    "            X_change[i,j] = 1"
   ]
  },
  {
   "cell_type": "code",
   "execution_count": null,
   "metadata": {
    "collapsed": false
   },
   "outputs": [],
   "source": [
    "a,b=0,0\n",
    "for i in range(num_t):\n",
    "    for j in range(num_sensor):\n",
    "        if X_raw[i,j] == 1:\n",
    "            a+=1\n",
    "        if X_change[i,j] == 1:\n",
    "            b+=1\n",
    "print \"ones in X_raw: \", a\n",
    "print \"ones in X_change: \", b"
   ]
  },
  {
   "cell_type": "markdown",
   "metadata": {
    "collapsed": true
   },
   "source": [
    "## Save files (only need to be done once)"
   ]
  },
  {
   "cell_type": "code",
   "execution_count": null,
   "metadata": {
    "collapsed": true
   },
   "outputs": [],
   "source": [
    "# np.save(\"X_raw_house{}.npy\".format(house), X_raw)\n",
    "# np.save(\"X_change_house{}.npy\".format(house), X_change)\n",
    "# np.save(\"Y_house{}.npy\".format(house), Y)"
   ]
  },
  {
   "cell_type": "code",
   "execution_count": null,
   "metadata": {
    "collapsed": true
   },
   "outputs": [],
   "source": []
  },
  {
   "cell_type": "code",
   "execution_count": null,
   "metadata": {
    "collapsed": true
   },
   "outputs": [],
   "source": []
  }
 ],
 "metadata": {
  "kernelspec": {
   "display_name": "Python 2",
   "language": "python",
   "name": "python2"
  },
  "language_info": {
   "codemirror_mode": {
    "name": "ipython",
    "version": 2
   },
   "file_extension": ".py",
   "mimetype": "text/x-python",
   "name": "python",
   "nbconvert_exporter": "python",
   "pygments_lexer": "ipython2",
   "version": "2.7.11"
  }
 },
 "nbformat": 4,
 "nbformat_minor": 0
}
