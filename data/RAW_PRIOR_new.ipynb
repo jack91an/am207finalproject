{
 "cells": [
  {
   "cell_type": "markdown",
   "metadata": {},
   "source": [
    "## NOTE: all the algorithms should start with this code"
   ]
  },
  {
   "cell_type": "code",
   "execution_count": 109,
   "metadata": {
    "collapsed": true
   },
   "outputs": [],
   "source": [
    "import pandas as pd\n",
    "import numpy as np\n",
    "import matplotlib.pyplot as plt\n",
    "import seaborn as sns\n",
    "%matplotlib inline"
   ]
  },
  {
   "cell_type": "code",
   "execution_count": 110,
   "metadata": {
    "collapsed": true
   },
   "outputs": [],
   "source": [
    "houses = ['A', 'B', 'C']\n",
    "xtype_dict = {'r':'raw', 'c':'change'}"
   ]
  },
  {
   "cell_type": "code",
   "execution_count": 111,
   "metadata": {
    "collapsed": true
   },
   "outputs": [],
   "source": [
    "def read_data(house, xtype):\n",
    "    assert house in houses\n",
    "    assert xtype in xtype_dict\n",
    "    \n",
    "    act_df = pd.read_csv(\"house{}_act.csv\".format(house))\n",
    "    sensor_df = pd.read_csv(\"house{}_sensor.csv\".format(house))\n",
    "    X = np.load(\"X_{}_house{}.npy\".format(xtype_dict[xtype], house))\n",
    "    Y = np.load(\"Y_house{}.npy\".format(house))\n",
    "    return act_df, sensor_df, X, Y"
   ]
  },
  {
   "cell_type": "code",
   "execution_count": 112,
   "metadata": {
    "collapsed": true
   },
   "outputs": [],
   "source": [
    "act_df,sensor_df,X,Y = read_data('A', 'r')\n",
    "#build 4 dict, act to idx, idx to act, sensor to idx, idx to sensor\n",
    "all_act = list(set(act_df.label)) + [0] #all the act labels\n",
    "a2i = dict(zip(all_act, range(len(all_act))))\n",
    "i2a = dict(zip(range(len(all_act)), all_act))\n",
    "\n",
    "all_sensor = list(set(sensor_df.label))\n",
    "i2s = dict(zip(range(len(all_sensor)), all_sensor))\n",
    "s2i = dict(zip(all_sensor, range(len(all_sensor))))\n",
    "\n",
    "timeslice = 60\n",
    "start = min(min(act_df.start_sec), min(sensor_df.start_sec))\n",
    "end = max(max(act_df.end_sec), max(sensor_df.end_sec))\n",
    "if (end-start)%timeslice != 0:\n",
    "    end = (1+(end-start)/timeslice)*timeslice + start\n",
    "duration = end-start"
   ]
  },
  {
   "cell_type": "markdown",
   "metadata": {},
   "source": [
    "# Example"
   ]
  },
  {
   "cell_type": "code",
   "execution_count": 113,
   "metadata": {
    "collapsed": false
   },
   "outputs": [],
   "source": [
    "#read in data, choose a house and a X matrix type\n",
    "act_df,sensor_df,X,Y = read_data('A', 'r')"
   ]
  },
  {
   "cell_type": "markdown",
   "metadata": {},
   "source": [
    "# IMPORTANT: better run this to build index dicts"
   ]
  },
  {
   "cell_type": "code",
   "execution_count": 114,
   "metadata": {
    "collapsed": true
   },
   "outputs": [],
   "source": [
    "#build 4 dict, act to idx, idx to act, sensor to idx, idx to sensor\n",
    "all_act = list(set(act_df.label)) + [0] #all the act labels\n",
    "a2i = dict(zip(all_act, range(len(all_act))))\n",
    "i2a = dict(zip(range(len(all_act)), all_act))\n",
    "\n",
    "all_sensor = list(set(sensor_df.label))\n",
    "i2s = dict(zip(range(len(all_sensor)), all_sensor))\n",
    "s2i = dict(zip(all_sensor, range(len(all_sensor))))"
   ]
  },
  {
   "cell_type": "code",
   "execution_count": 115,
   "metadata": {
    "collapsed": false
   },
   "outputs": [
    {
     "data": {
      "text/plain": [
       "{0: 16,\n",
       " 1.0: 0,\n",
       " 3.0: 1,\n",
       " 4.0: 2,\n",
       " 5.0: 3,\n",
       " 6.0: 4,\n",
       " 10.0: 5,\n",
       " 13.0: 6,\n",
       " 15.0: 7,\n",
       " 16.0: 8,\n",
       " 17.0: 9,\n",
       " 18.0: 10,\n",
       " 19.0: 11,\n",
       " 20.0: 12,\n",
       " 22.0: 13,\n",
       " 23.0: 14,\n",
       " 25.0: 15}"
      ]
     },
     "execution_count": 115,
     "metadata": {},
     "output_type": "execute_result"
    }
   ],
   "source": [
    "a2i"
   ]
  },
  {
   "cell_type": "markdown",
   "metadata": {},
   "source": [
    "# Now you can start your own code.."
   ]
  },
  {
   "cell_type": "code",
   "execution_count": 116,
   "metadata": {
    "collapsed": false
   },
   "outputs": [
    {
     "name": "stdout",
     "output_type": "stream",
     "text": [
      "# sensors:  14\n",
      "# states/acts (including unknown):  17\n",
      "# timeframes:  40006\n"
     ]
    }
   ],
   "source": [
    "#e.g. print something\n",
    "print \"# sensors: \", len(all_sensor)\n",
    "print \"# states/acts (including unknown): \", len(all_act)\n",
    "print \"# timeframes: \", len(X)"
   ]
  },
  {
   "cell_type": "code",
   "execution_count": 117,
   "metadata": {
    "collapsed": false
   },
   "outputs": [],
   "source": [
    "timeslice = 60\n",
    "start = min(min(act_df.start_sec), min(sensor_df.start_sec))\n",
    "end = max(max(act_df.end_sec), max(sensor_df.end_sec))\n",
    "if (end-start)%timeslice != 0:\n",
    "    end = (1+(end-start)/timeslice)*timeslice + start\n",
    "duration = end-start"
   ]
  },
  {
   "cell_type": "code",
   "execution_count": 118,
   "metadata": {
    "collapsed": false
   },
   "outputs": [
    {
     "name": "stdout",
     "output_type": "stream",
     "text": [
      "1203898772 1206299132\n"
     ]
    }
   ],
   "source": [
    "print start,end"
   ]
  },
  {
   "cell_type": "code",
   "execution_count": 119,
   "metadata": {
    "collapsed": false
   },
   "outputs": [],
   "source": [
    "i2m = {}\n",
    "for i in range(len(all_act)):\n",
    "    \n",
    "    i2m[i] = set(act_df[act_df['label']==i2a[i]]['meaning'])"
   ]
  },
  {
   "cell_type": "code",
   "execution_count": 120,
   "metadata": {
    "collapsed": false
   },
   "outputs": [
    {
     "data": {
      "text/plain": [
       "({0: {'leave house'},\n",
       "  1: {'Eating'},\n",
       "  2: {'use toilet'},\n",
       "  3: {'take shower'},\n",
       "  4: {'brush teeth'},\n",
       "  5: {'go to bed'},\n",
       "  6: {'prepare Breakfast'},\n",
       "  7: {'prepare Dinner'},\n",
       "  8: {'get snack'},\n",
       "  9: {'get drink'},\n",
       "  10: {'put items in dishwasher'},\n",
       "  11: {'unload dishwasher'},\n",
       "  12: {'store groceries'},\n",
       "  13: {'put clothes in washingmachine'},\n",
       "  14: {'unload washingmachine'},\n",
       "  15: {'receive guest'},\n",
       "  16: set()},\n",
       " {0: 16,\n",
       "  1.0: 0,\n",
       "  3.0: 1,\n",
       "  4.0: 2,\n",
       "  5.0: 3,\n",
       "  6.0: 4,\n",
       "  10.0: 5,\n",
       "  13.0: 6,\n",
       "  15.0: 7,\n",
       "  16.0: 8,\n",
       "  17.0: 9,\n",
       "  18.0: 10,\n",
       "  19.0: 11,\n",
       "  20.0: 12,\n",
       "  22.0: 13,\n",
       "  23.0: 14,\n",
       "  25.0: 15})"
      ]
     },
     "execution_count": 120,
     "metadata": {},
     "output_type": "execute_result"
    }
   ],
   "source": [
    "i2m,a2i"
   ]
  },
  {
   "cell_type": "markdown",
   "metadata": {},
   "source": [
    "# Prior A"
   ]
  },
  {
   "cell_type": "code",
   "execution_count": 121,
   "metadata": {
    "collapsed": false
   },
   "outputs": [
    {
     "name": "stdout",
     "output_type": "stream",
     "text": [
      "# sensors:  14\n",
      "# states/acts (including unknown):  17\n",
      "# timeframes:  40006\n"
     ]
    }
   ],
   "source": [
    "#read in data, choose a house and a X matrix type\n",
    "act_df,sensor_df,X,Y = read_data('A', 'r')\n",
    "#build 4 dict, act to idx, idx to act, sensor to idx, idx to sensor\n",
    "all_act = list(set(act_df.label)) + [0] #all the act labels\n",
    "a2i = dict(zip(all_act, range(len(all_act))))\n",
    "i2a = dict(zip(range(len(all_act)), all_act))\n",
    "\n",
    "all_sensor = list(set(sensor_df.label))\n",
    "i2s = dict(zip(range(len(all_sensor)), all_sensor))\n",
    "s2i = dict(zip(all_sensor, range(len(all_sensor))))\n",
    "#e.g. print something\n",
    "print \"# sensors: \", len(all_sensor)\n",
    "print \"# states/acts (including unknown): \", len(all_act)\n",
    "print \"# timeframes: \", len(X)\n",
    "timeslice = 60\n",
    "start = min(min(act_df.start_sec), min(sensor_df.start_sec))\n",
    "end = max(max(act_df.end_sec), max(sensor_df.end_sec))\n",
    "if (end-start)%timeslice != 0:\n",
    "    end = (1+(end-start)/timeslice)*timeslice + start\n",
    "duration = end-start\n",
    "i2m = {}\n",
    "for i in range(len(all_act)):\n",
    "    \n",
    "    i2m[i] = set(act_df[act_df['label']==i2a[i]]['meaning'])"
   ]
  },
  {
   "cell_type": "code",
   "execution_count": 122,
   "metadata": {
    "collapsed": false
   },
   "outputs": [
    {
     "name": "stdout",
     "output_type": "stream",
     "text": [
      "[ 0.90097718  0.96382692  0.48015568  0.71579557  0.66883295  0.35586173\n",
      "  0.07421468  0.69078683  0.92791318  0.95113296  0.48707207  0.80259154\n",
      "  0.07099041  0.67224458  0.34657497  0.45859715  0.32253466  0.29157659]\n"
     ]
    }
   ],
   "source": [
    "num_t = len(X)\n",
    "num_act = len(all_act)\n",
    "\n",
    "HOUR = 60\n",
    "MINUTE = 60\n",
    "DAY = 60 * 24\n",
    "NOT_LIKELY = 0\n",
    "LESS_LIKELY = 1\n",
    "LIKELY = 2\n",
    "HIGHLY_LIKELY = 3\n",
    "VERY_LIKELY = 4 \n",
    "ALMOST_CERTAINLY = 8\n",
    "# six_am of starting date of house A at Amsterdam\n",
    "first_zero_am = 1203894000\n",
    "first_six_am = 1203915600\n",
    "first_time_dict = {}\n",
    "for i in range(24):\n",
    "    first_time_dict[i] = (first_six_am - start)/MINUTE + (i-6) * MINUTE\n",
    "    if first_time_dict[i]<0:\n",
    "        first_time_dict[i] += 24 * HOUR\n",
    "minute_hour_dict = {k:v for v,k in first_time_dict.items()}\n",
    "\n",
    "priorA = np.zeros([num_t,num_act+1])\n",
    "for i in range(priorA.shape[0]):\n",
    "    priorA[i] = np.random.uniform(size=num_act+1)\n",
    "random_priorA = priorA.copy()\n",
    "print priorA[0]\n",
    "#print priorA[0]\n",
    "# add some prior to it\n",
    "# leaving the house should be uniform between 8:00am to 10:00pm, and basically 0 between 10:00pm to 8:00am\n",
    "first_leaving = (first_six_am + 2 * HOUR * MINUTE - start)/MINUTE\n",
    "#print first_leaving\n",
    "end_leaving = first_leaving + HOUR * (22-8)\n",
    "for i in range(num_t):\n",
    "    \n",
    "    # leave house\n",
    "    if i%DAY < first_time_dict[22] and i%DAY > first_time_dict[8]:\n",
    "        priorA[i][0] += 36\n",
    "    # eating 6-9 am 12 -13 pm 18-19\n",
    "    if (i%DAY > first_time_dict[6] and i%DAY < first_time_dict[8]) or (i%DAY > first_time_dict[12] and i%DAY < first_time_dict[13]) or (i%DAY > first_time_dict[18] and i%DAY < first_time_dict[19]):\n",
    "        priorA[i][1] += LESS_LIKELY\n",
    "\n",
    "    # use toilet should be uniform 2\n",
    "    \n",
    "    # Take shower should be within 6-8am and 21-23 3\n",
    "    \n",
    "    if (i%DAY > first_time_dict[6] and i%DAY < first_time_dict[8]) or (i%DAY > first_time_dict[21] and i%DAY < first_time_dict[23]):\n",
    "        priorA[i][3] += LIKELY\n",
    "    \n",
    "    # brush teath is so short to modify 4\n",
    "    if (i%DAY > first_time_dict[7] and i%DAY < first_time_dict[8]) or (i%DAY > first_time_dict[22] and i%DAY < first_time_dict[23]):\n",
    "        priorA[i][4] += LIKELY\n",
    "    # go to bed should between 11:00pm to 7:00 am 5\n",
    "    if (i%DAY > first_time_dict[23] or i%DAY < first_time_dict[7]):\n",
    "        priorA[i][5] += ALMOST_CERTAINLY\n",
    "    \n",
    "    # prepare Breakfast must be within 6-8am 6 \n",
    "    if (i%DAY > first_time_dict[6] and i%DAY < first_time_dict[8]):\n",
    "        priorA[i][6] += LIKELY\n",
    "    \n",
    "    # prepare Dinner must be within 5-7 pm 7\n",
    "    if (i%DAY > first_time_dict[17] and i%DAY < first_time_dict[19]):\n",
    "        priorA[i][7] += LIKELY\n",
    "    \n",
    "    # get snack is almost uniformly distributed within day time 8am-10pm 8\n",
    "    if (i%DAY > first_time_dict[8] and i%DAY < first_time_dict[22]):\n",
    "        priorA[i][8] += LESS_LIKELY\n",
    "    \n",
    "    # get drink is identical to get snack 9\n",
    "    if (i%DAY > first_time_dict[8] and i%DAY < first_time_dict[22]):\n",
    "        priorA[i][9] += LESS_LIKELY\n",
    "        \n",
    "    # 'put items in dishwasher' randomly among all day.10\n",
    "    if (i%DAY > first_time_dict[8] and i%DAY < first_time_dict[20]):\n",
    "        priorA[i][10] += LESS_LIKELY\n",
    "    \n",
    "    # unload dishwasher randomly from 10 am to 8 pm11\n",
    "    if (i%DAY > first_time_dict[10] and i%DAY < first_time_dict[20]):\n",
    "        priorA[i][11] += LESS_LIKELY\n",
    "        \n",
    "    # store greceries, randomly among all day from 10 am to 7pm 12\n",
    "    if (i%DAY > first_time_dict[10] and i%DAY < first_time_dict[19]):\n",
    "        priorA[i][12] += LESS_LIKELY\n",
    "    \n",
    "    # put clothes in washingmachine key no change 13 no change\n",
    "    # unload washingmachine no change\n",
    "    # receive guest randomly between 10 am to 5 pm: change15\n",
    "    \n",
    "    if (i%DAY > first_time_dict[10] and i%DAY < first_time_dict[17]):\n",
    "        priorA[i][15] += LIKELY\n",
    "    \n",
    "    # Unknown state 16, almost certainly from 8am - 10pm:\n",
    "    \n",
    "    if (i%DAY > first_time_dict[8] and i%DAY < first_time_dict[23]):\n",
    "        priorA[i][16] += ALMOST_CERTAINLY\n",
    "        \n",
    "    priorA[i]/=np.sum(priorA[i])\n",
    "# Eating should be around 6-9 am, 12 - 1 pm, and 6-7 pm\n",
    "\n",
    "# for i in range(num_t):\n",
    "#     if i%DAY > first_time_dict[6] and i%DAY < first_time_dict[9] \n",
    "#     \\ or i%DAY > first_time_dict[12] and i%DAY < first_time_dict[13] \n",
    "#     \\ or i%DAY > first_time_dict[18] and i%DAY < first_time_dict[19]:\n",
    "#         priorA[i][1] += 2\n"
   ]
  },
  {
   "cell_type": "code",
   "execution_count": 123,
   "metadata": {
    "collapsed": false
   },
   "outputs": [
    {
     "data": {
      "text/plain": [
       "<matplotlib.text.Text at 0x12604ea50>"
      ]
     },
     "execution_count": 123,
     "metadata": {},
     "output_type": "execute_result"
    },
    {
     "data": {
      "image/png": "[encoded data removed]",
      "text/plain": [
       "<matplotlib.figure.Figure at 0x124f45710>"
      ]
     },
     "metadata": {},
     "output_type": "display_data"
    }
   ],
   "source": [
    "day1 = np.arange(24)\n",
    "fig, ax = plt.subplots(5,1,figsize = (10,25))\n",
    "# Eating\n",
    "#print ax[0]\n",
    "day_eating = priorA[:,1][:MINUTE * 24].reshape(24,60)\n",
    "day_hourly_eating = np.mean(day_eating,axis=1)\n",
    "day_hourly_eating = np.roll(day_hourly_eating,2)\n",
    "sns.barplot(day1,day_hourly_eating,color=\"b\",alpha = 0.3,ax=ax[0])\n",
    "ax[0].set_xticks(np.arange(0,24,1))\n",
    "ax[0].set_xlim(0,23)\n",
    "ax[0].set_xlabel('Hours')\n",
    "ax[0].set_ylabel('Probability')\n",
    "ax[0].set_title('Eating Prior')\n",
    "\n",
    "#take shower\n",
    "day_showering = priorA[:,3][:MINUTE * 24].reshape(24,60)\n",
    "day_hourly_showering = np.mean(day_showering,axis=1)\n",
    "day_hourly_showering = np.roll(day_hourly_showering,2)\n",
    "sns.barplot(day1,day_hourly_showering,color=\"b\",alpha = 0.3,ax = ax[1])\n",
    "ax[1].set_xticks(np.arange(0,24,1))\n",
    "ax[1].set_xlim(0,23)\n",
    "ax[1].set_xlabel('Hours')\n",
    "ax[1].set_ylabel('Probability')\n",
    "ax[1].set_title('Showering Prior')\n",
    "\n",
    "day_bed = priorA[:,5][:MINUTE * 24].reshape(24,60)\n",
    "day_hourly_bed = np.mean(day_bed,axis=1)\n",
    "day_hourly_bed = np.roll(day_hourly_bed,2)\n",
    "sns.barplot(day1,day_hourly_bed,color=\"b\",alpha = 0.3,ax = ax[2])\n",
    "ax[2].set_xticks(np.arange(0,24,1))\n",
    "ax[2].set_xlim(0,23)\n",
    "ax[2].set_xlabel('Hours')\n",
    "ax[2].set_ylabel('Probability')\n",
    "ax[2].set_title('Sleeping Prior')\n",
    "\n",
    "day_prepare_breakfast = priorA[:,6][:MINUTE * 24].reshape(24,60)\n",
    "day_hourly_prepare_breakfast = np.mean(day_prepare_breakfast,axis=1)\n",
    "day_hourly_prepare_breakfast = np.roll(day_hourly_prepare_breakfast,2)\n",
    "sns.barplot(day1,day_hourly_prepare_breakfast,color=\"b\",alpha = 0.3,ax = ax[3])\n",
    "ax[3].set_xticks(np.arange(0,24,1))\n",
    "ax[3].set_xlim(0,23)\n",
    "ax[3].set_xlabel('Hours')\n",
    "ax[3].set_ylabel('Probability')\n",
    "ax[3].set_title('Preparing Breakfast Prior')\n",
    "\n",
    "day_guest = priorA[:,15][:MINUTE * 24].reshape(24,60)\n",
    "day_hourly_guest = np.mean(day_guest,axis=1)\n",
    "day_hourly_guest = np.roll(day_hourly_guest,2)\n",
    "sns.barplot(day1,day_hourly_guest,color=\"b\",alpha = 0.3,ax = ax[4])\n",
    "ax[4].set_xticks(np.arange(0,24,1))\n",
    "ax[4].set_xlim(0,23)\n",
    "ax[4].set_xlabel('Hours')\n",
    "ax[4].set_ylabel('Probability')\n",
    "ax[4].set_title('Receiving Guest Prior')\n"
   ]
  },
  {
   "cell_type": "code",
   "execution_count": 124,
   "metadata": {
    "collapsed": true
   },
   "outputs": [],
   "source": [
    "np.save('Prior_A',priorA)"
   ]
  },
  {
   "cell_type": "markdown",
   "metadata": {},
   "source": [
    "# Prior B"
   ]
  },
  {
   "cell_type": "code",
   "execution_count": 173,
   "metadata": {
    "collapsed": false,
    "scrolled": true
   },
   "outputs": [
    {
     "name": "stdout",
     "output_type": "stream",
     "text": [
      "1248183011 1250517011\n"
     ]
    }
   ],
   "source": [
    "#read in data, choose a house and a X matrix type\n",
    "act_df,sensor_df,X,Y = read_data('B', 'r')\n",
    "#build 4 dict, act to idx, idx to act, sensor to idx, idx to sensor\n",
    "all_act = list(set(act_df.label)) + [0] #all the act labels\n",
    "a2i = dict(zip(all_act, range(len(all_act))))\n",
    "i2a = dict(zip(range(len(all_act)), all_act))\n",
    "\n",
    "all_sensor = list(set(sensor_df.label))\n",
    "i2s = dict(zip(range(len(all_sensor)), all_sensor))\n",
    "s2i = dict(zip(all_sensor, range(len(all_sensor))))\n",
    "timeslice = 60\n",
    "start = min(min(act_df.start_sec), min(sensor_df.start_sec))\n",
    "end = max(max(act_df.end_sec), max(sensor_df.end_sec))\n",
    "if (end-start)%timeslice != 0:\n",
    "    end = (1+(end-start)/timeslice)*timeslice + start\n",
    "duration = end-start\n",
    "print start,end\n",
    "i2m = {}\n",
    "for i in range(len(all_act)):\n",
    "    i2m[i] = set(list(act_df[act_df['label']==i2a[i]]['meaning']))"
   ]
  },
  {
   "cell_type": "code",
   "execution_count": 174,
   "metadata": {
    "collapsed": false
   },
   "outputs": [
    {
     "name": "stdout",
     "output_type": "stream",
     "text": [
      "0.261681156497\n"
     ]
    }
   ],
   "source": [
    "# Prior\n",
    "num_t = len(X)\n",
    "num_act = len(all_act)\n",
    "HOUR = 60\n",
    "MINUTE = 60\n",
    "DAY = 60 * 24\n",
    "NOT_LIKELY = 0\n",
    "LESS_LIKELY = 1\n",
    "LIKELY = 2\n",
    "HIGHLY_LIKELY = 3\n",
    "VERY_LIKELY = 4 \n",
    "ALMOST_CERTAINLY = 8\n",
    "# six_am of starting date of house A at Amsterdam\n",
    "#first_zero_am = 1203894000\n",
    "first_six_am = 1248235200\n",
    "first_time_dict = {}\n",
    "#{0: 509, 1: 569, 2: 629, 3: 689, 4: 749, 5: 809, 6: 869, 7: 929, 8: 989, 9: 1049, 10: 1109, 11: 1169, \n",
    "#12: 1229, 13: 1289, 14: 1349, 15: 1409, 16: 29, 17: 89, 18: 149, 19: 209, 20: 269, 21: 329, 22: 389, 23: 449}\n",
    "\n",
    "for i in range(24):\n",
    "    first_time_dict[i] = (first_six_am - start)/MINUTE + (i-6) * MINUTE\n",
    "    if first_time_dict[i]<0:\n",
    "        first_time_dict[i] += 24 * HOUR\n",
    "    elif first_time_dict[i] > 60*24:\n",
    "        first_time_dict[i] -= 24 * HOUR\n",
    "minute_hour_dict = {k:v for v,k in first_time_dict.items()}\n",
    "#print first_time_dict\n",
    "priorB = np.zeros([num_t,num_act])\n",
    "for i in range(priorB.shape[0]):\n",
    "    priorB[i] = np.random.uniform(size=num_act)\n",
    "random_priorB = priorB.copy()\n",
    "#print priorB[0]\n",
    "#print priorA[0]\n",
    "# add some prior to it\n",
    "# leaving the house should be uniform between 8:00am to 10:00pm, and basically 0 between 10:00pm to 8:00am\n",
    "first_leaving = (first_six_am + 2 * HOUR * MINUTE - start)/MINUTE\n",
    "#print first_leaving\n",
    "end_leaving = first_leaving + HOUR * (22-8)\n",
    "for i in range(num_t):\n",
    "    \n",
    "    # leave house 0\n",
    "    if i%DAY < first_time_dict[22] or i%DAY > first_time_dict[8]:\n",
    "        priorB[i][0] += ALMOST_CERTAINLY\n",
    "    \n",
    "    # Use Toilet should be uniformly distributed around 8am to 10pm 1:\n",
    "    if i%DAY > first_time_dict[8] or i%DAY<first_time_dict[22]:\n",
    "        priorB[i][1] += LESS_LIKELY\n",
    "        \n",
    "    # Take Shower should be around 6-8am and 21-23 2\n",
    "    if (i%DAY > first_time_dict[7] and i%DAY < first_time_dict[9]) or (i%DAY > first_time_dict[21] and i%DAY < first_time_dict[23]):\n",
    "        priorB[i][2] += LIKELY\n",
    "        \n",
    "    # brush teeth between 6 and 7, 22 and 23 3\n",
    "    if (i%DAY > first_time_dict[6] and i%DAY < first_time_dict[7]) or (i%DAY > first_time_dict[22] and i%DAY < first_time_dict[23]):\n",
    "        priorB[i][3] += HIGHLY_LIKELY\n",
    "        \n",
    "    # Shaving should between 7-8 4\n",
    "    if (i%DAY > first_time_dict[6] and i%DAY < first_time_dict[7]):\n",
    "        priorB[i][4] += ALMOST_CERTAINLY\n",
    "        \n",
    "    # Sleep should between 11pm to 7am 5\n",
    "    if i%DAY > first_time_dict[23] and i%DAY < first_time_dict[7]:\n",
    "        priorB[i][5] += LIKELY\n",
    "    \n",
    "    # get dressed should between 8-9 am 6\n",
    "    if i%DAY > first_time_dict[8] and i%DAY < first_time_dict[9]:\n",
    "        priorB[i][6] += LIKELY\n",
    "    \n",
    "    # Prepare Brunch 9-11 7\n",
    "    if i%DAY > first_time_dict[9] and i%DAY < first_time_dict[11]:\n",
    "        priorB[i][7] += HIGHLY_LIKELY\n",
    "    \n",
    "    # Prepare Dinner 17 -18 8\n",
    "    if i%DAY > first_time_dict[17] and i%DAY < first_time_dict[18]:\n",
    "        priorB[i][8] += HIGHLY_LIKELY\n",
    "    \n",
    "    # get a drink should between 9 - 22 9\n",
    "    if i%DAY > first_time_dict[9] or i%DAY < first_time_dict[22]:\n",
    "        priorB[i][9] += LESS_LIKELY\n",
    "        \n",
    "    # wash dish should be uniform betwwen 9-22 10\n",
    "    if i%DAY > first_time_dict[9] or i%DAY < first_time_dict[22]:\n",
    "        priorB[i][10] += LESS_LIKELY\n",
    "        \n",
    "    # Answering Phone should be uniform around 9-22 11\n",
    "    if i%DAY > first_time_dict[9] or i%DAY < first_time_dict[22]:\n",
    "        priorB[i][11] += LESS_LIKELY\n",
    "        \n",
    "    # Eat Dinner should be around 18 -20 12\n",
    "    if i%DAY > first_time_dict[18] and i%DAY < first_time_dict[20]:\n",
    "        priorB[i][12] += ALMOST_CERTAINLY\n",
    "    \n",
    "    # eat Brunch should be around 11-12 13\n",
    "    if i%DAY > first_time_dict[11] and i%DAY < first_time_dict[12]:\n",
    "        priorB[i][13] += ALMOST_CERTAINLY\n",
    "        \n",
    "    # setting up sensor should not be modified 14\n",
    "    # unpacking should not be modified 15\n",
    "    # install sensor should not be modified 16\n",
    "    # on phone should be the same as answering phone 17\n",
    "    if i%DAY > first_time_dict[9] or i%DAY < first_time_dict[22]:\n",
    "        priorB[i][17] += NOT_LIKELY\n",
    "        \n",
    "    # Fasten kitchen camera should not be modified 18\n",
    "    # wash toatser not modified 19\n",
    "    # play piano should be around 18 - 22 20\n",
    "    if i%DAY > first_time_dict[18] and i%DAY < first_time_dict[22]:\n",
    "        priorB[i][20] += LIKELY\n",
    "    \n",
    "    # searches key not modified 21\n",
    "    # prepare for leaving should be around 8 - 9 22\n",
    "    if i%DAY > first_time_dict[8] and i%DAY < first_time_dict[9]:\n",
    "        priorB[i][22] += HIGHLY_LIKELY\n",
    "    \n",
    "    \n",
    "    # drop dish no midification 23\n",
    "    \n",
    "    # Unknown state \n",
    "    if True:\n",
    "        priorB[i][24] += ALMOST_CERTAINLY\n",
    "    priorB[i]/=np.sum(priorB[i])\n",
    "\n",
    "print np.max(priorB[0])"
   ]
  },
  {
   "cell_type": "code",
   "execution_count": 175,
   "metadata": {
    "collapsed": true
   },
   "outputs": [],
   "source": [
    "np.save('Prior_B',priorB)"
   ]
  },
  {
   "cell_type": "code",
   "execution_count": 169,
   "metadata": {
    "collapsed": false
   },
   "outputs": [
    {
     "data": {
      "text/plain": [
       "{0: {'Leaving the house'},\n",
       " 1: {'Use toilet'},\n",
       " 2: {'Take shower'},\n",
       " 3: {'Brush teeth'},\n",
       " 4: {'Shaving'},\n",
       " 5: {'Go to bed'},\n",
       " 6: {'Get dressed'},\n",
       " 7: {'Prepare brunch'},\n",
       " 8: {'Prepare dinner'},\n",
       " 9: {'Get a drink'},\n",
       " 10: {'Wash dishes'},\n",
       " 11: {'Answering phone'},\n",
       " 12: {'Eat dinner'},\n",
       " 13: {'Eat brunch'},\n",
       " 14: {'Setting up sensors'},\n",
       " 15: {'Unpacking'},\n",
       " 16: {'Install sensor'},\n",
       " 17: {'On phone'},\n",
       " 18: {'Fasten kitchen camera'},\n",
       " 19: {'Wash toaster'},\n",
       " 20: {'Play piano'},\n",
       " 21: {'Gwenn searches keys'},\n",
       " 22: {'Prepare for leaving'},\n",
       " 23: {'Drop dish (No dishwash)'},\n",
       " 24: set()}"
      ]
     },
     "execution_count": 169,
     "metadata": {},
     "output_type": "execute_result"
    }
   ],
   "source": [
    "i2m"
   ]
  },
  {
   "cell_type": "code",
   "execution_count": 170,
   "metadata": {
    "collapsed": false
   },
   "outputs": [
    {
     "data": {
      "text/plain": [
       "array([ 0.40215807,  0.40019452,  0.38696107, ...,  0.39069932,\n",
       "        0.40626181,  0.39816537])"
      ]
     },
     "execution_count": 170,
     "metadata": {},
     "output_type": "execute_result"
    }
   ],
   "source": [
    "priorB[:,0]"
   ]
  },
  {
   "cell_type": "code",
   "execution_count": 171,
   "metadata": {
    "collapsed": false
   },
   "outputs": [
    {
     "data": {
      "text/plain": [
       "<matplotlib.text.Text at 0x12fa57b10>"
      ]
     },
     "execution_count": 171,
     "metadata": {},
     "output_type": "execute_result"
    },
    {
     "data": {
      "image/png": "[encoded data removed]",
      "text/plain": [
       "<matplotlib.figure.Figure at 0x125871050>"
      ]
     },
     "metadata": {},
     "output_type": "display_data"
    }
   ],
   "source": [
    "day1 = np.arange(24)\n",
    "fig, ax = plt.subplots(5,1,figsize = (10,25))\n",
    "zero_start = first_time_dict[0]\n",
    "# leaving\n",
    "#print ax[0]\n",
    "day_leaving = priorB[:,0][zero_start:MINUTE * 24+zero_start].reshape(24,60)\n",
    "day_hourly_leaving = np.mean(day_leaving,axis=1)\n",
    "#day_hourly_leaving = np.roll(day_hourly_leaving,0)\n",
    "sns.barplot(day1,day_hourly_leaving,color=\"b\",alpha = 0.3,ax=ax[0])\n",
    "ax[0].set_xticks(np.arange(0,24,1))\n",
    "ax[0].set_xlim(0,23)\n",
    "ax[0].set_xlabel('Hours')\n",
    "ax[0].set_ylabel('Probability')\n",
    "ax[0].set_title('Leaving House Prior')\n",
    "\n",
    "#take shower\n",
    "day_showering = priorB[:,2][zero_start:MINUTE * 24+zero_start].reshape(24,60)\n",
    "day_hourly_showering = np.mean(day_showering,axis=1)\n",
    "#day_hourly_showering = np.roll(day_hourly_showering,2)\n",
    "sns.barplot(day1,day_hourly_showering,color=\"b\",alpha = 0.3,ax = ax[1])\n",
    "ax[1].set_xticks(np.arange(0,24,1))\n",
    "ax[1].set_xlim(0,23)\n",
    "ax[1].set_xlabel('Hours')\n",
    "ax[1].set_ylabel('Probability')\n",
    "ax[1].set_title('Showering Prior')\n",
    "\n",
    "day_bed = priorB[:,5][zero_start:MINUTE * 24+zero_start].reshape(24,60)\n",
    "day_hourly_bed = np.mean(day_bed,axis=1)\n",
    "#day_hourly_bed = np.roll(day_hourly_bed,2)\n",
    "sns.barplot(day1,day_hourly_bed,color=\"b\",alpha = 0.3,ax = ax[2])\n",
    "ax[2].set_xticks(np.arange(0,24,1))\n",
    "ax[2].set_xlim(0,23)\n",
    "ax[2].set_xlabel('Hours')\n",
    "ax[2].set_ylabel('Probability')\n",
    "ax[2].set_title('Sleeping Prior')\n",
    "\n",
    "day_eat_dinner = priorB[:,12][zero_start:zero_start+MINUTE * 24].reshape(24,60)\n",
    "day_hourly_eat_dinner = np.mean(day_eat_dinner,axis=1)\n",
    "#day_hourly_prepare_breakfast = np.roll(day_hourly_prepare_breakfast,2)\n",
    "sns.barplot(day1,day_hourly_eat_dinner,color=\"b\",alpha = 0.3,ax = ax[3])\n",
    "ax[3].set_xticks(np.arange(0,24,1))\n",
    "ax[3].set_xlim(0,23)\n",
    "ax[3].set_xlabel('Hours')\n",
    "ax[3].set_ylabel('Probability')\n",
    "ax[3].set_title('Eating Dinner Prior')\n",
    "\n",
    "day_eat_brunch = priorB[:,13][zero_start:zero_start+MINUTE * 24].reshape(24,60)\n",
    "day_hourly_eat_brunch = np.mean(day_eat_brunch,axis=1)\n",
    "#day_hourly_guest = np.roll(day_hourly_guest,2)\n",
    "sns.barplot(day1,day_hourly_eat_brunch,color=\"b\",alpha = 0.3,ax = ax[4])\n",
    "ax[4].set_xticks(np.arange(0,24,1))\n",
    "ax[4].set_xlim(0,23)\n",
    "ax[4].set_xlabel('Hours')\n",
    "ax[4].set_ylabel('Probability')\n",
    "ax[4].set_title('Eating Brunch Guest Prior')\n"
   ]
  },
  {
   "cell_type": "markdown",
   "metadata": {},
   "source": [
    "# Prior C"
   ]
  },
  {
   "cell_type": "code",
   "execution_count": 158,
   "metadata": {
    "collapsed": false
   },
   "outputs": [
    {
     "name": "stdout",
     "output_type": "stream",
     "text": [
      "1227134866 1228724146\n"
     ]
    }
   ],
   "source": [
    "#read in data, choose a house and a X matrix type\n",
    "act_df,sensor_df,X,Y = read_data('C', 'r')\n",
    "#build 4 dict, act to idx, idx to act, sensor to idx, idx to sensor\n",
    "all_act = list(set(act_df.label)) + [0] #all the act labels\n",
    "a2i = dict(zip(all_act, range(len(all_act))))\n",
    "i2a = dict(zip(range(len(all_act)), all_act))\n",
    "\n",
    "all_sensor = list(set(sensor_df.label))\n",
    "i2s = dict(zip(range(len(all_sensor)), all_sensor))\n",
    "s2i = dict(zip(all_sensor, range(len(all_sensor))))\n",
    "timeslice = 60\n",
    "start = min(min(act_df.start_sec), min(sensor_df.start_sec))\n",
    "end = max(max(act_df.end_sec), max(sensor_df.end_sec))\n",
    "if (end-start)%timeslice != 0:\n",
    "    end = (1+(end-start)/timeslice)*timeslice + start\n",
    "duration = end-start\n",
    "print start,end\n",
    "i2m = {}\n",
    "for i in range(len(all_act)):\n",
    "    i2m[i] = set(list(act_df[act_df['label']==i2a[i]]['meaning']))"
   ]
  },
  {
   "cell_type": "code",
   "execution_count": 159,
   "metadata": {
    "collapsed": false
   },
   "outputs": [
    {
     "data": {
      "text/plain": [
       "{0: {'leave house'},\n",
       " 1: {'Eating'},\n",
       " 2: {'use toilet downstairs'},\n",
       " 3: {'take shower'},\n",
       " 4: {'brush teeth'},\n",
       " 5: {'use toilet upstairs'},\n",
       " 6: {'shave'},\n",
       " 7: {'go to bed'},\n",
       " 8: {'get dressed'},\n",
       " 9: {'take medication'},\n",
       " 10: {'prepare Breakfast'},\n",
       " 11: {'prepare Lunch'},\n",
       " 12: {'prepare Dinner'},\n",
       " 13: {'get snack'},\n",
       " 14: {'get drink'},\n",
       " 15: {'put clothes in washingmachine'},\n",
       " 16: {'relax'},\n",
       " 17: set()}"
      ]
     },
     "execution_count": 159,
     "metadata": {},
     "output_type": "execute_result"
    }
   ],
   "source": [
    "i2m"
   ]
  },
  {
   "cell_type": "code",
   "execution_count": 162,
   "metadata": {
    "collapsed": false
   },
   "outputs": [
    {
     "name": "stdout",
     "output_type": "stream",
     "text": [
      "18\n",
      "{0: 12, 1: 72, 2: 132, 3: 192, 4: 252, 5: 312, 6: 372, 7: 432, 8: 492, 9: 552, 10: 612, 11: 672, 12: 732, 13: 792, 14: 852, 15: 912, 16: 972, 17: 1032, 18: 1092, 19: 1152, 20: 1212, 21: 1272, 22: 1332, 23: 1392}\n"
     ]
    }
   ],
   "source": [
    "# Prior C\n",
    "num_t = len(X)\n",
    "num_act = len(all_act)\n",
    "print num_act\n",
    "HOUR = 60\n",
    "MINUTE = 60\n",
    "DAY = 60 * 24\n",
    "NOT_LIKELY = 0\n",
    "LESS_LIKELY = 1\n",
    "LIKELY = 2\n",
    "HIGHLY_LIKELY = 3\n",
    "VERY_LIKELY = 4 \n",
    "ALMOST_CERTAINLY = 8\n",
    "# six_am of starting date of house A at Amsterdam\n",
    "#first_zero_am = 1203894000\n",
    "first_six_am = 1227157200\n",
    "first_time_dict = {}\n",
    "# {0: 12, 1: 72, 2: 132, 3: 192, 4: 252, 5: 312, 6: 372, 7: 432, 8: 492, 9: 552, 10: 612, 11: 672, \n",
    "#  12: 732, 13: 792, 14: 852, 15: 912, 16: 972, 17: 1032, 18: 1092, 19: 1152, 20: 1212, 21: 1272, 22: 1332, 23: 1392}\n",
    "\n",
    "for i in range(24):\n",
    "    first_time_dict[i] = (first_six_am - start)/MINUTE + (i-6) * MINUTE\n",
    "    if first_time_dict[i]<0:\n",
    "        first_time_dict[i] += 24 * HOUR\n",
    "    elif first_time_dict[i] > 60*24:\n",
    "        first_time_dict[i] -= 24 * HOUR\n",
    "minute_hour_dict = {k:v for v,k in first_time_dict.items()}\n",
    "print first_time_dict\n",
    "priorC = np.zeros([num_t,num_act])\n",
    "for i in range(priorC.shape[0]):\n",
    "    priorC[i] = np.random.uniform(size=num_act)\n",
    "random_priorC = priorC.copy()\n",
    "#print priorC[0]\n",
    "#print priorA[0]\n",
    "# add some prior to it\n",
    "# leaving the house should be uniform between 8:00am to 10:00pm, and basically 0 between 10:00pm to 8:00am\n",
    "first_leaving = (first_six_am + 2 * HOUR * MINUTE - start)/MINUTE\n",
    "#print first_leaving\n",
    "end_leaving = first_leaving + HOUR * (22-8)\n",
    "\n",
    "# # {0: {'leave house'},\n",
    "#  1: {'Eating'},\n",
    "#  2: {'use toilet downstairs'},\n",
    "#  3: {'take shower'},\n",
    "#  4: {'brush teeth'},\n",
    "#  5: {'use toilet upstairs'},\n",
    "#  6: {'shave'},\n",
    "#  7: {'go to bed'},\n",
    "#  8: {'get dressed'},\n",
    "#  9: {'take medication'},\n",
    "#  10: {'prepare Breakfast'},\n",
    "#  11: {'prepare Lunch'},\n",
    "#  12: {'prepare Dinner'},\n",
    "#  13: {'get snack'},\n",
    "#  14: {'get drink'},\n",
    "#  15: {'put clothes in washingmachine'},\n",
    "#  16: {'relax'},\n",
    "#  17: set()}\n",
    "# #\n",
    "# {0: 12, 1: 72, 2: 132, 3: 192, 4: 252, 5: 312, 6: 372, 7: 432, 8: 492, 9: 552, 10: 612, 11: 672, \n",
    "#  12: 732, 13: 792, 14: 852, 15: 912, 16: 972, 17: 1032, 18: 1092, 19: 1152, 20: 1212, 21: 1272, 22: 1332, 23: 1392}\n",
    "for i in range(num_t):\n",
    "    \n",
    "    # leave house 0\n",
    "    if i%DAY < first_time_dict[22] and i%DAY > first_time_dict[8]:\n",
    "        priorC[i][0] += 20\n",
    "    # eating should between 7-9am 11-13 18-20\n",
    "    if (i%DAY > first_time_dict[7] and i%DAY < first_time_dict[9]) or (i%DAY > first_time_dict[11] and i%DAY < first_time_dict[13]) or (i%DAY > first_time_dict[18] and i%DAY < first_time_dict[20]):\n",
    "        priorC[i][1] += LESS_LIKELY\n",
    "    \n",
    "    # Use Toilet downstairs should be uniformly distributed around 8am to 10pm 2:\n",
    "    if i%DAY > first_time_dict[8] or i%DAY<first_time_dict[22]:\n",
    "        priorC[i][2] += LESS_LIKELY\n",
    "        \n",
    "    # Take Shower should be around 6-8am and 21-23 3\n",
    "    if (i%DAY > first_time_dict[7] and i%DAY < first_time_dict[9]) or (i%DAY > first_time_dict[21] and i%DAY < first_time_dict[23]):\n",
    "        priorC[i][3] += LIKELY\n",
    "        \n",
    "    # brush teeth between 6 and 7, 22 and 23 4\n",
    "    if (i%DAY > first_time_dict[6] and i%DAY < first_time_dict[7]) or (i%DAY > first_time_dict[22] and i%DAY < first_time_dict[23]):\n",
    "        priorC[i][4] += HIGHLY_LIKELY\n",
    "        \n",
    "    # Use toilet upstairs always happen at night 20 - 7 5\n",
    "    if i%DAY > first_time_dict[22] or i%DAY < first_time_dict[7]:\n",
    "        priorC[i][5] += LESS_LIKELY\n",
    "    \n",
    "    # Shave should be in the morning around 6-8\n",
    "    if i%DAY > first_time_dict[6] and i%DAY < first_time_dict[8]:\n",
    "        priorC[i][6] += LESS_LIKELY\n",
    "        \n",
    "    # Sleep should be 23 - 7 7\n",
    "    if i%DAY > first_time_dict[23] or i%DAY < first_time_dict[7]:\n",
    "        priorC[i][7] += ALMOST_CERTAINLY\n",
    "    \n",
    "    # get dressed should be around 7-9 am 8\n",
    "    if i%DAY > first_time_dict[7] and i%DAY < first_time_dict[9]:\n",
    "        priorC[i][8] += HIGHLY_LIKELY\n",
    "    \n",
    "    # take medication should happen uniformly between 8-23 9 \n",
    "    if i%DAY > first_time_dict[8] and i%DAY < first_time_dict[23]:\n",
    "        priorC[i][9] += LESS_LIKELY\n",
    "    \n",
    "    # prepare breakfast should be in 7-8 am: 10\n",
    "    if i%DAY > first_time_dict[6] and i%DAY < first_time_dict[8]:\n",
    "        priorC[i][10] += LIKELY\n",
    "    \n",
    "    \n",
    "    #  11: {'prepare Lunch'} 11 - 12\n",
    "    if i%DAY > first_time_dict[11] and i%DAY < first_time_dict[12]:\n",
    "        priorC[i][11] += HIGHLY_LIKELY\n",
    "    \n",
    "    #  12: {'prepare Dinner'} 17-19\n",
    "    if i%DAY > first_time_dict[17] and i%DAY < first_time_dict[19]:\n",
    "        priorC[i][12] += HIGHLY_LIKELY\n",
    "    \n",
    "    #  13: {'get snack'}, 8-20\n",
    "#     if i%DAY > first_time_dict[8] and i%DAY < first_time_dict[20]:\n",
    "#         priorC[i][13] += LESS_LIKELY\n",
    "        \n",
    "    #  14: {'get drink'}, 8-23\n",
    "    if i%DAY > first_time_dict[8] and i%DAY < first_time_dict[23]:\n",
    "        priorC[i][14] += LESS_LIKELY\n",
    "    \n",
    "    #15: {'put clothes in washingmachine'}, 8 - 20\n",
    "    if i%DAY > first_time_dict[8] and i%DAY < first_time_dict[20]:\n",
    "        priorC[i][15] += LESS_LIKELY\n",
    "    \n",
    "    #  16: {'relax'}, 8-23\n",
    "    if i%DAY > first_time_dict[8] and i%DAY < first_time_dict[20]:\n",
    "        priorC[i][16] += ALMOST_CERTAINLY    \n",
    "    \n",
    "    # Unknown state\n",
    "    if i%DAY > first_time_dict[8] and i%DAY < first_time_dict[23]:\n",
    "        priorC[i][17] += HIGHLY_LIKELY\n",
    "        \n",
    " \n",
    "    priorC[i]/=np.sum(priorC[i])\n",
    "\n",
    "#print np.max(priorC[0])"
   ]
  },
  {
   "cell_type": "code",
   "execution_count": 163,
   "metadata": {
    "collapsed": false
   },
   "outputs": [
    {
     "data": {
      "text/plain": [
       "<matplotlib.text.Text at 0x1338541d0>"
      ]
     },
     "execution_count": 163,
     "metadata": {},
     "output_type": "execute_result"
    },
    {
     "data": {
      "image/png": "[encoded data removed]",
      "text/plain": [
       "<matplotlib.figure.Figure at 0x1303df810>"
      ]
     },
     "metadata": {},
     "output_type": "display_data"
    }
   ],
   "source": [
    "\n",
    "# # {0: {'leave house'},\n",
    "#  1: {'Eating'},\n",
    "#  2: {'use toilet downstairs'},\n",
    "#  3: {'take shower'},\n",
    "#  4: {'brush teeth'},\n",
    "#  5: {'use toilet upstairs'},\n",
    "#  6: {'shave'},\n",
    "#  7: {'go to bed'},\n",
    "#  8: {'get dressed'},\n",
    "#  9: {'take medication'},\n",
    "#  10: {'prepare Breakfast'},\n",
    "#  11: {'prepare Lunch'},\n",
    "#  12: {'prepare Dinner'},\n",
    "#  13: {'get snack'},\n",
    "#  14: {'get drink'},\n",
    "#  15: {'put clothes in washingmachine'},\n",
    "#  16: {'relax'},\n",
    "#  17: set()}\n",
    "day1 = np.arange(24)\n",
    "fig, ax = plt.subplots(5,1,figsize = (10,25))\n",
    "zero_start = first_time_dict[0]\n",
    "# leaving\n",
    "#print ax[0]\n",
    "day_leaving = priorC[:,0][zero_start:MINUTE * 24+zero_start].reshape(24,60)\n",
    "day_hourly_leaving = np.mean(day_leaving,axis=1)\n",
    "#day_hourly_leaving = np.roll(day_hourly_leaving,0)\n",
    "sns.barplot(day1,day_hourly_leaving,color=\"b\",alpha = 0.3,ax=ax[0])\n",
    "ax[0].set_xticks(np.arange(0,24,1))\n",
    "ax[0].set_xlim(0,23)\n",
    "ax[0].set_xlabel('Hours')\n",
    "ax[0].set_ylabel('Probability')\n",
    "ax[0].set_title('Leaving House Prior')\n",
    "\n",
    "#take shower\n",
    "day_showering = priorC[:,3][zero_start:MINUTE * 24+zero_start].reshape(24,60)\n",
    "day_hourly_showering = np.mean(day_showering,axis=1)\n",
    "#day_hourly_showering = np.roll(day_hourly_showering,2)\n",
    "sns.barplot(day1,day_hourly_showering,color=\"b\",alpha = 0.3,ax = ax[1])\n",
    "ax[1].set_xticks(np.arange(0,24,1))\n",
    "ax[1].set_xlim(0,23)\n",
    "ax[1].set_xlabel('Hours')\n",
    "ax[1].set_ylabel('Probability')\n",
    "ax[1].set_title('Showering Prior')\n",
    "\n",
    "day_bed = priorC[:,7][zero_start:MINUTE * 24+zero_start].reshape(24,60)\n",
    "day_hourly_bed = np.mean(day_bed,axis=1)\n",
    "#day_hourly_bed = np.roll(day_hourly_bed,2)\n",
    "sns.barplot(day1,day_hourly_bed,color=\"b\",alpha = 0.3,ax = ax[2])\n",
    "ax[2].set_xticks(np.arange(0,24,1))\n",
    "ax[2].set_xlim(0,23)\n",
    "ax[2].set_xlabel('Hours')\n",
    "ax[2].set_ylabel('Probability')\n",
    "ax[2].set_title('Sleeping Prior')\n",
    "\n",
    "day_eat = priorC[:,1][zero_start:zero_start+MINUTE * 24].reshape(24,60)\n",
    "day_hourly_eat = np.mean(day_eat,axis=1)\n",
    "#day_hourly_prepare_breakfast = np.roll(day_hourly_prepare_breakfast,2)\n",
    "sns.barplot(day1,day_hourly_eat,color=\"b\",alpha = 0.3,ax = ax[3])\n",
    "ax[3].set_xticks(np.arange(0,24,1))\n",
    "ax[3].set_xlim(0,23)\n",
    "ax[3].set_xlabel('Hours')\n",
    "ax[3].set_ylabel('Probability')\n",
    "ax[3].set_title('Eating Prior')\n",
    "\n",
    "day_prepare_breakfast = priorC[:,10][zero_start:zero_start+MINUTE * 24].reshape(24,60)\n",
    "day_hourly_prepare_breakfast = np.mean(day_prepare_breakfast,axis=1)\n",
    "#day_hourly_guest = np.roll(day_hourly_guest,2)\n",
    "sns.barplot(day1,day_hourly_prepare_breakfast,color=\"b\",alpha = 0.3,ax = ax[4])\n",
    "ax[4].set_xticks(np.arange(0,24,1))\n",
    "ax[4].set_xlim(0,23)\n",
    "ax[4].set_xlabel('Hours')\n",
    "ax[4].set_ylabel('Probability')\n",
    "ax[4].set_title('Preparing Breakfast Prior')\n"
   ]
  },
  {
   "cell_type": "code",
   "execution_count": 172,
   "metadata": {
    "collapsed": false
   },
   "outputs": [],
   "source": [
    "np.save('Prior_A.npy',priorA)\n",
    "np.save('Prior_B.npy',priorB)\n",
    "np.save('Prior_C.npy',priorC)"
   ]
  },
  {
   "cell_type": "code",
   "execution_count": 35,
   "metadata": {
    "collapsed": false
   },
   "outputs": [
    {
     "data": {
      "text/plain": [
       "u'/Users/yuhantang/AM207Project/correct_version/am207finalproject/data'"
      ]
     },
     "execution_count": 35,
     "metadata": {},
     "output_type": "execute_result"
    }
   ],
   "source": [
    "pwd"
   ]
  },
  {
   "cell_type": "code",
   "execution_count": null,
   "metadata": {
    "collapsed": true
   },
   "outputs": [],
   "source": []
  },
  {
   "cell_type": "markdown",
   "metadata": {
    "collapsed": true
   },
   "source": [
    "# IGNORE THE REST for now, Possibly WRONG"
   ]
  },
  {
   "cell_type": "markdown",
   "metadata": {},
   "source": [
    "# ChangePrior"
   ]
  },
  {
   "cell_type": "markdown",
   "metadata": {},
   "source": [
    "{0: {'leave house'},\n",
    " 1: {'Eating'},\n",
    " 2: {'use toilet'},\n",
    " 3: {'take shower'},\n",
    " 4: {'brush teeth'},\n",
    " 5: {'go to bed'},\n",
    " 6: {'prepare Breakfast'},\n",
    " 7: {'prepare Dinner'},\n",
    " 8: {'get snack'},\n",
    " 9: {'get drink'},\n",
    " 10: {'put items in dishwasher'},\n",
    " 11: {'unload dishwasher'},\n",
    " 12: {'store groceries'},\n",
    " 13: {'put clothes in washingmachine'},\n",
    " 14: {'unload washingmachine'},\n",
    " 15: {'receive guest'},\n",
    " 16: set()}"
   ]
  },
  {
   "cell_type": "code",
   "execution_count": null,
   "metadata": {
    "collapsed": true
   },
   "outputs": [],
   "source": [
    "act_df,sensor_df,X,Y = read_data('A', 'c')\n",
    "#build 4 dict, act to idx, idx to act, sensor to idx, idx to sensor\n",
    "all_act = list(set(act_df.label)) + [0] #all the act labels\n",
    "a2i = dict(zip(all_act, range(len(all_act))))\n",
    "i2a = dict(zip(range(len(all_act)), all_act))\n",
    "\n",
    "all_sensor = list(set(sensor_df.label))\n",
    "i2s = dict(zip(range(len(all_sensor)), all_sensor))\n",
    "s2i = dict(zip(all_sensor, range(len(all_sensor))))\n",
    "\n",
    "timeslice = 60\n",
    "start = min(min(act_df.start_sec), min(sensor_df.start_sec))\n",
    "end = max(max(act_df.end_sec), max(sensor_df.end_sec))\n",
    "if (end-start)%timeslice != 0:\n",
    "    end = (1+(end-start)/timeslice)*timeslice + start\n",
    "duration = end-start\n"
   ]
  },
  {
   "cell_type": "code",
   "execution_count": null,
   "metadata": {
    "collapsed": false
   },
   "outputs": [],
   "source": [
    "num_t = len(X)\n",
    "num_act = len(all_act)\n",
    "\n",
    "HOUR = 60\n",
    "MINUTE = 60\n",
    "DAY = 60 * 24\n",
    "NOT_LIKELY = 0\n",
    "LESS_LIKELY = 1\n",
    "LIKELY = 2\n",
    "HIGHLY_LIKELY = 3\n",
    "VERY_LIKELY = 4 \n",
    "ALMOST_CERTAINLY = 8\n",
    "# six_am of starting date of house A at Amsterdam\n",
    "first_zero_am = 1203894000\n",
    "first_six_am = 1203915600\n",
    "first_time_dict = {}\n",
    "for i in range(24):\n",
    "    first_time_dict[i] = (first_six_am - start)/MINUTE + (i-6) * MINUTE\n",
    "    if first_time_dict[i]<0:\n",
    "        first_time_dict[i] += 24 * HOUR\n",
    "minute_hour_dict = {k:v for v,k in first_time_dict.items()}\n",
    "\n",
    "all_sensor = list(set(sensor_df.label))\n",
    "i2s = dict(zip(range(len(all_sensor)), all_sensor))\n",
    "s2i = dict(zip(all_sensor, range(len(all_sensor))))\n",
    "priorA = np.zeros([num_t,num_act+1])\n",
    "for i in range(priorA.shape[0]):\n",
    "    priorA[i] = np.random.uniform(size=num_act+1)\n",
    "random_priorA = priorA.copy()\n",
    "print priorA[0]\n",
    "#print priorA[0]\n",
    "# add some prior to it\n",
    "# leaving the house should be uniform between 8:00am to 10:00pm, and basically 0 between 10:00pm to 8:00am\n",
    "first_leaving = (first_six_am + 2 * HOUR * MINUTE - start)/MINUTE\n",
    "#print first_leaving\n",
    "end_leaving = first_leaving + HOUR * (22-8)\n",
    "\n",
    "# {0: {'leave house'},\n",
    "#  1: {'Eating'},\n",
    "#  2: {'use toilet'},\n",
    "#  3: {'take shower'},\n",
    "#  4: {'brush teeth'},\n",
    "#  5: {'go to bed'},\n",
    "#  6: {'prepare Breakfast'},\n",
    "#  7: {'prepare Dinner'},\n",
    "#  8: {'get snack'},\n",
    "#  9: {'get drink'},\n",
    "#  10: {'put items in dishwasher'},\n",
    "#  11: {'unload dishwasher'},\n",
    "#  12: {'store groceries'},\n",
    "#  13: {'put clothes in washingmachine'},\n",
    "#  14: {'unload washingmachine'},\n",
    "#  15: {'receive guest'},\n",
    "#  16: set()}\n",
    "\n",
    "# {0: 1360, 1: 1420, 2: 40, 3: 100, 4: 160, 5: 220, 6: 280, 7: 340, 8: 400, 9: 460, 10: 520, 11: 580, \n",
    "#  12: 640, 13: 700, 14: 760, 15: 820, 16: 880, 17: 940, 18: 1000, 19: 1060, 20: 1120, 21: 1180, 22: 1240, 23: 1300}\n",
    "for i in range(num_t):\n",
    "    \n",
    "    # leave house\n",
    "    if (i%DAY < first_time_dict[20] and i%DAY > first_time_dict[6]) or (i%DAY > first_time_dict[7] and i%DAY < first_time_dict[8]):\n",
    "        priorA[i][0] += ALMOST_CERTAINLY\n",
    "        \n",
    "    # eating 6-9 am 12 -13 pm 18-19\n",
    "    #if (i%DAY > first_time_dict[6] and i%DAY < first_time_dict[8]) or (i%DAY > first_time_dict[12] and i%DAY < first_time_dict[13]) or (i%DAY > first_time_dict[18] and i%DAY < first_time_dict[19]):\n",
    "    priorA[i][1] = 0\n",
    "\n",
    "    # use toilet should be uniform 2\n",
    "    \n",
    "    # Take shower should be within 6-8am and 21-23 3\n",
    "    \n",
    "    if (i%DAY > first_time_dict[6] and i%DAY < first_time_dict[8]) or (i%DAY > first_time_dict[21] and i%DAY < first_time_dict[23]):\n",
    "        priorA[i][3] += ALMOST_CERTAINLY\n",
    "    \n",
    "    # brush teath is so short to modify 4\n",
    "    if (i%DAY > first_time_dict[7] and i%DAY < first_time_dict[8]) or (i%DAY > first_time_dict[22] and i%DAY < first_time_dict[23]):\n",
    "        priorA[i][4] += ALMOST_CERTAINLY\n",
    "    \n",
    "    \n",
    "    # go to bed should between 11:00pm to 7:00 am 5\n",
    "    if (i%DAY > first_time_dict[22] and i%DAY < first_time_dict[1]) or (i%DAY < first_time_dict[8] and i%DAY > first_time_dict[6]):\n",
    "        priorA[i][5] += ALMOST_CERTAINLY\n",
    "    \n",
    "    # prepare Breakfast must be within 6-8am 6 \n",
    "    if (i%DAY > first_time_dict[6] and i%DAY < first_time_dict[9]):\n",
    "        priorA[i][6] += ALMOST_CERTAINLY\n",
    "    \n",
    "    # prepare Dinner must be within 5-7 pm 7\n",
    "    if (i%DAY > first_time_dict[17] and i%DAY < first_time_dict[19]):\n",
    "        priorA[i][7] += ALMOST_CERTAINLY\n",
    "    \n",
    "    # get snack is almost uniformly distributed within day time 8am-10pm 8\n",
    "#     if (i%DAY > first_time_dict[8] and i%DAY < first_time_dict[22]):\n",
    "#         priorA[i][8] += ALMOST_CERTAINLY\n",
    "    \n",
    "    # get drink is identical to get snack 9\n",
    "#     if (i%DAY > first_time_dict[8] and i%DAY < first_time_dict[22]):\n",
    "#         priorA[i][9] += ALMOST_CERTAINLY\n",
    "        \n",
    "    # 'put items in dishwasher' randomly among all day.10\n",
    "    #if (i%DAY > first_time_dict[8] and i%DAY < first_time_dict[20]):\n",
    "        #priorA[i][10] += LESS_LIKELY\n",
    "    \n",
    "    # unload dishwasher randomly from 10 am to 8 pm11\n",
    "#     if (i%DAY > first_time_dict[10] and i%DAY < first_time_dict[20]):\n",
    "#         priorA[i][11] += ALMOST_CERTAINLY\n",
    "        \n",
    "    # store greceries, randomly among all day from 10 am to 7pm 12\n",
    "#     if (i%DAY > first_time_dict[10] and i%DAY < first_time_dict[19]):\n",
    "#         priorA[i][12] += ALMOST_CERTAINLY\n",
    "    \n",
    "    # put clothes in washingmachine key no change 13 no change\n",
    "    # unload washingmachine no change\n",
    "    # receive guest randomly between 10 am to 5 pm: change15\n",
    "    \n",
    "    if (i%DAY > first_time_dict[10] and i%DAY < first_time_dict[17]):\n",
    "        priorA[i][15] += ALMOST_CERTAINLY\n",
    "    \n",
    "    # Unknown state 16, almost certainly from 8am - 10pm:\n",
    "    \n",
    "    if (i%DAY > first_time_dict[8] and i%DAY < first_time_dict[23]):\n",
    "        priorA[i][16] += ALMOST_CERTAINLY\n",
    "        \n",
    "    priorA[i]/=np.sum(priorA[i])\n",
    "# Eating should be around 6-9 am, 12 - 1 pm, and 6-7 pm\n",
    "\n",
    "# for i in range(num_t):\n",
    "#     if i%DAY > first_time_dict[6] and i%DAY < first_time_dict[9] \n",
    "#     \\ or i%DAY > first_time_dict[12] and i%DAY < first_time_dict[13] \n",
    "#     \\ or i%DAY > first_time_dict[18] and i%DAY < first_time_dict[19]:\n",
    "#         priorA[i][1] += 2\n"
   ]
  },
  {
   "cell_type": "code",
   "execution_count": null,
   "metadata": {
    "collapsed": false
   },
   "outputs": [],
   "source": [
    "day1 = np.arange(24)\n",
    "fig, ax = plt.subplots(5,1,figsize = (10,25))\n",
    "# Eating\n",
    "#print ax[0]\n",
    "day_eating = priorA[:,1][:MINUTE * 24].reshape(24,60)\n",
    "day_hourly_eating = np.mean(day_eating,axis=1)\n",
    "day_hourly_eating = np.roll(day_hourly_eating,2)\n",
    "sns.barplot(day1,day_hourly_eating,color=\"b\",alpha = 0.3,ax=ax[0])\n",
    "ax[0].set_xticks(np.arange(0,24,1))\n",
    "ax[0].set_xlim(0,23)\n",
    "ax[0].set_xlabel('Hours')\n",
    "ax[0].set_ylabel('Probability')\n",
    "ax[0].set_title('Eating Prior')\n",
    "\n",
    "#take shower\n",
    "day_showering = priorA[:,3][:MINUTE * 24].reshape(24,60)\n",
    "day_hourly_showering = np.mean(day_showering,axis=1)\n",
    "day_hourly_showering = np.roll(day_hourly_showering,2)\n",
    "sns.barplot(day1,day_hourly_showering,color=\"b\",alpha = 0.3,ax = ax[1])\n",
    "ax[1].set_xticks(np.arange(0,24,1))\n",
    "ax[1].set_xlim(0,23)\n",
    "ax[1].set_xlabel('Hours')\n",
    "ax[1].set_ylabel('Probability')\n",
    "ax[1].set_title('Showering Prior')\n",
    "\n",
    "day_bed = priorA[:,5][:MINUTE * 24].reshape(24,60)\n",
    "day_hourly_bed = np.mean(day_bed,axis=1)\n",
    "day_hourly_bed = np.roll(day_hourly_bed,2)\n",
    "sns.barplot(day1,day_hourly_bed,color=\"b\",alpha = 0.3,ax = ax[2])\n",
    "ax[2].set_xticks(np.arange(0,24,1))\n",
    "ax[2].set_xlim(0,23)\n",
    "ax[2].set_xlabel('Hours')\n",
    "ax[2].set_ylabel('Probability')\n",
    "ax[2].set_title('Sleeping Prior')\n",
    "\n",
    "day_prepare_breakfast = priorA[:,6][:MINUTE * 24].reshape(24,60)\n",
    "day_hourly_prepare_breakfast = np.mean(day_prepare_breakfast,axis=1)\n",
    "day_hourly_prepare_breakfast = np.roll(day_hourly_prepare_breakfast,2)\n",
    "sns.barplot(day1,day_hourly_prepare_breakfast,color=\"b\",alpha = 0.3,ax = ax[3])\n",
    "ax[3].set_xticks(np.arange(0,24,1))\n",
    "ax[3].set_xlim(0,23)\n",
    "ax[3].set_xlabel('Hours')\n",
    "ax[3].set_ylabel('Probability')\n",
    "ax[3].set_title('Preparing Breakfast Prior')\n",
    "\n",
    "day_guest = priorA[:,15][:MINUTE * 24].reshape(24,60)\n",
    "day_hourly_guest = np.mean(day_guest,axis=1)\n",
    "day_hourly_guest = np.roll(day_hourly_guest,2)\n",
    "sns.barplot(day1,day_hourly_guest,color=\"b\",alpha = 0.3,ax = ax[4])\n",
    "ax[4].set_xticks(np.arange(0,24,1))\n",
    "ax[4].set_xlim(0,23)\n",
    "ax[4].set_xlabel('Hours')\n",
    "ax[4].set_ylabel('Probability')\n",
    "ax[4].set_title('Receiving Guest Prior')\n"
   ]
  },
  {
   "cell_type": "code",
   "execution_count": null,
   "metadata": {
    "collapsed": false
   },
   "outputs": [],
   "source": [
    "np.save('C_Prior_A',priorA)"
   ]
  },
  {
   "cell_type": "code",
   "execution_count": null,
   "metadata": {
    "collapsed": false
   },
   "outputs": [],
   "source": [
    "pwd"
   ]
  },
  {
   "cell_type": "markdown",
   "metadata": {},
   "source": [
    "# Prior B"
   ]
  },
  {
   "cell_type": "code",
   "execution_count": null,
   "metadata": {
    "collapsed": false
   },
   "outputs": [],
   "source": [
    "#read in data, choose a house and a X matrix type\n",
    "act_df,sensor_df,X,Y = read_data('B', 'c')\n",
    "#build 4 dict, act to idx, idx to act, sensor to idx, idx to sensor\n",
    "all_act = list(set(act_df.label)) + [0] #all the act labels\n",
    "a2i = dict(zip(all_act, range(len(all_act))))\n",
    "i2a = dict(zip(range(len(all_act)), all_act))\n",
    "\n",
    "all_sensor = list(set(sensor_df.label))\n",
    "i2s = dict(zip(range(len(all_sensor)), all_sensor))\n",
    "s2i = dict(zip(all_sensor, range(len(all_sensor))))\n",
    "timeslice = 60\n",
    "start = min(min(act_df.start_sec), min(sensor_df.start_sec))\n",
    "end = max(max(act_df.end_sec), max(sensor_df.end_sec))\n",
    "if (end-start)%timeslice != 0:\n",
    "    end = (1+(end-start)/timeslice)*timeslice + start\n",
    "duration = end-start\n",
    "print start,end\n",
    "i2m = {}\n",
    "for i in range(len(all_act)):\n",
    "    i2m[i] = set(list(act_df[act_df['label']==i2a[i]]['meaning']))"
   ]
  },
  {
   "cell_type": "code",
   "execution_count": null,
   "metadata": {
    "collapsed": false
   },
   "outputs": [],
   "source": [
    "i2m"
   ]
  },
  {
   "cell_type": "code",
   "execution_count": null,
   "metadata": {
    "collapsed": false
   },
   "outputs": [],
   "source": [
    "# Prior\n",
    "num_t = len(X)\n",
    "num_act = len(all_act)\n",
    "HOUR = 60\n",
    "MINUTE = 60\n",
    "DAY = 60 * 24\n",
    "NOT_LIKELY = 0\n",
    "LESS_LIKELY = 1\n",
    "LIKELY = 2\n",
    "HIGHLY_LIKELY = 3\n",
    "VERY_LIKELY = 4 \n",
    "ALMOST_CERTAINLY = 8\n",
    "# six_am of starting date of house A at Amsterdam\n",
    "#first_zero_am = 1203894000\n",
    "first_six_am = 1248235200\n",
    "first_time_dict = {}\n",
    "#{0: 509, 1: 569, 2: 629, 3: 689, 4: 749, 5: 809, 6: 869, 7: 929, 8: 989, 9: 1049, 10: 1109, 11: 1169, \n",
    "#12: 1229, 13: 1289, 14: 1349, 15: 1409, 16: 29, 17: 89, 18: 149, 19: 209, 20: 269, 21: 329, 22: 389, 23: 449}\n",
    "\n",
    "for i in range(24):\n",
    "    first_time_dict[i] = (first_six_am - start)/MINUTE + (i-6) * MINUTE\n",
    "    if first_time_dict[i]<0:\n",
    "        first_time_dict[i] += 24 * HOUR\n",
    "    elif first_time_dict[i] > 60*24:\n",
    "        first_time_dict[i] -= 24 * HOUR\n",
    "minute_hour_dict = {k:v for v,k in first_time_dict.items()}\n",
    "#print first_time_dict\n",
    "priorB = np.zeros([num_t,num_act])\n",
    "for i in range(priorB.shape[0]):\n",
    "    priorB[i] = np.random.uniform(size=num_act)\n",
    "random_priorB = priorB.copy()\n",
    "#print priorB[0]\n",
    "#print priorA[0]\n",
    "# add some prior to it\n",
    "# leaving the house should be uniform between 8:00am to 10:00pm, and basically 0 between 10:00pm to 8:00am\n",
    "first_leaving = (first_six_am + 2 * HOUR * MINUTE - start)/MINUTE\n",
    "#print first_leaving\n",
    "end_leaving = first_leaving + HOUR * (22-8)\n",
    "\n",
    "# {0: {'Leaving the house'},\n",
    "#  1: {'Use toilet'},\n",
    "#  2: {'Take shower'},\n",
    "#  3: {'Brush teeth'},\n",
    "#  4: {'Shaving'},\n",
    "#  5: {'Go to bed'},\n",
    "#  6: {'Get dressed'},\n",
    "#  7: {'Prepare brunch'},\n",
    "#  8: {'Prepare dinner'},\n",
    "#  9: {'Get a drink'},\n",
    "#  10: {'Wash dishes'},\n",
    "#  11: {'Answering phone'},\n",
    "#  12: {'Eat dinner'},\n",
    "#  13: {'Eat brunch'},\n",
    "#  14: {'Setting up sensors'},\n",
    "#  15: {'Unpacking'},\n",
    "#  16: {'Install sensor'},\n",
    "#  17: {'On phone'},\n",
    "#  18: {'Fasten kitchen camera'},\n",
    "#  19: {'Wash toaster'},\n",
    "#  20: {'Play piano'},\n",
    "#  21: {'Gwenn searches keys'},\n",
    "#  22: {'Prepare for leaving'},\n",
    "#  23: {'Drop dish (No dishwash)'},\n",
    "#  24: set()}\n",
    "#{0: 509, 1: 569, 2: 629, 3: 689, 4: 749, 5: 809, 6: 869, 7: 929, 8: 989, 9: 1049, 10: 1109, 11: 1169, \n",
    "#12: 1229, 13: 1289, 14: 1349, 15: 1409, 16: 29, 17: 89, 18: 149, 19: 209, 20: 269, 21: 329, 22: 389, 23: 449}\n",
    "\n",
    "for i in range(num_t):\n",
    "    \n",
    "    # leave house 0\n",
    "    if (i%DAY < first_time_dict[20] and i%DAY > first_time_dict[18]) or (i%DAY > first_time_dict[8] and i%DAY < first_time_dict[9]):\n",
    "        priorB[i][0] += ALMOST_CERTAINLY\n",
    "    \n",
    "#     # Use Toilet should be uniformly distributed around 8am to 10pm 1:\n",
    "#     if i%DAY > first_time_dict[8] or i%DAY<first_time_dict[22]:\n",
    "#         priorB[i][1] += LESS_LIKELY\n",
    "        \n",
    "    # Take Shower should be around 6-8am and 21-23 2\n",
    "    if (i%DAY > first_time_dict[7] and i%DAY < first_time_dict[9]):\n",
    "        priorB[i][2] += ALMOST_CERTAINLY\n",
    "        \n",
    "    # brush teeth between 6 and 7, 22 and 23 3\n",
    "    if (i%DAY > first_time_dict[7] and i%DAY < first_time_dict[8]) or (i%DAY > first_time_dict[22] and i%DAY < first_time_dict[23]):\n",
    "        priorB[i][3] += ALMOST_CERTAINLY\n",
    "        \n",
    "    # Shaving should between 7-8 4\n",
    "    if (i%DAY > first_time_dict[6] and i%DAY < first_time_dict[7]):\n",
    "        priorB[i][4] += ALMOST_CERTAINLY\n",
    "        \n",
    "    # Sleep should between 11pm to 7am 5\n",
    "    if (i%DAY > first_time_dict[23] and i%DAY < first_time_dict[1]) or (i%DAY < first_time_dict[8] and i%DAY > first_time_dict[6]):\n",
    "        priorB[i][5] += ALMOST_CERTAINLY\n",
    "    \n",
    "    # get dressed should between 8-9 am 6\n",
    "    if (i%DAY > first_time_dict[8] and i%DAY < first_time_dict[9]) or (i%DAY > first_time_dict[22] and i%DAY < first_time_dict[23]):\n",
    "        priorB[i][6] += ALMOST_CERTAINLY\n",
    "    \n",
    "    # Prepare Brunch 9-11 7\n",
    "    if i%DAY > first_time_dict[9] and i%DAY < first_time_dict[11]:\n",
    "        priorB[i][7] += ALMOST_CERTAINLY\n",
    "    \n",
    "    # Prepare Dinner 17 -18 8\n",
    "    if i%DAY > first_time_dict[17] and i%DAY < first_time_dict[18]:\n",
    "        priorB[i][8] += ALMOST_CERTAINLY\n",
    "    \n",
    "#     # get a drink should between 9 - 22 9\n",
    "#     if i%DAY > first_time_dict[9] or i%DAY < first_time_dict[22]:\n",
    "#         priorB[i][9] += LESS_LIKELY\n",
    "        \n",
    "#     # wash dish should be uniform betwwen 9-22 10\n",
    "    if i%DAY > first_time_dict[9] or i%DAY < first_time_dict[22]:\n",
    "         priorB[i][10] += LESS_LIKELY\n",
    "        \n",
    "#     # Answering Phone should be uniform around 9-22 11\n",
    "#     if i%DAY > first_time_dict[9] or i%DAY < first_time_dict[22]:\n",
    "#         priorB[i][11] += LESS_LIKELY\n",
    "        \n",
    "    # Eat Dinner should be around 18 -20 12\n",
    "    if i%DAY > first_time_dict[18] and i%DAY < first_time_dict[19]:\n",
    "        priorB[i][12] += ALMOST_CERTAINLY\n",
    "    \n",
    "    # eat Brunch should be around 11-12 13\n",
    "    if i%DAY > first_time_dict[11] and i%DAY < first_time_dict[12]:\n",
    "        priorB[i][13] += LESS_LIKELY\n",
    "        \n",
    "    # setting up sensor should not be modified 14\n",
    "    # unpacking should not be modified 15\n",
    "    # install sensor should not be modified 16\n",
    "    # on phone should be the same as answering phone 17\n",
    "#     if i%DAY > first_time_dict[9] or i%DAY < first_time_dict[22]:\n",
    "#         priorB[i][17] += LESS_LIKELY\n",
    "        \n",
    "    # Fasten kitchen camera should not be modified 18\n",
    "    # wash toatser not modified 19\n",
    "    # play piano should be around 18 - 22 20\n",
    "#     if i%DAY > first_time_dict[18] and i%DAY < first_time_dict[22]:\n",
    "#         priorB[i][20] += LIKELY\n",
    "    \n",
    "    # searches key not modified 21\n",
    "    # prepare for leaving should be around 8 - 9 22\n",
    "#     if i%DAY > first_time_dict[8] and i%DAY < first_time_dict[9]:\n",
    "#         priorB[i][22] += HIGHLY_LIKELY\n",
    "    \n",
    "    \n",
    "    # drop dish no midification 23\n",
    "    priorB[i][23] = 1e-5\n",
    "    # Unknown state \n",
    "    if i%DAY > first_time_dict[9] or i%DAY < first_time_dict[22]:\n",
    "        priorB[i][24] += ALMOST_CERTAINLY\n",
    "    priorB[i]/=np.sum(priorB[i])\n",
    "\n",
    "print np.max(priorB[0])"
   ]
  },
  {
   "cell_type": "code",
   "execution_count": null,
   "metadata": {
    "collapsed": false
   },
   "outputs": [],
   "source": [
    "day1 = np.arange(24)\n",
    "fig, ax = plt.subplots(5,1,figsize = (10,25))\n",
    "zero_start = first_time_dict[0]\n",
    "# leaving\n",
    "#print ax[0]\n",
    "day_leaving = priorB[:,0][zero_start:MINUTE * 24+zero_start].reshape(24,60)\n",
    "day_hourly_leaving = np.mean(day_leaving,axis=1)\n",
    "#day_hourly_leaving = np.roll(day_hourly_leaving,0)\n",
    "sns.barplot(day1,day_hourly_leaving,color=\"b\",alpha = 0.3,ax=ax[0])\n",
    "ax[0].set_xticks(np.arange(0,24,1))\n",
    "ax[0].set_xlim(0,23)\n",
    "ax[0].set_xlabel('Hours')\n",
    "ax[0].set_ylabel('Probability')\n",
    "ax[0].set_title('Leaving House Prior')\n",
    "\n",
    "#take shower\n",
    "day_showering = priorB[:,2][zero_start:MINUTE * 24+zero_start].reshape(24,60)\n",
    "day_hourly_showering = np.mean(day_showering,axis=1)\n",
    "#day_hourly_showering = np.roll(day_hourly_showering,2)\n",
    "sns.barplot(day1,day_hourly_showering,color=\"b\",alpha = 0.3,ax = ax[1])\n",
    "ax[1].set_xticks(np.arange(0,24,1))\n",
    "ax[1].set_xlim(0,23)\n",
    "ax[1].set_xlabel('Hours')\n",
    "ax[1].set_ylabel('Probability')\n",
    "ax[1].set_title('Showering Prior')\n",
    "\n",
    "day_bed = priorB[:,5][zero_start:MINUTE * 24+zero_start].reshape(24,60)\n",
    "day_hourly_bed = np.mean(day_bed,axis=1)\n",
    "#day_hourly_bed = np.roll(day_hourly_bed,2)\n",
    "sns.barplot(day1,day_hourly_bed,color=\"b\",alpha = 0.3,ax = ax[2])\n",
    "ax[2].set_xticks(np.arange(0,24,1))\n",
    "ax[2].set_xlim(0,23)\n",
    "ax[2].set_xlabel('Hours')\n",
    "ax[2].set_ylabel('Probability')\n",
    "ax[2].set_title('Sleeping Prior')\n",
    "\n",
    "day_eat_dinner = priorB[:,12][zero_start:zero_start+MINUTE * 24].reshape(24,60)\n",
    "day_hourly_eat_dinner = np.mean(day_eat_dinner,axis=1)\n",
    "#day_hourly_prepare_breakfast = np.roll(day_hourly_prepare_breakfast,2)\n",
    "sns.barplot(day1,day_hourly_eat_dinner,color=\"b\",alpha = 0.3,ax = ax[3])\n",
    "ax[3].set_xticks(np.arange(0,24,1))\n",
    "ax[3].set_xlim(0,23)\n",
    "ax[3].set_xlabel('Hours')\n",
    "ax[3].set_ylabel('Probability')\n",
    "ax[3].set_title('Eating Dinner Prior')\n",
    "\n",
    "day_eat_brunch = priorB[:,13][zero_start:zero_start+MINUTE * 24].reshape(24,60)\n",
    "day_hourly_eat_brunch = np.mean(day_eat_brunch,axis=1)\n",
    "#day_hourly_guest = np.roll(day_hourly_guest,2)\n",
    "sns.barplot(day1,day_hourly_eat_brunch,color=\"b\",alpha = 0.3,ax = ax[4])\n",
    "ax[4].set_xticks(np.arange(0,24,1))\n",
    "ax[4].set_xlim(0,23)\n",
    "ax[4].set_xlabel('Hours')\n",
    "ax[4].set_ylabel('Probability')\n",
    "ax[4].set_title('Eating Brunch Guest Prior')\n"
   ]
  },
  {
   "cell_type": "code",
   "execution_count": null,
   "metadata": {
    "collapsed": true
   },
   "outputs": [],
   "source": [
    "np.save('C_Prior_B',priorB)"
   ]
  },
  {
   "cell_type": "code",
   "execution_count": null,
   "metadata": {
    "collapsed": false
   },
   "outputs": [],
   "source": [
    "#read in data, choose a house and a X matrix type\n",
    "act_df,sensor_df,X,Y = read_data('C', 'c')\n",
    "#build 4 dict, act to idx, idx to act, sensor to idx, idx to sensor\n",
    "all_act = list(set(act_df.label)) + [0] #all the act labels\n",
    "a2i = dict(zip(all_act, range(len(all_act))))\n",
    "i2a = dict(zip(range(len(all_act)), all_act))\n",
    "\n",
    "all_sensor = list(set(sensor_df.label))\n",
    "i2s = dict(zip(range(len(all_sensor)), all_sensor))\n",
    "s2i = dict(zip(all_sensor, range(len(all_sensor))))\n",
    "timeslice = 60\n",
    "start = min(min(act_df.start_sec), min(sensor_df.start_sec))\n",
    "end = max(max(act_df.end_sec), max(sensor_df.end_sec))\n",
    "if (end-start)%timeslice != 0:\n",
    "    end = (1+(end-start)/timeslice)*timeslice + start\n",
    "duration = end-start\n",
    "print start,end\n",
    "i2m = {}\n",
    "for i in range(len(all_act)):\n",
    "    i2m[i] = set(list(act_df[act_df['label']==i2a[i]]['meaning']))"
   ]
  },
  {
   "cell_type": "code",
   "execution_count": null,
   "metadata": {
    "collapsed": false
   },
   "outputs": [],
   "source": [
    "i2m"
   ]
  },
  {
   "cell_type": "code",
   "execution_count": null,
   "metadata": {
    "collapsed": false
   },
   "outputs": [],
   "source": [
    "# Prior C\n",
    "num_t = len(X)\n",
    "num_act = len(all_act)\n",
    "print num_act\n",
    "HOUR = 60\n",
    "MINUTE = 60\n",
    "DAY = 60 * 24\n",
    "NOT_LIKELY = 0\n",
    "LESS_LIKELY = 1\n",
    "LIKELY = 2\n",
    "HIGHLY_LIKELY = 3\n",
    "VERY_LIKELY = 4 \n",
    "ALMOST_CERTAINLY = 8\n",
    "# six_am of starting date of house A at Amsterdam\n",
    "#first_zero_am = 1203894000\n",
    "first_six_am = 1227157200\n",
    "first_time_dict = {}\n",
    "# {0: 12, 1: 72, 2: 132, 3: 192, 4: 252, 5: 312, 6: 372, 7: 432, 8: 492, 9: 552, 10: 612, 11: 672, \n",
    "#  12: 732, 13: 792, 14: 852, 15: 912, 16: 972, 17: 1032, 18: 1092, 19: 1152, 20: 1212, 21: 1272, 22: 1332, 23: 1392}\n",
    "\n",
    "for i in range(24):\n",
    "    first_time_dict[i] = (first_six_am - start)/MINUTE + (i-6) * MINUTE\n",
    "    if first_time_dict[i]<0:\n",
    "        first_time_dict[i] += 24 * HOUR\n",
    "    elif first_time_dict[i] > 60*24:\n",
    "        first_time_dict[i] -= 24 * HOUR\n",
    "minute_hour_dict = {k:v for v,k in first_time_dict.items()}\n",
    "print first_time_dict\n",
    "priorC = np.zeros([num_t,num_act])\n",
    "for i in range(priorC.shape[0]):\n",
    "    priorC[i] = np.random.uniform(size=num_act)\n",
    "random_priorC = priorC.copy()\n",
    "#print priorC[0]\n",
    "#print priorA[0]\n",
    "# add some prior to it\n",
    "# leaving the house should be uniform between 8:00am to 10:00pm, and basically 0 between 10:00pm to 8:00am\n",
    "first_leaving = (first_six_am + 2 * HOUR * MINUTE - start)/MINUTE\n",
    "#print first_leaving\n",
    "end_leaving = first_leaving + HOUR * (22-8)\n",
    "\n",
    "# # {0: {'leave house'},\n",
    "#  1: {'Eating'},\n",
    "#  2: {'use toilet downstairs'},\n",
    "#  3: {'take shower'},\n",
    "#  4: {'brush teeth'},\n",
    "#  5: {'use toilet upstairs'},\n",
    "#  6: {'shave'},\n",
    "#  7: {'go to bed'},\n",
    "#  8: {'get dressed'},\n",
    "#  9: {'take medication'},\n",
    "#  10: {'prepare Breakfast'},\n",
    "#  11: {'prepare Lunch'},\n",
    "#  12: {'prepare Dinner'},\n",
    "#  13: {'get snack'},\n",
    "#  14: {'get drink'},\n",
    "#  15: {'put clothes in washingmachine'},\n",
    "#  16: {'relax'},\n",
    "#  17: set()}\n",
    "# #\n",
    "# {0: 12, 1: 72, 2: 132, 3: 192, 4: 252, 5: 312, 6: 372, 7: 432, 8: 492, 9: 552, 10: 612, 11: 672, \n",
    "#  12: 732, 13: 792, 14: 852, 15: 912, 16: 972, 17: 1032, 18: 1092, 19: 1152, 20: 1212, 21: 1272, 22: 1332, 23: 1392}\n",
    "for i in range(num_t):\n",
    "    \n",
    "    # leave house 0\n",
    "    if (i%DAY < first_time_dict[20] and i%DAY > first_time_dict[18]) or (i%DAY > first_time_dict[8] and i%DAY < first_time_dict[10]):\n",
    "        priorC[i][0] += ALMOST_CERTAINLY\n",
    "    # eating should between 7-9am 11-13 18-20\n",
    "    if (i%DAY > first_time_dict[7] and i%DAY < first_time_dict[9]) or (i%DAY > first_time_dict[11] and i%DAY < first_time_dict[13]) or (i%DAY > first_time_dict[18] and i%DAY < first_time_dict[20]):\n",
    "        priorC[i][1] += NOT_LIKELY\n",
    "    \n",
    "#     # Use Toilet downstairs should be uniformly distributed around 8am to 10pm 2:\n",
    "#     if i%DAY > first_time_dict[8] or i%DAY<first_time_dict[22]:\n",
    "#         priorC[i][2] += LESS_LIKELY\n",
    "        \n",
    "    # Take Shower should be around 6-8am and 21-23 3\n",
    "    if (i%DAY > first_time_dict[7] and i%DAY < first_time_dict[8]) or (i%DAY > first_time_dict[21] and i%DAY < first_time_dict[23]):\n",
    "        priorC[i][3] += LESS_LIKELY\n",
    "        \n",
    "    # brush teeth between 6 and 7, 22 and 23 4\n",
    "    if (i%DAY > first_time_dict[6] and i%DAY < first_time_dict[7]) or (i%DAY > first_time_dict[22] and i%DAY < first_time_dict[23]):\n",
    "        priorC[i][4] += ALMOST_CERTAINLY\n",
    "        \n",
    "#     # Use toilet upstairs always happen at night 20 - 7 5\n",
    "#     if i%DAY > first_time_dict[22] or i%DAY < first_time_dict[7]:\n",
    "#         priorC[i][5] += LIKELY\n",
    "    \n",
    "    # Shave should be in the morning around 6-8\n",
    "    if i%DAY > first_time_dict[6] and i%DAY < first_time_dict[8]:\n",
    "        priorC[i][6] += ALMOST_CERTAINLY\n",
    "        \n",
    "    # Sleep should be 23 - 7 7\n",
    "    if i%DAY > first_time_dict[22] or (i%DAY > first_time_dict[6] and i%DAY < first_time_dict[8]):\n",
    "        priorC[i][7] += ALMOST_CERTAINLY\n",
    "    \n",
    "    # get dressed should be around 7-9 am 8\n",
    "    if i%DAY > first_time_dict[7] and i%DAY < first_time_dict[9]:\n",
    "        priorC[i][8] += ALMOST_CERTAINLY\n",
    "    \n",
    "#     # take medication should happen uniformly between 8-23 9 \n",
    "#     if i%DAY > first_time_dict[8] and i%DAY < first_time_dict[23]:\n",
    "#         priorC[i][9] += HIGHLY_LIKELY\n",
    "    \n",
    "    # prepare breakfast should be in 7-8 am: 10\n",
    "    if i%DAY > first_time_dict[7] and i%DAY < first_time_dict[8]:\n",
    "        priorC[i][10] += ALMOST_CERTAINLY\n",
    "    \n",
    "    \n",
    "    #  11: {'prepare Lunch'} 11 - 12\n",
    "    if i%DAY > first_time_dict[11] and i%DAY < first_time_dict[12]:\n",
    "        priorC[i][11] += ALMOST_CERTAINLY\n",
    "    \n",
    "    #  12: {'prepare Dinner'} 17-19\n",
    "    if i%DAY > first_time_dict[17] and i%DAY < first_time_dict[19]:\n",
    "        priorC[i][12] += LESS_LIKELY\n",
    "    \n",
    "#     #  13: {'get snack'}, 8-20\n",
    "#     if i%DAY > first_time_dict[8] and i%DAY < first_time_dict[20]:\n",
    "#         priorC[i][13] += ALMOST_CERTAINLY\n",
    "        \n",
    "#     #  14: {'get drink'}, 8-23\n",
    "#     if i%DAY > first_time_dict[8] and i%DAY < first_time_dict[23]:\n",
    "#         priorC[i][14] += LESS_LIKELY\n",
    "    \n",
    "#     #15: {'put clothes in washingmachine'}, 8 - 20\n",
    "#     if i%DAY > first_time_dict[8] and i%DAY < first_time_dict[20]:\n",
    "#         priorC[i][15] += LESS_LIKELY\n",
    "    \n",
    "#     #  16: {'relax'}, 8-23\n",
    "#     if i%DAY > first_time_dict[8] and i%DAY < first_time_dict[20]:\n",
    "#         priorC[i][16] += HIGHLY_LIKELY    \n",
    "    \n",
    "    # Unknown state\n",
    "#     if i%DAY > first_time_dict[8] and i%DAY < first_time_dict[23]:\n",
    "#         priorC[i][17] += ALMOST_CERTAINLY\n",
    "        \n",
    " \n",
    "    priorC[i]/=np.sum(priorC[i])\n",
    "\n",
    "#print np.max(priorC[0])"
   ]
  },
  {
   "cell_type": "code",
   "execution_count": null,
   "metadata": {
    "collapsed": false
   },
   "outputs": [],
   "source": [
    "\n",
    "# # {0: {'leave house'},\n",
    "#  1: {'Eating'},\n",
    "#  2: {'use toilet downstairs'},\n",
    "#  3: {'take shower'},\n",
    "#  4: {'brush teeth'},\n",
    "#  5: {'use toilet upstairs'},\n",
    "#  6: {'shave'},\n",
    "#  7: {'go to bed'},\n",
    "#  8: {'get dressed'},\n",
    "#  9: {'take medication'},\n",
    "#  10: {'prepare Breakfast'},\n",
    "#  11: {'prepare Lunch'},\n",
    "#  12: {'prepare Dinner'},\n",
    "#  13: {'get snack'},\n",
    "#  14: {'get drink'},\n",
    "#  15: {'put clothes in washingmachine'},\n",
    "#  16: {'relax'},\n",
    "#  17: set()}\n",
    "day1 = np.arange(24)\n",
    "fig, ax = plt.subplots(5,1,figsize = (10,25))\n",
    "zero_start = first_time_dict[0]\n",
    "# leaving\n",
    "#print ax[0]\n",
    "day_leaving = priorC[:,0][zero_start:MINUTE * 24+zero_start].reshape(24,60)\n",
    "day_hourly_leaving = np.mean(day_leaving,axis=1)\n",
    "#day_hourly_leaving = np.roll(day_hourly_leaving,0)\n",
    "sns.barplot(day1,day_hourly_leaving,color=\"b\",alpha = 0.3,ax=ax[0])\n",
    "ax[0].set_xticks(np.arange(0,24,1))\n",
    "ax[0].set_xlim(0,23)\n",
    "ax[0].set_xlabel('Hours')\n",
    "ax[0].set_ylabel('Probability')\n",
    "ax[0].set_title('Leaving House Prior')\n",
    "\n",
    "#take shower\n",
    "day_showering = priorC[:,3][zero_start:MINUTE * 24+zero_start].reshape(24,60)\n",
    "day_hourly_showering = np.mean(day_showering,axis=1)\n",
    "#day_hourly_showering = np.roll(day_hourly_showering,2)\n",
    "sns.barplot(day1,day_hourly_showering,color=\"b\",alpha = 0.3,ax = ax[1])\n",
    "ax[1].set_xticks(np.arange(0,24,1))\n",
    "ax[1].set_xlim(0,23)\n",
    "ax[1].set_xlabel('Hours')\n",
    "ax[1].set_ylabel('Probability')\n",
    "ax[1].set_title('Showering Prior')\n",
    "\n",
    "day_bed = priorC[:,7][zero_start:MINUTE * 24+zero_start].reshape(24,60)\n",
    "day_hourly_bed = np.mean(day_bed,axis=1)\n",
    "#day_hourly_bed = np.roll(day_hourly_bed,2)\n",
    "sns.barplot(day1,day_hourly_bed,color=\"b\",alpha = 0.3,ax = ax[2])\n",
    "ax[2].set_xticks(np.arange(0,24,1))\n",
    "ax[2].set_xlim(0,23)\n",
    "ax[2].set_xlabel('Hours')\n",
    "ax[2].set_ylabel('Probability')\n",
    "ax[2].set_title('Sleeping Prior')\n",
    "\n",
    "day_eat = priorC[:,1][zero_start:zero_start+MINUTE * 24].reshape(24,60)\n",
    "day_hourly_eat = np.mean(day_eat,axis=1)\n",
    "#day_hourly_prepare_breakfast = np.roll(day_hourly_prepare_breakfast,2)\n",
    "sns.barplot(day1,day_hourly_eat,color=\"b\",alpha = 0.3,ax = ax[3])\n",
    "ax[3].set_xticks(np.arange(0,24,1))\n",
    "ax[3].set_xlim(0,23)\n",
    "ax[3].set_xlabel('Hours')\n",
    "ax[3].set_ylabel('Probability')\n",
    "ax[3].set_title('Eating Prior')\n",
    "\n",
    "day_prepare_breakfast = priorC[:,10][zero_start:zero_start+MINUTE * 24].reshape(24,60)\n",
    "day_hourly_prepare_breakfast = np.mean(day_prepare_breakfast,axis=1)\n",
    "#day_hourly_guest = np.roll(day_hourly_guest,2)\n",
    "sns.barplot(day1,day_hourly_prepare_breakfast,color=\"b\",alpha = 0.3,ax = ax[4])\n",
    "ax[4].set_xticks(np.arange(0,24,1))\n",
    "ax[4].set_xlim(0,23)\n",
    "ax[4].set_xlabel('Hours')\n",
    "ax[4].set_ylabel('Probability')\n",
    "ax[4].set_title('Preparing Breakfast Prior')\n"
   ]
  },
  {
   "cell_type": "code",
   "execution_count": null,
   "metadata": {
    "collapsed": true
   },
   "outputs": [],
   "source": [
    "# np.save('C_Prior_A',priorA)\n",
    "# np.save('C_Prior_B',priorB)\n",
    "np.save('C_Prior_C',priorC)"
   ]
  },
  {
   "cell_type": "code",
   "execution_count": null,
   "metadata": {
    "collapsed": true
   },
   "outputs": [],
   "source": []
  },
  {
   "cell_type": "code",
   "execution_count": null,
   "metadata": {
    "collapsed": true
   },
   "outputs": [],
   "source": []
  }
 ],
 "metadata": {
  "kernelspec": {
   "display_name": "Python 2",
   "language": "python",
   "name": "python2"
  },
  "language_info": {
   "codemirror_mode": {
    "name": "ipython",
    "version": 2
   },
   "file_extension": ".py",
   "mimetype": "text/x-python",
   "name": "python",
   "nbconvert_exporter": "python",
   "pygments_lexer": "ipython2",
   "version": "2.7.11"
  }
 },
 "nbformat": 4,
 "nbformat_minor": 0
}
