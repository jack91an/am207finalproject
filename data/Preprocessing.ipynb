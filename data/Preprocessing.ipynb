{
 "cells": [
  {
   "cell_type": "code",
   "execution_count": 18,
   "metadata": {
    "collapsed": true
   },
   "outputs": [],
   "source": [
    "import scipy.io\n",
    "import pandas as pd\n",
    "from datetime import datetime,timedelta"
   ]
  },
  {
   "cell_type": "markdown",
   "metadata": {},
   "source": [
    "## Pre-processing (organizing and cleaning data)"
   ]
  },
  {
   "cell_type": "code",
   "execution_count": 245,
   "metadata": {
    "collapsed": true
   },
   "outputs": [],
   "source": [
    "#convert matlab time to total seconds\n",
    "def to_sec(matlab_datenum):\n",
    "    dt = datetime.fromordinal(int(matlab_datenum)) + timedelta(days=matlab_datenum%1) - timedelta(days = 366)\n",
    "    seconds = (dt-datetime(1970,1,1)).total_seconds()\n",
    "    return int(seconds)"
   ]
  },
  {
   "cell_type": "code",
   "execution_count": 363,
   "metadata": {
    "collapsed": false
   },
   "outputs": [],
   "source": [
    "#run houses = 'A', 'B' and 'C'\n",
    "house = 'C'\n",
    "act_mat = scipy.io.loadmat(\"datasets/house{}/actStructHouse{}.mat\".format(house, house))\n",
    "sensor_mat = scipy.io.loadmat(\"datasets/house{}/sensorStructHouse{}.mat\".format(house, house))\n",
    "label_mat = scipy.io.loadmat(\"datasets/house{}/senseandactLabelsHouse{}.mat\".format(house,house))"
   ]
  },
  {
   "cell_type": "code",
   "execution_count": 364,
   "metadata": {
    "collapsed": false
   },
   "outputs": [],
   "source": [
    "act_df = pd.DataFrame(act_mat['activityStructure'][0][0][0])"
   ]
  },
  {
   "cell_type": "code",
   "execution_count": 365,
   "metadata": {
    "collapsed": false
   },
   "outputs": [
    {
     "data": {
      "text/html": [
       "<div>\n",
       "<table border=\"1\" class=\"dataframe\">\n",
       "  <thead>\n",
       "    <tr style=\"text-align: right;\">\n",
       "      <th></th>\n",
       "      <th>start_time</th>\n",
       "      <th>end_time</th>\n",
       "      <th>start_sec</th>\n",
       "      <th>end_sec</th>\n",
       "      <th>diff_sec</th>\n",
       "      <th>label</th>\n",
       "    </tr>\n",
       "  </thead>\n",
       "  <tbody>\n",
       "    <tr>\n",
       "      <th>0</th>\n",
       "      <td>2008-11-19 17:49:00</td>\n",
       "      <td>2008-11-19 17:49:59</td>\n",
       "      <td>1227134940</td>\n",
       "      <td>1227134999</td>\n",
       "      <td>59</td>\n",
       "      <td>1</td>\n",
       "    </tr>\n",
       "    <tr>\n",
       "      <th>1</th>\n",
       "      <td>2008-11-19 17:50:40</td>\n",
       "      <td>2008-11-19 17:51:45</td>\n",
       "      <td>1227135040</td>\n",
       "      <td>1227135105</td>\n",
       "      <td>65</td>\n",
       "      <td>4</td>\n",
       "    </tr>\n",
       "    <tr>\n",
       "      <th>2</th>\n",
       "      <td>2008-11-19 17:59:25</td>\n",
       "      <td>2008-11-19 18:00:00</td>\n",
       "      <td>1227135565</td>\n",
       "      <td>1227135600</td>\n",
       "      <td>35</td>\n",
       "      <td>17</td>\n",
       "    </tr>\n",
       "    <tr>\n",
       "      <th>3</th>\n",
       "      <td>2008-11-19 18:00:50</td>\n",
       "      <td>2008-11-19 20:24:59</td>\n",
       "      <td>1227135650</td>\n",
       "      <td>1227144299</td>\n",
       "      <td>8649</td>\n",
       "      <td>28</td>\n",
       "    </tr>\n",
       "    <tr>\n",
       "      <th>4</th>\n",
       "      <td>2008-11-19 19:14:50</td>\n",
       "      <td>2008-11-19 19:15:19</td>\n",
       "      <td>1227140090</td>\n",
       "      <td>1227140119</td>\n",
       "      <td>29</td>\n",
       "      <td>17</td>\n",
       "    </tr>\n",
       "  </tbody>\n",
       "</table>\n",
       "</div>"
      ],
      "text/plain": [
       "            start_time             end_time   start_sec     end_sec  diff_sec  \\\n",
       "0  2008-11-19 17:49:00  2008-11-19 17:49:59  1227134940  1227134999        59   \n",
       "1  2008-11-19 17:50:40  2008-11-19 17:51:45  1227135040  1227135105        65   \n",
       "2  2008-11-19 17:59:25  2008-11-19 18:00:00  1227135565  1227135600        35   \n",
       "3  2008-11-19 18:00:50  2008-11-19 20:24:59  1227135650  1227144299      8649   \n",
       "4  2008-11-19 19:14:50  2008-11-19 19:15:19  1227140090  1227140119        29   \n",
       "\n",
       "   label  \n",
       "0      1  \n",
       "1      4  \n",
       "2     17  \n",
       "3     28  \n",
       "4     17  "
      ]
     },
     "execution_count": 365,
     "metadata": {},
     "output_type": "execute_result"
    }
   ],
   "source": [
    "act_df.columns = [\"start_sec\", \"end_sec\", \"label\"]\n",
    "act_df['start_sec'] = [to_sec(i) for i in act_df.start_sec]\n",
    "act_df['end_sec'] = [to_sec(i) for i in act_df.end_sec]\n",
    "act_df['diff_sec'] = act_df.end_sec-act_df.start_sec\n",
    "act_df['start_time'] = [str(datetime.fromtimestamp(i)) for i in act_df.start_sec]\n",
    "act_df['end_time'] = [str(datetime.fromtimestamp(i)) for i in act_df.end_sec]\n",
    "act_df = act_df[[\"start_time\", \"end_time\", \"start_sec\", \"end_sec\", \"diff_sec\", \"label\"]]\n",
    "act_df.head()"
   ]
  },
  {
   "cell_type": "code",
   "execution_count": 366,
   "metadata": {
    "collapsed": false
   },
   "outputs": [
    {
     "data": {
      "text/plain": [
       "344"
      ]
     },
     "execution_count": 366,
     "metadata": {},
     "output_type": "execute_result"
    }
   ],
   "source": [
    "len(act_df)"
   ]
  },
  {
   "cell_type": "code",
   "execution_count": 367,
   "metadata": {
    "collapsed": false
   },
   "outputs": [],
   "source": [
    "sensor_df = pd.DataFrame(sensor_mat['sensorStructure'][0][0][0])"
   ]
  },
  {
   "cell_type": "code",
   "execution_count": 368,
   "metadata": {
    "collapsed": false
   },
   "outputs": [
    {
     "data": {
      "text/html": [
       "<div>\n",
       "<table border=\"1\" class=\"dataframe\">\n",
       "  <thead>\n",
       "    <tr style=\"text-align: right;\">\n",
       "      <th></th>\n",
       "      <th>start_time</th>\n",
       "      <th>end_time</th>\n",
       "      <th>start_sec</th>\n",
       "      <th>end_sec</th>\n",
       "      <th>diff_sec</th>\n",
       "      <th>on</th>\n",
       "      <th>label</th>\n",
       "    </tr>\n",
       "  </thead>\n",
       "  <tbody>\n",
       "    <tr>\n",
       "      <th>0</th>\n",
       "      <td>2008-11-19 17:47:46</td>\n",
       "      <td>2008-11-19 17:49:17</td>\n",
       "      <td>1227134866</td>\n",
       "      <td>1227134957</td>\n",
       "      <td>91</td>\n",
       "      <td>1</td>\n",
       "      <td>28</td>\n",
       "    </tr>\n",
       "    <tr>\n",
       "      <th>1</th>\n",
       "      <td>2008-11-19 17:49:20</td>\n",
       "      <td>2008-11-19 17:49:22</td>\n",
       "      <td>1227134960</td>\n",
       "      <td>1227134962</td>\n",
       "      <td>2</td>\n",
       "      <td>1</td>\n",
       "      <td>28</td>\n",
       "    </tr>\n",
       "    <tr>\n",
       "      <th>2</th>\n",
       "      <td>2008-11-19 17:49:24</td>\n",
       "      <td>2008-11-19 17:50:14</td>\n",
       "      <td>1227134964</td>\n",
       "      <td>1227135014</td>\n",
       "      <td>50</td>\n",
       "      <td>1</td>\n",
       "      <td>28</td>\n",
       "    </tr>\n",
       "    <tr>\n",
       "      <th>3</th>\n",
       "      <td>2008-11-19 17:50:18</td>\n",
       "      <td>2008-11-20 06:14:11</td>\n",
       "      <td>1227135018</td>\n",
       "      <td>1227179651</td>\n",
       "      <td>44633</td>\n",
       "      <td>1</td>\n",
       "      <td>28</td>\n",
       "    </tr>\n",
       "    <tr>\n",
       "      <th>4</th>\n",
       "      <td>2008-11-19 17:51:02</td>\n",
       "      <td>2008-11-19 17:51:04</td>\n",
       "      <td>1227135062</td>\n",
       "      <td>1227135064</td>\n",
       "      <td>2</td>\n",
       "      <td>1</td>\n",
       "      <td>25</td>\n",
       "    </tr>\n",
       "  </tbody>\n",
       "</table>\n",
       "</div>"
      ],
      "text/plain": [
       "            start_time             end_time   start_sec     end_sec  diff_sec  \\\n",
       "0  2008-11-19 17:47:46  2008-11-19 17:49:17  1227134866  1227134957        91   \n",
       "1  2008-11-19 17:49:20  2008-11-19 17:49:22  1227134960  1227134962         2   \n",
       "2  2008-11-19 17:49:24  2008-11-19 17:50:14  1227134964  1227135014        50   \n",
       "3  2008-11-19 17:50:18  2008-11-20 06:14:11  1227135018  1227179651     44633   \n",
       "4  2008-11-19 17:51:02  2008-11-19 17:51:04  1227135062  1227135064         2   \n",
       "\n",
       "   on  label  \n",
       "0   1     28  \n",
       "1   1     28  \n",
       "2   1     28  \n",
       "3   1     28  \n",
       "4   1     25  "
      ]
     },
     "execution_count": 368,
     "metadata": {},
     "output_type": "execute_result"
    }
   ],
   "source": [
    "sensor_df.columns = ['start_sec', 'end_sec', 'label', 'on']\n",
    "sensor_df['start_sec'] = [to_sec(i) for i in sensor_df.start_sec]\n",
    "sensor_df['end_sec'] = [to_sec(i) for i in sensor_df.end_sec]\n",
    "sensor_df['diff_sec'] = sensor_df.end_sec-sensor_df.start_sec\n",
    "sensor_df['start_time'] = [str(datetime.fromtimestamp(i)) for i in sensor_df.start_sec]\n",
    "sensor_df['end_time'] = [str(datetime.fromtimestamp(i)) for i in sensor_df.end_sec]\n",
    "sensor_df = sensor_df[[\"start_time\", \"end_time\", \"start_sec\", \"end_sec\", \"diff_sec\", \"on\", \"label\"]]\n",
    "sensor_df.head()"
   ]
  },
  {
   "cell_type": "code",
   "execution_count": 369,
   "metadata": {
    "collapsed": false
   },
   "outputs": [
    {
     "data": {
      "text/plain": [
       "22700"
      ]
     },
     "execution_count": 369,
     "metadata": {},
     "output_type": "execute_result"
    }
   ],
   "source": [
    "len(sensor_df)"
   ]
  },
  {
   "cell_type": "code",
   "execution_count": 370,
   "metadata": {
    "collapsed": false
   },
   "outputs": [
    {
     "data": {
      "text/plain": [
       "{5: u'mat bed rechts, drukmat',\n",
       " 6: u'mat bank, huiskamer',\n",
       " 7: u'vriezer, reed',\n",
       " 8: u'toilet flush boven, flush ',\n",
       " 10: u'toilet flush beneden. flush ',\n",
       " 11: u'badkamer klapdeur links',\n",
       " 13: u'zelfde la als 18, kwik',\n",
       " 15: u'La sleutels',\n",
       " 16: u'badkamer klapdeur links',\n",
       " 18: u'bestek la, kwik sensor ',\n",
       " 20: u'kastje pannen, reed ',\n",
       " 21: u'magnetron, reed ',\n",
       " 22: u'kastje restjesbakjes, reed ',\n",
       " 23: u'kastje borden/kruiden,reed ',\n",
       " 25: u'deur toilet beneden',\n",
       " 27: u'kastje cups/bowl/tuna, reed ',\n",
       " 28: u'voordeur, reed ',\n",
       " 29: u'deur slaapkamer',\n",
       " 30: u'koelkast, reed ',\n",
       " 35: u'badkuip, pir ',\n",
       " 36: u'dresser, pir ',\n",
       " 38: u'wasbak boven, flush ',\n",
       " 39: u'mat bed links, drukmat '}"
      ]
     },
     "execution_count": 370,
     "metadata": {},
     "output_type": "execute_result"
    }
   ],
   "source": [
    "temp = label_mat['sensor_labels']\n",
    "sensor_labels = {}\n",
    "for item in temp:\n",
    "    sensor_labels[(item[0][0][0])]= item[1][0]\n",
    "sensor_labels "
   ]
  },
  {
   "cell_type": "code",
   "execution_count": 371,
   "metadata": {
    "collapsed": false
   },
   "outputs": [
    {
     "data": {
      "text/plain": [
       "{1: u'leave house',\n",
       " 3: u'Eating',\n",
       " 4: u'use toilet downstairs',\n",
       " 5: u'take shower',\n",
       " 6: u'brush teeth',\n",
       " 7: u'use toilet upstairs',\n",
       " 8: u'take bath',\n",
       " 9: u'shave',\n",
       " 10: u'go to bed',\n",
       " 11: u'get dressed',\n",
       " 12: u'take medication',\n",
       " 13: u'prepare Breakfast',\n",
       " 14: u'prepare Lunch',\n",
       " 15: u'prepare Dinner',\n",
       " 16: u'get snack',\n",
       " 17: u'get drink',\n",
       " 18: u'put items in dishwasher',\n",
       " 19: u'unload dishwasher',\n",
       " 20: u'store groceries',\n",
       " 21: u'Grooming (Collection of 6,9,12,22)',\n",
       " 22: u'put clothes in washingmachine',\n",
       " 23: u'unload washingmachine',\n",
       " 25: u'receive guest',\n",
       " 26: u'watch tv',\n",
       " 27: u'read paper',\n",
       " 28: u'relax',\n",
       " 30: u'Unknown'}"
      ]
     },
     "execution_count": 371,
     "metadata": {},
     "output_type": "execute_result"
    }
   ],
   "source": [
    "temp = label_mat['activity_labels']\n",
    "act_labels = {}\n",
    "for i,item in enumerate(temp):\n",
    "    if len(item[0]) != 0:\n",
    "        act_labels[i+1] = item[0][0]\n",
    "act_labels"
   ]
  },
  {
   "cell_type": "code",
   "execution_count": 372,
   "metadata": {
    "collapsed": true
   },
   "outputs": [],
   "source": [
    "if house == 'B':\n",
    "    sensor_df = sensor_df[sensor_df.label != 23]\n",
    "    act_df = act_df[act_df.label != 16]"
   ]
  },
  {
   "cell_type": "code",
   "execution_count": 373,
   "metadata": {
    "collapsed": false
   },
   "outputs": [],
   "source": [
    "temp = []\n",
    "for l in sensor_df.label:\n",
    "    temp.append(sensor_labels[int(l)])\n",
    "sensor_df['meaning'] = temp"
   ]
  },
  {
   "cell_type": "code",
   "execution_count": 374,
   "metadata": {
    "collapsed": false
   },
   "outputs": [
    {
     "data": {
      "text/html": [
       "<div>\n",
       "<table border=\"1\" class=\"dataframe\">\n",
       "  <thead>\n",
       "    <tr style=\"text-align: right;\">\n",
       "      <th></th>\n",
       "      <th>start_time</th>\n",
       "      <th>end_time</th>\n",
       "      <th>start_sec</th>\n",
       "      <th>end_sec</th>\n",
       "      <th>diff_sec</th>\n",
       "      <th>on</th>\n",
       "      <th>label</th>\n",
       "      <th>meaning</th>\n",
       "    </tr>\n",
       "  </thead>\n",
       "  <tbody>\n",
       "    <tr>\n",
       "      <th>0</th>\n",
       "      <td>2008-11-19 17:47:46</td>\n",
       "      <td>2008-11-19 17:49:17</td>\n",
       "      <td>1227134866</td>\n",
       "      <td>1227134957</td>\n",
       "      <td>91</td>\n",
       "      <td>1</td>\n",
       "      <td>28</td>\n",
       "      <td>voordeur, reed</td>\n",
       "    </tr>\n",
       "    <tr>\n",
       "      <th>1</th>\n",
       "      <td>2008-11-19 17:49:20</td>\n",
       "      <td>2008-11-19 17:49:22</td>\n",
       "      <td>1227134960</td>\n",
       "      <td>1227134962</td>\n",
       "      <td>2</td>\n",
       "      <td>1</td>\n",
       "      <td>28</td>\n",
       "      <td>voordeur, reed</td>\n",
       "    </tr>\n",
       "    <tr>\n",
       "      <th>2</th>\n",
       "      <td>2008-11-19 17:49:24</td>\n",
       "      <td>2008-11-19 17:50:14</td>\n",
       "      <td>1227134964</td>\n",
       "      <td>1227135014</td>\n",
       "      <td>50</td>\n",
       "      <td>1</td>\n",
       "      <td>28</td>\n",
       "      <td>voordeur, reed</td>\n",
       "    </tr>\n",
       "    <tr>\n",
       "      <th>3</th>\n",
       "      <td>2008-11-19 17:50:18</td>\n",
       "      <td>2008-11-20 06:14:11</td>\n",
       "      <td>1227135018</td>\n",
       "      <td>1227179651</td>\n",
       "      <td>44633</td>\n",
       "      <td>1</td>\n",
       "      <td>28</td>\n",
       "      <td>voordeur, reed</td>\n",
       "    </tr>\n",
       "    <tr>\n",
       "      <th>4</th>\n",
       "      <td>2008-11-19 17:51:02</td>\n",
       "      <td>2008-11-19 17:51:04</td>\n",
       "      <td>1227135062</td>\n",
       "      <td>1227135064</td>\n",
       "      <td>2</td>\n",
       "      <td>1</td>\n",
       "      <td>25</td>\n",
       "      <td>deur toilet beneden</td>\n",
       "    </tr>\n",
       "  </tbody>\n",
       "</table>\n",
       "</div>"
      ],
      "text/plain": [
       "            start_time             end_time   start_sec     end_sec  diff_sec  \\\n",
       "0  2008-11-19 17:47:46  2008-11-19 17:49:17  1227134866  1227134957        91   \n",
       "1  2008-11-19 17:49:20  2008-11-19 17:49:22  1227134960  1227134962         2   \n",
       "2  2008-11-19 17:49:24  2008-11-19 17:50:14  1227134964  1227135014        50   \n",
       "3  2008-11-19 17:50:18  2008-11-20 06:14:11  1227135018  1227179651     44633   \n",
       "4  2008-11-19 17:51:02  2008-11-19 17:51:04  1227135062  1227135064         2   \n",
       "\n",
       "   on  label              meaning  \n",
       "0   1     28      voordeur, reed   \n",
       "1   1     28      voordeur, reed   \n",
       "2   1     28      voordeur, reed   \n",
       "3   1     28      voordeur, reed   \n",
       "4   1     25  deur toilet beneden  "
      ]
     },
     "execution_count": 374,
     "metadata": {},
     "output_type": "execute_result"
    }
   ],
   "source": [
    "sensor_df.head()"
   ]
  },
  {
   "cell_type": "code",
   "execution_count": 375,
   "metadata": {
    "collapsed": false
   },
   "outputs": [],
   "source": [
    "temp = []\n",
    "for l in act_df.label:\n",
    "    temp.append(act_labels[int(l)])\n",
    "act_df['meaning'] = temp"
   ]
  },
  {
   "cell_type": "code",
   "execution_count": 376,
   "metadata": {
    "collapsed": false
   },
   "outputs": [
    {
     "data": {
      "text/html": [
       "<div>\n",
       "<table border=\"1\" class=\"dataframe\">\n",
       "  <thead>\n",
       "    <tr style=\"text-align: right;\">\n",
       "      <th></th>\n",
       "      <th>start_time</th>\n",
       "      <th>end_time</th>\n",
       "      <th>start_sec</th>\n",
       "      <th>end_sec</th>\n",
       "      <th>diff_sec</th>\n",
       "      <th>label</th>\n",
       "      <th>meaning</th>\n",
       "    </tr>\n",
       "  </thead>\n",
       "  <tbody>\n",
       "    <tr>\n",
       "      <th>0</th>\n",
       "      <td>2008-11-19 17:49:00</td>\n",
       "      <td>2008-11-19 17:49:59</td>\n",
       "      <td>1227134940</td>\n",
       "      <td>1227134999</td>\n",
       "      <td>59</td>\n",
       "      <td>1</td>\n",
       "      <td>leave house</td>\n",
       "    </tr>\n",
       "    <tr>\n",
       "      <th>1</th>\n",
       "      <td>2008-11-19 17:50:40</td>\n",
       "      <td>2008-11-19 17:51:45</td>\n",
       "      <td>1227135040</td>\n",
       "      <td>1227135105</td>\n",
       "      <td>65</td>\n",
       "      <td>4</td>\n",
       "      <td>use toilet downstairs</td>\n",
       "    </tr>\n",
       "    <tr>\n",
       "      <th>2</th>\n",
       "      <td>2008-11-19 17:59:25</td>\n",
       "      <td>2008-11-19 18:00:00</td>\n",
       "      <td>1227135565</td>\n",
       "      <td>1227135600</td>\n",
       "      <td>35</td>\n",
       "      <td>17</td>\n",
       "      <td>get drink</td>\n",
       "    </tr>\n",
       "    <tr>\n",
       "      <th>3</th>\n",
       "      <td>2008-11-19 18:00:50</td>\n",
       "      <td>2008-11-19 20:24:59</td>\n",
       "      <td>1227135650</td>\n",
       "      <td>1227144299</td>\n",
       "      <td>8649</td>\n",
       "      <td>28</td>\n",
       "      <td>relax</td>\n",
       "    </tr>\n",
       "    <tr>\n",
       "      <th>4</th>\n",
       "      <td>2008-11-19 19:14:50</td>\n",
       "      <td>2008-11-19 19:15:19</td>\n",
       "      <td>1227140090</td>\n",
       "      <td>1227140119</td>\n",
       "      <td>29</td>\n",
       "      <td>17</td>\n",
       "      <td>get drink</td>\n",
       "    </tr>\n",
       "  </tbody>\n",
       "</table>\n",
       "</div>"
      ],
      "text/plain": [
       "            start_time             end_time   start_sec     end_sec  diff_sec  \\\n",
       "0  2008-11-19 17:49:00  2008-11-19 17:49:59  1227134940  1227134999        59   \n",
       "1  2008-11-19 17:50:40  2008-11-19 17:51:45  1227135040  1227135105        65   \n",
       "2  2008-11-19 17:59:25  2008-11-19 18:00:00  1227135565  1227135600        35   \n",
       "3  2008-11-19 18:00:50  2008-11-19 20:24:59  1227135650  1227144299      8649   \n",
       "4  2008-11-19 19:14:50  2008-11-19 19:15:19  1227140090  1227140119        29   \n",
       "\n",
       "   label                meaning  \n",
       "0      1            leave house  \n",
       "1      4  use toilet downstairs  \n",
       "2     17              get drink  \n",
       "3     28                  relax  \n",
       "4     17              get drink  "
      ]
     },
     "execution_count": 376,
     "metadata": {},
     "output_type": "execute_result"
    }
   ],
   "source": [
    "act_df.head()"
   ]
  },
  {
   "cell_type": "code",
   "execution_count": 377,
   "metadata": {
    "collapsed": true
   },
   "outputs": [],
   "source": [
    "sensor_df.to_csv(\"house{}_sensor.csv\".format(house), index=False)\n",
    "act_df.to_csv(\"house{}_act.csv\".format(house), index=False)"
   ]
  },
  {
   "cell_type": "code",
   "execution_count": null,
   "metadata": {
    "collapsed": true
   },
   "outputs": [],
   "source": []
  }
 ],
 "metadata": {
  "kernelspec": {
   "display_name": "Python 2",
   "language": "python",
   "name": "python2"
  },
  "language_info": {
   "codemirror_mode": {
    "name": "ipython",
    "version": 2
   },
   "file_extension": ".py",
   "mimetype": "text/x-python",
   "name": "python",
   "nbconvert_exporter": "python",
   "pygments_lexer": "ipython2",
   "version": "2.7.11"
  }
 },
 "nbformat": 4,
 "nbformat_minor": 0
}
