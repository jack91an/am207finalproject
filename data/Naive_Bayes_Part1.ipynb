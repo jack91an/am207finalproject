{
 "cells": [
  {
   "cell_type": "code",
   "execution_count": 1,
   "metadata": {
    "collapsed": true
   },
   "outputs": [],
   "source": [
    "import pandas as pd\n",
    "import numpy as np\n",
    "import matplotlib.pyplot as plt\n",
    "%matplotlib inline"
   ]
  },
  {
   "cell_type": "code",
   "execution_count": 2,
   "metadata": {
    "collapsed": false
   },
   "outputs": [],
   "source": [
    "houses = ['A', 'B', 'C']\n",
    "xtype_dict = {'r':'raw', 'c':'change'}"
   ]
  },
  {
   "cell_type": "code",
   "execution_count": 3,
   "metadata": {
    "collapsed": true
   },
   "outputs": [],
   "source": [
    "def read_data(house, xtype):\n",
    "    assert house in houses\n",
    "    assert xtype in xtype_dict\n",
    "    \n",
    "    act_df = pd.read_csv(\"house{}_act.csv\".format(house))\n",
    "    sensor_df = pd.read_csv(\"house{}_sensor.csv\".format(house))\n",
    "    X = np.load(\"X_{}_house{}.npy\".format(xtype_dict[xtype], house))\n",
    "    Y = np.load(\"Y_house{}.npy\".format(house))\n",
    "    return act_df, sensor_df, X, Y"
   ]
  },
  {
   "cell_type": "code",
   "execution_count": 66,
   "metadata": {
    "collapsed": false
   },
   "outputs": [],
   "source": [
    "#read in data\n",
    "act_df,sensor_df,X,Y = read_data('A', 'r')"
   ]
  },
  {
   "cell_type": "code",
   "execution_count": 67,
   "metadata": {
    "collapsed": true
   },
   "outputs": [],
   "source": [
    "#build 4 dict, act to idx, idx to act, sensor to idx, idx to sensor\n",
    "all_act = list(set(act_df.label)) + [0] #all the act labels\n",
    "a2i = dict(zip(all_act, range(len(all_act))))\n",
    "i2a = dict(zip(range(len(all_act)), all_act))\n",
    "\n",
    "all_sensor = list(set(sensor_df.label)) #all the sensor labels\n",
    "i2s = dict(zip(range(len(all_sensor)), all_sensor))\n",
    "s2i = dict(zip(all_sensor, range(len(all_sensor))))"
   ]
  },
  {
   "cell_type": "code",
   "execution_count": 68,
   "metadata": {
    "collapsed": false
   },
   "outputs": [
    {
     "name": "stdout",
     "output_type": "stream",
     "text": [
      "# sensors:  14\n",
      "# states/acts:  17\n",
      "# timeframes:  40006\n"
     ]
    }
   ],
   "source": [
    "print \"# sensors: \", len(all_sensor)\n",
    "print \"# states/acts: \", len(all_act)\n",
    "print \"# timeframes: \", len(X)"
   ]
  },
  {
   "cell_type": "markdown",
   "metadata": {},
   "source": [
    "## Naive Bayes"
   ]
  },
  {
   "cell_type": "code",
   "execution_count": 69,
   "metadata": {
    "collapsed": false
   },
   "outputs": [],
   "source": [
    "#each row represents sensors for a specific action i\n",
    "#each column is sensor j\n",
    "def calc_miu(X, Y, all_sensor=all_sensor, all_act=all_act):\n",
    "    assert len(X)==len(Y)\n",
    "    \n",
    "    num_act = len(all_act)\n",
    "    num_sensor = len(all_sensor)\n",
    "    miu = np.zeros([num_act, num_sensor])\n",
    "    for act in all_act:\n",
    "        sensor = X[Y==act]\n",
    "        for row in sensor:\n",
    "            miu[a2i[act]] += row\n",
    "    #normalize\n",
    "    for i,row in enumerate(miu):\n",
    "        total = np.sum(row)\n",
    "        if total == 0:\n",
    "            miu[i] += 1\n",
    "            total = np.sum(miu[i])\n",
    "        miu[i] = miu[i]/total\n",
    "        \n",
    "    return miu"
   ]
  },
  {
   "cell_type": "code",
   "execution_count": 70,
   "metadata": {
    "collapsed": true
   },
   "outputs": [],
   "source": [
    "def max_like(miu, X):\n",
    "    num_time = len(X)\n",
    "    num_act = len(miu)\n",
    "    \n",
    "    prob = np.zeros((num_time, num_act))\n",
    "    for i in range(num_time):\n",
    "        sensor = X[i]\n",
    "        for j in range(num_act):\n",
    "            act = miu[j]\n",
    "            logp = 0\n",
    "            for k,s in enumerate(sensor):\n",
    "                if s == 1:\n",
    "                    logp += np.log(act[k])\n",
    "                else:\n",
    "                    logp += np.log(1-act[k])\n",
    "            prob[i,j] = logp\n",
    "    return prob"
   ]
  },
  {
   "cell_type": "code",
   "execution_count": 71,
   "metadata": {
    "collapsed": false
   },
   "outputs": [],
   "source": [
    "def mle(matrix):\n",
    "    est = np.zeros(len(matrix))\n",
    "    for i,row in enumerate(matrix):\n",
    "        est[i] = np.argmax(row)\n",
    "    return est"
   ]
  },
  {
   "cell_type": "code",
   "execution_count": 72,
   "metadata": {
    "collapsed": false
   },
   "outputs": [],
   "source": [
    "miu = calc_miu(X,Y)\n",
    "likes = max_like(miu,X)\n",
    "result = mle(likes) #note: result is index, not label yet"
   ]
  },
  {
   "cell_type": "code",
   "execution_count": 73,
   "metadata": {
    "collapsed": false
   },
   "outputs": [
    {
     "name": "stdout",
     "output_type": "stream",
     "text": [
      "act label: 1.0, Y count:19723, estimate count:2610\n",
      "act label: 3.0, Y count:0, estimate count:9961\n",
      "act label: 4.0, Y count:220, estimate count:595\n",
      "act label: 5.0, Y count:240, estimate count:8153\n",
      "act label: 6.0, Y count:31, estimate count:1607\n",
      "act label: 10.0, Y count:11670, estimate count:6450\n",
      "act label: 13.0, Y count:71, estimate count:25\n",
      "act label: 15.0, Y count:292, estimate count:3\n",
      "act label: 16.0, Y count:33, estimate count:154\n",
      "act label: 17.0, Y count:21, estimate count:35\n",
      "act label: 18.0, Y count:38, estimate count:41\n",
      "act label: 19.0, Y count:25, estimate count:40\n",
      "act label: 20.0, Y count:2, estimate count:499\n",
      "act label: 22.0, Y count:10, estimate count:922\n",
      "act label: 23.0, Y count:11, estimate count:7111\n",
      "act label: 25.0, Y count:454, estimate count:936\n",
      "act label: 0, Y count:7165, estimate count:864\n"
     ]
    }
   ],
   "source": [
    "#convert index to label\n",
    "res_label = np.array([i2a[e] for e in result])\n",
    "for act in all_act:\n",
    "    print \"act label: {}, Y count:{}, estimate count:{}\".format(act, sum(Y==act), sum(res_label==act))"
   ]
  },
  {
   "cell_type": "markdown",
   "metadata": {},
   "source": [
    "# Evaluation"
   ]
  },
  {
   "cell_type": "markdown",
   "metadata": {},
   "source": [
    "$$\\text{Precision} = \\frac{1}{N}\\sum^N_i \\frac{TP_i}{TI_i} $$\n",
    "$$\\text{Recall} = \\frac{1}{N}\\sum^N_i\\frac{TP_i}{TT_i} $$\n",
    "$$\\text{F-Measure} = \\frac{2 \\cdot precision \\cdot recal}{precision+recall} $$\n",
    "$$\\text{Accuracy} = \\frac{\\sum^N_i TP_i}{Total}$$"
   ]
  },
  {
   "cell_type": "code",
   "execution_count": 74,
   "metadata": {
    "collapsed": true
   },
   "outputs": [],
   "source": [
    "def precision(pred_label, Y):\n",
    "    all_label = list(set(Y))\n",
    "    N = len(all_label)\n",
    "    res = 0\n",
    "    for y in list(set(Y)):\n",
    "        TP = np.sum(pred_label[Y==y]==y)\n",
    "        TI = np.sum(pred_label==y)\n",
    "        res += (float(TP)/TI)\n",
    "    return float(res)/N\n",
    "\n",
    "def recall(pred_label, Y):\n",
    "    all_label = list(set(Y))\n",
    "    N = len(all_label)\n",
    "    res = 0\n",
    "    for y in list(set(Y)):\n",
    "        TP = np.sum(pred_label[Y==y]==y)\n",
    "        TT = np.sum(Y==y)\n",
    "        res += float(TP)/TT\n",
    "    return float(res)/N\n",
    "\n",
    "def f_score(pred_label, Y):\n",
    "    p = precision(pred_label, Y)\n",
    "    r = recall(pred_label, Y)\n",
    "    return 2*p*r/(p+r)\n",
    "\n",
    "def accuracy(pred_label, Y):\n",
    "    res = 0\n",
    "    all_label = list(set(Y))\n",
    "    for y in list(set(Y)):\n",
    "        TP = np.sum(pred_label[Y==y]==y)\n",
    "        res += TP\n",
    "    return float(res)/len(Y)"
   ]
  },
  {
   "cell_type": "code",
   "execution_count": 75,
   "metadata": {
    "collapsed": false
   },
   "outputs": [
    {
     "data": {
      "text/plain": [
       "0.3150239010523815"
      ]
     },
     "execution_count": 75,
     "metadata": {},
     "output_type": "execute_result"
    }
   ],
   "source": [
    "precision(res_label, Y)"
   ]
  },
  {
   "cell_type": "code",
   "execution_count": 76,
   "metadata": {
    "collapsed": false
   },
   "outputs": [
    {
     "data": {
      "text/plain": [
       "0.43400960627952745"
      ]
     },
     "execution_count": 76,
     "metadata": {},
     "output_type": "execute_result"
    }
   ],
   "source": [
    "recall(res_label, Y)"
   ]
  },
  {
   "cell_type": "code",
   "execution_count": 77,
   "metadata": {
    "collapsed": false
   },
   "outputs": [
    {
     "data": {
      "text/plain": [
       "0.3650661764155246"
      ]
     },
     "execution_count": 77,
     "metadata": {},
     "output_type": "execute_result"
    }
   ],
   "source": [
    "f_score(res_label, Y)"
   ]
  },
  {
   "cell_type": "code",
   "execution_count": 78,
   "metadata": {
    "collapsed": false
   },
   "outputs": [
    {
     "data": {
      "text/plain": [
       "0.15237714342848574"
      ]
     },
     "execution_count": 78,
     "metadata": {},
     "output_type": "execute_result"
    }
   ],
   "source": [
    "accuracy(res_label, Y)"
   ]
  },
  {
   "cell_type": "code",
   "execution_count": null,
   "metadata": {
    "collapsed": true
   },
   "outputs": [],
   "source": []
  },
  {
   "cell_type": "code",
   "execution_count": null,
   "metadata": {
    "collapsed": true
   },
   "outputs": [],
   "source": []
  }
 ],
 "metadata": {
  "kernelspec": {
   "display_name": "Python 2",
   "language": "python",
   "name": "python2"
  },
  "language_info": {
   "codemirror_mode": {
    "name": "ipython",
    "version": 2
   },
   "file_extension": ".py",
   "mimetype": "text/x-python",
   "name": "python",
   "nbconvert_exporter": "python",
   "pygments_lexer": "ipython2",
   "version": "2.7.11"
  }
 },
 "nbformat": 4,
 "nbformat_minor": 0
}
