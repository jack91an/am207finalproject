{
 "cells": [
  {
   "cell_type": "code",
   "execution_count": 3,
   "metadata": {
    "collapsed": true
   },
   "outputs": [],
   "source": [
    "import pandas as pd\n",
    "import numpy as np\n",
    "import matplotlib.pyplot as plt\n",
    "%matplotlib inline"
   ]
  },
  {
   "cell_type": "code",
   "execution_count": 82,
   "metadata": {
    "collapsed": false
   },
   "outputs": [],
   "source": [
    "houses = ['A', 'B', 'C']\n",
    "xtype_dict = {'r':'raw', 'c':'change'}"
   ]
  },
  {
   "cell_type": "code",
   "execution_count": 90,
   "metadata": {
    "collapsed": true
   },
   "outputs": [],
   "source": [
    "def read_data(house, xtype):\n",
    "    assert house in houses\n",
    "    assert xtype in xtype_dict\n",
    "    \n",
    "    act_df = pd.read_csv(\"house{}_act.csv\".format(house))\n",
    "    sensor_df = pd.read_csv(\"house{}_sensor.csv\".format(house))\n",
    "    X = np.load(\"X_{}_house{}.npy\".format(xtype_dict[xtype], house))\n",
    "    Y = np.load(\"Y_house{}.npy\".format(house))\n",
    "    return act_df, sensor_df, X, Y"
   ]
  },
  {
   "cell_type": "code",
   "execution_count": 91,
   "metadata": {
    "collapsed": true
   },
   "outputs": [],
   "source": [
    "#read in data\n",
    "act_df,sensor_df,X,Y = read_data('A', 'r')"
   ]
  },
  {
   "cell_type": "code",
   "execution_count": 129,
   "metadata": {
    "collapsed": true
   },
   "outputs": [],
   "source": [
    "#build 4 dict, act to idx, idx to act, sensor to idx, idx to sensor\n",
    "all_act = list(set(act_df.label)) + [0] #all the act labels\n",
    "a2i = dict(zip(all_act, range(len(all_act))))\n",
    "i2a = dict(zip(range(len(all_act)), all_act))\n",
    "\n",
    "all_sensor = list(set(sensor_df.label)) #all the sensor labels\n",
    "i2s = dict(zip(range(len(all_sensor)), all_sensor))\n",
    "s2i = dict(zip(all_sensor, range(len(all_sensor))))"
   ]
  },
  {
   "cell_type": "code",
   "execution_count": 150,
   "metadata": {
    "collapsed": false
   },
   "outputs": [
    {
     "name": "stdout",
     "output_type": "stream",
     "text": [
      "# sensors:  14\n",
      "# states/acts:  17\n",
      "# timeframes:  40006\n"
     ]
    }
   ],
   "source": [
    "print \"# sensors: \", len(all_sensor)\n",
    "print \"# states/acts: \", len(all_act)\n",
    "print \"# timeframes: \", len(X)"
   ]
  },
  {
   "cell_type": "markdown",
   "metadata": {},
   "source": [
    "## Naive Bayes"
   ]
  },
  {
   "cell_type": "code",
   "execution_count": 131,
   "metadata": {
    "collapsed": false
   },
   "outputs": [],
   "source": [
    "#each row represents sensors for a specific action\n",
    "def calc_miu(X, Y, all_sensor=all_sensor, all_act=all_act):\n",
    "    assert len(X)==len(Y)\n",
    "    \n",
    "    num_act = len(all_act)\n",
    "    num_sensor = len(all_sensor)\n",
    "    miu = np.zeros([num_act, num_sensor])\n",
    "    for act in all_act:\n",
    "        sensor = X[Y==act]\n",
    "        for row in sensor:\n",
    "            miu[a2i[act]] += row\n",
    "    #normalize\n",
    "    for i,row in enumerate(miu):\n",
    "        total = np.sum(row)\n",
    "        if total != 0:\n",
    "            miu[i] = miu[i]/total\n",
    "    return miu"
   ]
  },
  {
   "cell_type": "code",
   "execution_count": 132,
   "metadata": {
    "collapsed": true
   },
   "outputs": [],
   "source": [
    "def max_like(miu, X):\n",
    "    num_time = len(X)\n",
    "    num_act = len(miu)\n",
    "    \n",
    "    prob = np.zeros((num_time, num_act))\n",
    "    for i in range(num_time):\n",
    "        sensor = X[i]\n",
    "        for j in range(num_act):\n",
    "            act = miu[j]\n",
    "            logp = 0\n",
    "            for k,s in enumerate(sensor):\n",
    "                if s == 1:\n",
    "                    logp += np.log(act[k])\n",
    "                else:\n",
    "                    logp += np.log(1-act[k])\n",
    "            prob[i,j] = logp\n",
    "    return prob"
   ]
  },
  {
   "cell_type": "code",
   "execution_count": 133,
   "metadata": {
    "collapsed": false
   },
   "outputs": [],
   "source": [
    "def mle(matrix):\n",
    "    est = np.zeros(len(matrix))\n",
    "    for i,row in enumerate(matrix):\n",
    "        est[i] = np.argmax(row)\n",
    "    return est"
   ]
  },
  {
   "cell_type": "code",
   "execution_count": 134,
   "metadata": {
    "collapsed": false
   },
   "outputs": [],
   "source": [
    "miu = calc_miu(X,Y)\n",
    "likes = max_like(miu,X)\n",
    "result = mle(likes) #note: result is index, not label yet"
   ]
  },
  {
   "cell_type": "code",
   "execution_count": 143,
   "metadata": {
    "collapsed": false
   },
   "outputs": [],
   "source": [
    "#convert index to label\n",
    "res_label = np.array([i2a[e] for e in result])"
   ]
  },
  {
   "cell_type": "code",
   "execution_count": 149,
   "metadata": {
    "collapsed": false
   },
   "outputs": [
    {
     "data": {
      "text/plain": [
       "864"
      ]
     },
     "execution_count": 149,
     "metadata": {},
     "output_type": "execute_result"
    }
   ],
   "source": [
    "sum(res_label==0)"
   ]
  },
  {
   "cell_type": "code",
   "execution_count": 148,
   "metadata": {
    "collapsed": false
   },
   "outputs": [
    {
     "data": {
      "text/plain": [
       "7235"
      ]
     },
     "execution_count": 148,
     "metadata": {},
     "output_type": "execute_result"
    }
   ],
   "source": [
    "sum(Y==0)"
   ]
  },
  {
   "cell_type": "code",
   "execution_count": null,
   "metadata": {
    "collapsed": true
   },
   "outputs": [],
   "source": []
  }
 ],
 "metadata": {
  "kernelspec": {
   "display_name": "Python 2",
   "language": "python",
   "name": "python2"
  },
  "language_info": {
   "codemirror_mode": {
    "name": "ipython",
    "version": 2
   },
   "file_extension": ".py",
   "mimetype": "text/x-python",
   "name": "python",
   "nbconvert_exporter": "python",
   "pygments_lexer": "ipython2",
   "version": "2.7.11"
  }
 },
 "nbformat": 4,
 "nbformat_minor": 0
}
