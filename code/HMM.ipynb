{
 "cells": [
  {
   "cell_type": "code",
   "execution_count": null,
   "metadata": {
    "collapsed": true
   },
   "outputs": [],
   "source": [
    "import numpy as np\n",
    "import matplotlib\n",
    "import matplotlib.pyplot as plt\n",
    "%matplotlib inline\n",
    "\n",
    "import seaborn as sns\n",
    "sns.set_style(\"white\")\n",
    "\n",
    "import time\n",
    "import timeit\n",
    "\n",
    "import scipy.stats \n",
    "import pandas as pd\n",
    "import pymc as pm\n",
    "\n",
    "import re\n",
    "import numpy as np\n",
    "\n",
    "import string\n",
    "import itertools\n",
    "\n",
    "import time"
   ]
  },
  {
   "cell_type": "markdown",
   "metadata": {},
   "source": [
    "## Exactly the same code from NB\n",
    "\n",
    "* define house numbers and x types\n",
    "* read data\n",
    "* define functions to evaluate prediction"
   ]
  },
  {
   "cell_type": "code",
   "execution_count": 7,
   "metadata": {
    "collapsed": true
   },
   "outputs": [],
   "source": [
    "# House Number and X Types\n",
    "houses = ['A', 'B', 'C']\n",
    "xtype_dict = {'r':'raw', 'c':'change','l':'last'}\n",
    "\n",
    "def read_data(house, xtype):\n",
    "    assert house in houses\n",
    "    assert xtype in xtype_dict\n",
    "    \n",
    "    act_df = pd.read_csv(\"data/house{}_act.csv\".format(house))\n",
    "    sensor_df = pd.read_csv(\"data/house{}_sensor.csv\".format(house))\n",
    "    X = np.load(\"data/X_{}_house{}.npy\".format(xtype_dict[xtype], house))\n",
    "    Y = np.load(\"data/Y_house{}.npy\".format(house))\n",
    "    miu = np.load(\"data/mu{}_{}.npy\".format(house, xtype))\n",
    "    prior = np.load('data/Prior_{}.npy'.format(house))\n",
    "    return act_df, sensor_df, X, Y, miu, prior\n",
    "\n",
    "# Prediction Evaluation Functions\n",
    "def precision(pred_label, Y):\n",
    "    all_label = list(set(Y))\n",
    "    N = len(all_label)\n",
    "    res = 0\n",
    "    for y in list(set(Y)):\n",
    "        TP = np.sum(pred_label[Y==y]==y)\n",
    "        TI = np.sum(pred_label==y)\n",
    "        if TI != 0:\n",
    "            res += (float(TP)/TI)\n",
    "    return float(res)/N\n",
    "def recall(pred_label, Y):\n",
    "    all_label = list(set(Y))\n",
    "    N = len(all_label)\n",
    "    res = 0\n",
    "    for y in list(set(Y)):\n",
    "        TP = np.sum(pred_label[Y==y]==y)\n",
    "        TT = np.sum(Y==y)\n",
    "        if TT != 0:\n",
    "            res += float(TP)/TT\n",
    "    return float(res)/N\n",
    "def f_score(pred_label, Y):\n",
    "    p = precision(pred_label, Y)\n",
    "    r = recall(pred_label, Y)\n",
    "    return 2*p*r/(p+r)\n",
    "def accuracy(pred_label, Y):\n",
    "    res = 0\n",
    "    all_label = list(set(Y))\n",
    "    for y in list(set(Y)):\n",
    "        TP = np.sum(pred_label[Y==y]==y)\n",
    "        res += TP\n",
    "    return float(res)/len(Y)\n",
    "\n",
    "def evaluation(house,res_label, Y):\n",
    "    print 'Precision of house {} is {}'.format(house,precision(res_label, Y))\n",
    "    print 'recall of house {} is {}'.format(house,recall(res_label, Y))\n",
    "    print 'F score of house {} is {}'.format(house,f_score(res_label, Y))\n",
    "    print 'Accuracy of house {} is {}'.format(house,accuracy(res_label, Y))"
   ]
  },
  {
   "cell_type": "markdown",
   "metadata": {},
   "source": [
    "## Experiment with HMM\n",
    "\n",
    "For debugging purposes. Function written as the next step."
   ]
  },
  {
   "cell_type": "code",
   "execution_count": 3,
   "metadata": {
    "collapsed": true
   },
   "outputs": [],
   "source": [
    "# load data\n",
    "act_df, sensor_df, X, Y, miu, prior = read_data(\"A\", \"r\")"
   ]
  },
  {
   "cell_type": "code",
   "execution_count": 77,
   "metadata": {
    "collapsed": false
   },
   "outputs": [
    {
     "name": "stdout",
     "output_type": "stream",
     "text": [
      "(40006, 14)\n",
      "(40006,)\n",
      "(17, 14)\n"
     ]
    }
   ],
   "source": [
    "print X.shape\n",
    "print Y.shape\n",
    "print miu.shape"
   ]
  },
  {
   "cell_type": "code",
   "execution_count": 45,
   "metadata": {
    "collapsed": false
   },
   "outputs": [],
   "source": [
    "order = 2\n",
    "A = miu.shape[0]\n",
    "S = miu.shape[1]\n",
    "K = n_activity ** order\n",
    "\n",
    "activity_single = [int(x) for x in list(set(act_df.label))] + [0]\n",
    "activity_higher = [prod for prod in itertools.product(*np.tile(activity_single, (order,1)))]\n",
    "\n",
    "index_to_single = dict(zip(range(A), activity_single)) #ind to activity_single dict\n",
    "single_to_index = dict(zip(activity_single, range(A))) #activity_single to ind dict\n",
    "index_to_higher = dict(zip(range(K), activity_higher)) #ind to activity_higher dict\n",
    "higher_to_index = dict(zip(activity_higher, range(K))) #activity_higher to ind dict"
   ]
  },
  {
   "cell_type": "code",
   "execution_count": 79,
   "metadata": {
    "collapsed": true
   },
   "outputs": [],
   "source": [
    "X_train = X\n",
    "Y_train = Y\n",
    "X_test = X\n",
    "Y_test = Y\n",
    "N_train = len(X)\n",
    "N_test = len(X)"
   ]
  },
  {
   "cell_type": "code",
   "execution_count": 91,
   "metadata": {
    "collapsed": false
   },
   "outputs": [],
   "source": [
    "# construct transition and emission matrix\n",
    "transition_count = np.zeros((K, K)) + 0.00001\n",
    "emission_count = np.zeros((S, K, 2)) + 0.00001\n",
    "\n",
    "for i in range(order-1, N_train-1):\n",
    "    yi = higher_to_index[tuple(Y_train[i-order+1:i+1])]\n",
    "    ynext = higher_to_index[tuple(Y_train[i-order+2:i+2])]\n",
    "    transition_count[yi, ynext] += 1\n",
    "    \n",
    "    xi = X[i]\n",
    "    \n",
    "    for j in range(S): \n",
    "        emission_count[j, yi, int(xi[j])] += 1\n",
    "\n",
    "higher_last = higher_to_index[tuple(Y_train[-order:])]\n",
    "for j in range(S): \n",
    "        emission_count[j, higher_last, int(X[-1][j])] += 1"
   ]
  },
  {
   "cell_type": "code",
   "execution_count": 116,
   "metadata": {
    "collapsed": true
   },
   "outputs": [],
   "source": [
    "# transition_count = np.zeros((K,K)) + 0.00001\n",
    "# emission_count2 = np.zeros((K, S)) + 0.00001\n",
    "\n",
    "# for i in range(order-1, N_train-1):\n",
    "#     yi = higher_to_index[tuple(Y_train[i-order+1:i+1])]\n",
    "#     ynext = higher_to_index[tuple(Y_train[i-order+2:i+2])]\n",
    "#     transition_count[yi, ynext] += 1\n",
    "#     \n",
    "#     \n",
    "#     emission_count2[yi, :] += X_train[i]\n",
    "# \n",
    "# higher_last = higher_to_index[tuple(Y_train[-order:])]\n",
    "# emission_count2[higher_last, :] += X_train[-1]"
   ]
  },
  {
   "cell_type": "code",
   "execution_count": 120,
   "metadata": {
    "collapsed": false
   },
   "outputs": [],
   "source": [
    "transition = transition_count/np.sum(transition_count, axis=1).reshape(K,1)\n",
    "log_transition = np.log(np.nan_to_num(transition))\n",
    "\n",
    "emission = emission_count/np.sum(emission_count, axis=2).reshape(S,K,1)\n",
    "log_emission = np.log(np.nan_to_num(emission))\n",
    "log_emission2 = log_emission[:,:,0].reshape(K,S)"
   ]
  },
  {
   "cell_type": "code",
   "execution_count": 80,
   "metadata": {
    "collapsed": false
   },
   "outputs": [],
   "source": [
    "# initial probability\n",
    "initial = np.zeros(K)\n",
    "initial[higher_to_index[tuple(Y_test[:order])]] = 1\n",
    "log_initial = np.log(initial)"
   ]
  },
  {
   "cell_type": "code",
   "execution_count": 135,
   "metadata": {
    "collapsed": false
   },
   "outputs": [],
   "source": [
    "# initialize T1 and T2\n",
    "T1 = np.zeros((K,N_test-order+1))\n",
    "T2 = np.zeros((K,N_test-order+1))\n",
    "\n",
    "calc_emission = lambda p, x:  np.power(p,(1-x))*np.power((np.log(1-np.exp(p))),x)\n",
    "T1[:,0] = log_initial + np.sum(calc_emission(log_emission2, X_train[order-1]), axis=1)"
   ]
  },
  {
   "cell_type": "code",
   "execution_count": 145,
   "metadata": {
    "collapsed": false,
    "scrolled": true
   },
   "outputs": [
    {
     "name": "stdout",
     "output_type": "stream",
     "text": [
      "CPU times: user 28.2 s, sys: 472 ms, total: 28.7 s\n",
      "Wall time: 28.9 s\n"
     ]
    }
   ],
   "source": [
    "%%time\n",
    "# iterate through time to update T1 and T2\n",
    "for i in range(1, N_test-order+1):\n",
    "    obj = T1[:, i-1].reshape(K,1) + log_transition + np.sum(calc_emission(log_emission2, X_train[i+order-1]), axis=1)\n",
    "    T1[:,i] = np.max(obj, axis=0)\n",
    "    T2[:,i] = np.argmax(obj, axis=0)"
   ]
  },
  {
   "cell_type": "code",
   "execution_count": null,
   "metadata": {
    "collapsed": true
   },
   "outputs": [],
   "source": [
    "# back-fill the MLE state\n",
    "Z = np.zeros(N_test-order+1)\n",
    "Z[-1] = np.argmax(T1[:,-1])"
   ]
  },
  {
   "cell_type": "code",
   "execution_count": null,
   "metadata": {
    "collapsed": true
   },
   "outputs": [],
   "source": []
  },
  {
   "cell_type": "code",
   "execution_count": null,
   "metadata": {
    "collapsed": true
   },
   "outputs": [],
   "source": []
  },
  {
   "cell_type": "code",
   "execution_count": null,
   "metadata": {
    "collapsed": true
   },
   "outputs": [],
   "source": []
  },
  {
   "cell_type": "code",
   "execution_count": 127,
   "metadata": {
    "collapsed": false
   },
   "outputs": [
    {
     "data": {
      "text/plain": [
       "array([[-0.51082611, -0.51082611, -0.51082611, -0.91629   , -0.91629   ,\n",
       "        -0.91629   , -0.91629   , -0.51082611],\n",
       "       [-0.51082611, -0.51082611, -0.51082611, -0.91629   , -0.91629   ,\n",
       "        -0.91629   , -0.91629   , -0.51082611]])"
      ]
     },
     "execution_count": 127,
     "metadata": {},
     "output_type": "execute_result"
    }
   ],
   "source": [
    "test_x = np.array([1,0,1,1,0,0,0,1])\n",
    "test_p = np.array([[-0.91629, -0.51082611, -0.91629, -0.51082611, -0.91629, -0.91629, -0.91629, -0.91629], [-0.91629, -0.51082611, -0.91629, -0.51082611, -0.91629, -0.91629, -0.91629, -0.91629]])\n",
    "np.power(test_p,(1-test_x))*np.power((np.log(1-np.exp(test_p))),test_x)"
   ]
  },
  {
   "cell_type": "code",
   "execution_count": null,
   "metadata": {
    "collapsed": true
   },
   "outputs": [],
   "source": []
  },
  {
   "cell_type": "code",
   "execution_count": null,
   "metadata": {
    "collapsed": true
   },
   "outputs": [],
   "source": []
  },
  {
   "cell_type": "code",
   "execution_count": null,
   "metadata": {
    "collapsed": true
   },
   "outputs": [],
   "source": []
  },
  {
   "cell_type": "code",
   "execution_count": null,
   "metadata": {
    "collapsed": true
   },
   "outputs": [],
   "source": []
  },
  {
   "cell_type": "code",
   "execution_count": null,
   "metadata": {
    "collapsed": true
   },
   "outputs": [],
   "source": []
  },
  {
   "cell_type": "code",
   "execution_count": null,
   "metadata": {
    "collapsed": true
   },
   "outputs": [],
   "source": []
  },
  {
   "cell_type": "code",
   "execution_count": null,
   "metadata": {
    "collapsed": true
   },
   "outputs": [],
   "source": []
  },
  {
   "cell_type": "code",
   "execution_count": null,
   "metadata": {
    "collapsed": true
   },
   "outputs": [],
   "source": []
  },
  {
   "cell_type": "code",
   "execution_count": null,
   "metadata": {
    "collapsed": true
   },
   "outputs": [],
   "source": []
  },
  {
   "cell_type": "code",
   "execution_count": null,
   "metadata": {
    "collapsed": true
   },
   "outputs": [],
   "source": []
  },
  {
   "cell_type": "code",
   "execution_count": null,
   "metadata": {
    "collapsed": true
   },
   "outputs": [],
   "source": []
  },
  {
   "cell_type": "code",
   "execution_count": null,
   "metadata": {
    "collapsed": true
   },
   "outputs": [],
   "source": []
  },
  {
   "cell_type": "code",
   "execution_count": null,
   "metadata": {
    "collapsed": true
   },
   "outputs": [],
   "source": []
  },
  {
   "cell_type": "code",
   "execution_count": null,
   "metadata": {
    "collapsed": true
   },
   "outputs": [],
   "source": []
  },
  {
   "cell_type": "code",
   "execution_count": null,
   "metadata": {
    "collapsed": true
   },
   "outputs": [],
   "source": []
  },
  {
   "cell_type": "code",
   "execution_count": null,
   "metadata": {
    "collapsed": true
   },
   "outputs": [],
   "source": []
  },
  {
   "cell_type": "code",
   "execution_count": null,
   "metadata": {
    "collapsed": true
   },
   "outputs": [],
   "source": []
  },
  {
   "cell_type": "markdown",
   "metadata": {},
   "source": [
    "## Nice and Clean function"
   ]
  },
  {
   "cell_type": "code",
   "execution_count": null,
   "metadata": {
    "collapsed": true
   },
   "outputs": [],
   "source": [
    "# define function to fit HMM model\n",
    "def HMM(X, Y, miu, order):\n",
    "    "
   ]
  }
 ],
 "metadata": {
  "kernelspec": {
   "display_name": "Python 2",
   "language": "python",
   "name": "python2"
  },
  "language_info": {
   "codemirror_mode": {
    "name": "ipython",
    "version": 2
   },
   "file_extension": ".py",
   "mimetype": "text/x-python",
   "name": "python",
   "nbconvert_exporter": "python",
   "pygments_lexer": "ipython2",
   "version": "2.7.11"
  }
 },
 "nbformat": 4,
 "nbformat_minor": 0
}
