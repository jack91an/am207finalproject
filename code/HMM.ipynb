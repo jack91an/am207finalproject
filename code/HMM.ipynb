{
 "cells": [
  {
   "cell_type": "code",
   "execution_count": 6,
   "metadata": {
    "collapsed": false
   },
   "outputs": [],
   "source": [
    "import numpy as np\n",
    "import matplotlib\n",
    "import matplotlib.pyplot as plt\n",
    "%matplotlib inline\n",
    "\n",
    "import seaborn as sns\n",
    "sns.set_style(\"white\")\n",
    "\n",
    "import time\n",
    "import timeit\n",
    "\n",
    "import scipy.stats \n",
    "import pandas as pd\n",
    "import pymc as pm\n",
    "\n",
    "import re\n",
    "import numpy as np\n",
    "\n",
    "import string\n",
    "import itertools\n",
    "\n",
    "import time\n",
    "import json"
   ]
  },
  {
   "cell_type": "markdown",
   "metadata": {},
   "source": [
    "## Exactly the same code from NB\n",
    "\n",
    "* define house numbers and x types\n",
    "* read data\n",
    "* define functions to evaluate prediction"
   ]
  },
  {
   "cell_type": "code",
   "execution_count": 2,
   "metadata": {
    "collapsed": true
   },
   "outputs": [],
   "source": [
    "# House Number and X Types\n",
    "houses = ['A', 'B', 'C']\n",
    "xtype_dict = {'r':'raw', 'c':'change','l':'last'}\n",
    "\n",
    "def read_data(house, xtype):\n",
    "    assert house in houses\n",
    "    assert xtype in xtype_dict\n",
    "    \n",
    "    act_df = pd.read_csv(\"data/house{}_act.csv\".format(house))\n",
    "    sensor_df = pd.read_csv(\"data/house{}_sensor.csv\".format(house))\n",
    "    X = np.load(\"data/X_{}_house{}.npy\".format(xtype_dict[xtype], house))\n",
    "    Y = np.load(\"data/Y_house{}.npy\".format(house))\n",
    "    miu = np.load(\"data/mu{}_{}.npy\".format(house, xtype))\n",
    "    prior = np.load('data/Prior_{}.npy'.format(house))\n",
    "    return act_df, sensor_df, X, Y, miu, prior\n",
    "\n",
    "# Prediction Evaluation Functions\n",
    "def precision(pred_label, Y):\n",
    "    all_label = list(set(Y))\n",
    "    N = len(all_label)\n",
    "    res = 0\n",
    "    for y in list(set(Y)):\n",
    "        TP = np.sum(pred_label[Y==y]==y)\n",
    "        TI = np.sum(pred_label==y)\n",
    "        if TI != 0:\n",
    "            res += (float(TP)/TI)\n",
    "    return float(res)/N\n",
    "def recall(pred_label, Y):\n",
    "    all_label = list(set(Y))\n",
    "    N = len(all_label)\n",
    "    res = 0\n",
    "    for y in list(set(Y)):\n",
    "        TP = np.sum(pred_label[Y==y]==y)\n",
    "        TT = np.sum(Y==y)\n",
    "        if TT != 0:\n",
    "            res += float(TP)/TT\n",
    "    return float(res)/N\n",
    "def f_score(pred_label, Y):\n",
    "    p = precision(pred_label, Y)\n",
    "    r = recall(pred_label, Y)\n",
    "    return 2*p*r/(p+r)\n",
    "def accuracy(pred_label, Y):\n",
    "    res = 0\n",
    "    all_label = list(set(Y))\n",
    "    for y in list(set(Y)):\n",
    "        TP = np.sum(pred_label[Y==y]==y)\n",
    "        res += TP\n",
    "    return float(res)/len(Y)\n",
    "\n",
    "def evaluation(house,res_label, Y):\n",
    "    print 'Precision of house {} is {}'.format(house,precision(res_label, Y))\n",
    "    print 'recall of house {} is {}'.format(house,recall(res_label, Y))\n",
    "    print 'F score of house {} is {}'.format(house,f_score(res_label, Y))\n",
    "    print 'Accuracy of house {} is {}'.format(house,accuracy(res_label, Y))\n",
    "    return precision(res_label, Y), recall(res_label, Y), f_score(res_label, Y), accuracy(res_label, Y)"
   ]
  },
  {
   "cell_type": "markdown",
   "metadata": {},
   "source": [
    "## Experiment with HMM\n",
    "\n",
    "For debugging purposes. Function written as the next step."
   ]
  },
  {
   "cell_type": "code",
   "execution_count": 3,
   "metadata": {
    "collapsed": true
   },
   "outputs": [],
   "source": [
    "# load data\n",
    "act_df, sensor_df, X, Y, miu, prior = read_data(\"A\", \"c\")"
   ]
  },
  {
   "cell_type": "code",
   "execution_count": 4,
   "metadata": {
    "collapsed": false
   },
   "outputs": [
    {
     "name": "stdout",
     "output_type": "stream",
     "text": [
      "(40006, 14)\n",
      "(40006,)\n",
      "(17, 14)\n"
     ]
    }
   ],
   "source": [
    "print X.shape\n",
    "print Y.shape\n",
    "print miu.shape"
   ]
  },
  {
   "cell_type": "code",
   "execution_count": 5,
   "metadata": {
    "collapsed": false
   },
   "outputs": [],
   "source": [
    "order = 2\n",
    "A = miu.shape[0]\n",
    "S = miu.shape[1]\n",
    "K = A ** order\n",
    "\n",
    "activity_single = [int(x) for x in list(set(act_df.label))] + [0]\n",
    "activity_higher = [prod for prod in itertools.product(*np.tile(activity_single, (order,1)))]\n",
    "\n",
    "index_to_single = dict(zip(range(A), activity_single)) #ind to activity_single dict\n",
    "single_to_index = dict(zip(activity_single, range(A))) #activity_single to ind dict\n",
    "index_to_higher = dict(zip(range(K), activity_higher)) #ind to activity_higher dict\n",
    "higher_to_index = dict(zip(activity_higher, range(K))) #activity_higher to ind dict"
   ]
  },
  {
   "cell_type": "code",
   "execution_count": 6,
   "metadata": {
    "collapsed": true
   },
   "outputs": [],
   "source": [
    "X_train = X\n",
    "Y_train = Y\n",
    "X_test = X\n",
    "Y_test = Y\n",
    "N_train = len(X)\n",
    "N_test = len(X)"
   ]
  },
  {
   "cell_type": "code",
   "execution_count": 7,
   "metadata": {
    "collapsed": false
   },
   "outputs": [],
   "source": [
    "# construct transition and emission matrix\n",
    "transition_count = np.zeros((K, K)) + 0.00001\n",
    "emission_count = np.zeros((K, S, 2)) + 0.00001\n",
    "\n",
    "for i in range(order-1, N_train-1):\n",
    "    yi = higher_to_index[tuple(Y_train[i-order+1:i+1])]\n",
    "    ynext = higher_to_index[tuple(Y_train[i-order+2:i+2])]\n",
    "    transition_count[yi, ynext] += 1\n",
    "    \n",
    "    xi = X[i]\n",
    "    \n",
    "    for j in range(S): \n",
    "        emission_count[yi, j, int(xi[j])] += 1\n",
    "\n",
    "higher_last = higher_to_index[tuple(Y_train[-order:])]\n",
    "for j in range(S): \n",
    "    emission_count[higher_last, j, int(X[-1][j])] += 1"
   ]
  },
  {
   "cell_type": "code",
   "execution_count": 10,
   "metadata": {
    "collapsed": true
   },
   "outputs": [],
   "source": [
    "# transition_count = np.zeros((K,K)) + 0.00001\n",
    "# emission_count2 = np.zeros((K, S)) + 0.00001\n",
    "\n",
    "# for i in range(order-1, N_train-1):\n",
    "#     yi = higher_to_index[tuple(Y_train[i-order+1:i+1])]\n",
    "#     ynext = higher_to_index[tuple(Y_train[i-order+2:i+2])]\n",
    "#     transition_count[yi, ynext] += 1\n",
    "#     \n",
    "#     \n",
    "#     emission_count2[yi, :] += X_train[i]\n",
    "# \n",
    "# higher_last = higher_to_index[tuple(Y_train[-order:])]\n",
    "# emission_count2[higher_last, :] += X_train[-1]"
   ]
  },
  {
   "cell_type": "code",
   "execution_count": 8,
   "metadata": {
    "collapsed": false
   },
   "outputs": [],
   "source": [
    "transition = transition_count/np.sum(transition_count, axis=1).reshape(K,1)\n",
    "log_transition = np.log(np.nan_to_num(transition))\n",
    "\n",
    "emission = emission_count/np.sum(emission_count, axis=2).reshape(K,S,1)\n",
    "log_emission = np.log(np.nan_to_num(emission))\n",
    "log_emission2 = log_emission[:,:,0].reshape(K,S)"
   ]
  },
  {
   "cell_type": "code",
   "execution_count": 9,
   "metadata": {
    "collapsed": false
   },
   "outputs": [],
   "source": [
    "# initial probability\n",
    "initial = np.zeros(K)\n",
    "initial[higher_to_index[tuple(Y_test[:order])]] = 1\n",
    "log_initial = np.log(initial)"
   ]
  },
  {
   "cell_type": "code",
   "execution_count": 10,
   "metadata": {
    "collapsed": false
   },
   "outputs": [],
   "source": [
    "# initialize T1 and T2\n",
    "T1 = np.zeros((K,N_test-order+1))\n",
    "T2 = np.zeros((K,N_test-order+1))\n",
    "\n",
    "calc_emission = lambda p, x:  np.power(p,(1-x))*np.power((np.log(1-np.exp(p))),x)\n",
    "T1[:,0] = log_initial + np.sum(calc_emission(log_emission2, X_train[order-1]), axis=1)"
   ]
  },
  {
   "cell_type": "code",
   "execution_count": 11,
   "metadata": {
    "collapsed": false,
    "scrolled": true
   },
   "outputs": [
    {
     "name": "stdout",
     "output_type": "stream",
     "text": [
      "CPU times: user 27.9 s, sys: 548 ms, total: 28.5 s\n",
      "Wall time: 28.7 s\n"
     ]
    }
   ],
   "source": [
    "%%time\n",
    "# iterate through time to update T1 and T2\n",
    "for i in range(1, N_test-order+1):\n",
    "    obj = T1[:, i-1].reshape(K,1) + log_transition + np.sum(calc_emission(log_emission2, X_train[i+order-1]), axis=1)\n",
    "    T1[:,i] = np.max(obj, axis=0)\n",
    "    T2[:,i] = np.argmax(obj, axis=0)"
   ]
  },
  {
   "cell_type": "code",
   "execution_count": 32,
   "metadata": {
    "collapsed": false
   },
   "outputs": [
    {
     "name": "stdout",
     "output_type": "stream",
     "text": [
      "CPU times: user 54.9 ms, sys: 13.4 ms, total: 68.3 ms\n",
      "Wall time: 60.9 ms\n"
     ]
    }
   ],
   "source": [
    "%%time\n",
    "# back-fill the MLE state\n",
    "Z = np.zeros(N_test-order+1)\n",
    "Z[-1] = np.argmax(T1[:,-1])\n",
    "\n",
    "for i in range(-1, -(N_test-order), -1):\n",
    "    Z[i-1] = T2[int(Z[i]), i]\n",
    "\n",
    "Y_HMM = np.array([index_to_higher[i][0] for i in Z])\n",
    "Y_HMM[0] = Y_test[:order][0]"
   ]
  },
  {
   "cell_type": "code",
   "execution_count": 33,
   "metadata": {
    "collapsed": false
   },
   "outputs": [
    {
     "name": "stdout",
     "output_type": "stream",
     "text": [
      "[ 6  6  0 10 10 10 10 10 10 10 10 10 10 10 10 10 10 10 10 10]\n",
      "[  6.   6.   0.  10.  10.  10.  10.  10.  10.  10.  10.  10.  10.  10.  10.\n",
      "  10.  10.  10.  10.  10.]\n"
     ]
    }
   ],
   "source": [
    "print Y_HMM[:20]\n",
    "print Y_train[:20]"
   ]
  },
  {
   "cell_type": "code",
   "execution_count": 35,
   "metadata": {
    "collapsed": false
   },
   "outputs": [
    {
     "name": "stdout",
     "output_type": "stream",
     "text": [
      "Precision of house A is 0.805394415528\n",
      "recall of house A is 0.769201489369\n",
      "F score of house A is 0.786881995599\n",
      "Accuracy of house A is 0.850768653918\n"
     ]
    }
   ],
   "source": [
    "evaluation(\"A\", Y_HMM, Y_train[:N_test-order+1])"
   ]
  },
  {
   "cell_type": "code",
   "execution_count": 13,
   "metadata": {
    "collapsed": false
   },
   "outputs": [
    {
     "name": "stdout",
     "output_type": "stream",
     "text": [
      "0.850747387892\n"
     ]
    }
   ],
   "source": [
    "count = 0\n",
    "for i in range(N_train-1):\n",
    "    if Y_test[i] == Y_HMM[i]:\n",
    "        count += 1\n",
    "print count/float(N_train)"
   ]
  },
  {
   "cell_type": "markdown",
   "metadata": {},
   "source": [
    "## Nice and Clean function"
   ]
  },
  {
   "cell_type": "code",
   "execution_count": 56,
   "metadata": {
    "collapsed": true
   },
   "outputs": [],
   "source": [
    "# define function to fit HMM model\n",
    "\n",
    "def HMM(house, X_train, Y_train, X_test, Y_test, order):\n",
    "\n",
    "    # Initialization\n",
    "    activity_single = [int(x) for x in list(set(Y_train))] + [0]\n",
    "    activity_higher = [prod for prod in itertools.product(*np.tile(activity_single, (order,1)))]\n",
    "\n",
    "    A = len(activity_single)\n",
    "    K = len(activity_higher)\n",
    "    S = X_train.shape[1]\n",
    "    N_train = len(X_train)\n",
    "    N_test = len(Y_test)\n",
    "    \n",
    "    index_to_single = dict(zip(range(A), activity_single)) #ind to activity_single dict\n",
    "    single_to_index = dict(zip(activity_single, range(A))) #activity_single to ind dict\n",
    "    index_to_higher = dict(zip(range(K), activity_higher)) #ind to activity_higher dict\n",
    "    higher_to_index = dict(zip(activity_higher, range(K))) #activity_higher to ind dict\n",
    "\n",
    "    \n",
    "    # Training transition and emission\n",
    "    transition_count = np.zeros((K, K)) + 0.00001\n",
    "    emission_count = np.zeros((K, S, 2)) + 0.00001\n",
    "\n",
    "    for i in range(order-1, N_train-1):\n",
    "        yi = higher_to_index[tuple(Y_train[i-order+1:i+1])]\n",
    "        ynext = higher_to_index[tuple(Y_train[i-order+2:i+2])]\n",
    "        transition_count[yi, ynext] += 1\n",
    "\n",
    "        xi = X[i]\n",
    "        for j in range(S): \n",
    "            emission_count[yi, j, int(xi[j])] += 1\n",
    "\n",
    "    higher_last = higher_to_index[tuple(Y_train[-order:])]\n",
    "    for j in range(S): \n",
    "        emission_count[higher_last, j, int(X[-1][j])] += 1\n",
    "        \n",
    "    transition = transition_count/np.sum(transition_count, axis=1).reshape(K,1)\n",
    "    log_transition = np.log(np.nan_to_num(transition))\n",
    "\n",
    "    emission = emission_count/np.sum(emission_count, axis=2).reshape(K,S,1)\n",
    "    log_emission = np.log(np.nan_to_num(emission))[:,:,0].reshape(K,S)\n",
    "\n",
    "    \n",
    "    # Viterbi\n",
    "    ### Initial probability\n",
    "    initial = np.zeros(K)\n",
    "    initial[higher_to_index[tuple(Y_test[:order])]] = 1\n",
    "    log_initial = np.log(initial)\n",
    "    \n",
    "    ### Initialize T1 and T2\n",
    "    T1 = np.zeros((K,N_test-order+1))\n",
    "    T2 = np.zeros((K,N_test-order+1))\n",
    "\n",
    "    calc_emission = lambda p, x:  np.power(p,(1-x))*np.power((np.log(1-np.exp(p))),x)\n",
    "    T1[:,0] = log_initial + np.sum(calc_emission(log_emission, X_train[order-1]), axis=1)\n",
    "\n",
    "    ### Update T1 and T2\n",
    "    for i in range(1, N_test-order+1):\n",
    "        obj = T1[:, i-1].reshape(K,1) + log_transition + np.sum(calc_emission(log_emission, X_train[i+order-1]), axis=1)\n",
    "        T1[:,i] = np.max(obj, axis=0)\n",
    "        T2[:,i] = np.argmax(obj, axis=0)\n",
    "        \n",
    "    ### Back-fill the most likely state\n",
    "    Z = np.zeros(N_test-order+1)\n",
    "    Z[-1] = np.argmax(T1[:,-1])\n",
    "\n",
    "    for i in range(-1, -(N_test-order), -1):\n",
    "        Z[i-1] = T2[int(Z[i]), i]\n",
    "\n",
    "    Y_HMM = np.array([index_to_higher[i][0] for i in Z])\n",
    "    Y_HMM[0] = Y_test[:order][0]\n",
    "    \n",
    "    \n",
    "    # Output results\n",
    "    result = evaluation(house, Y_HMM, Y_train[:N_test-order+1])\n",
    "    result_dict = dict(zip([\"precision\", \"recall\", \"f\", \"accuracy\"], result))\n",
    "    return result_dict"
   ]
  },
  {
   "cell_type": "code",
   "execution_count": 57,
   "metadata": {
    "collapsed": false
   },
   "outputs": [
    {
     "name": "stdout",
     "output_type": "stream",
     "text": [
      "Precision of house B is 0.302677639835\n",
      "recall of house B is 0.302677639835\n",
      "F score of house B is 0.410162668687\n",
      "Accuracy of house B is 0.636426735219\n"
     ]
    }
   ],
   "source": [
    "act_df, sensor_df, X, Y, miu, prior = read_data(\"B\", \"r\")\n",
    "X_train = X\n",
    "Y_train = Y\n",
    "X_test = X\n",
    "Y_test = Y\n",
    "order = 1\n",
    "test_result = HMM(\"B\", X_train, Y_train, X_test, Y_test, order)"
   ]
  },
  {
   "cell_type": "code",
   "execution_count": null,
   "metadata": {
    "collapsed": true
   },
   "outputs": [],
   "source": [
    "test_result"
   ]
  },
  {
   "cell_type": "markdown",
   "metadata": {},
   "source": [
    "# Wrapping all houses and feature representations"
   ]
  },
  {
   "cell_type": "code",
   "execution_count": 64,
   "metadata": {
    "collapsed": false,
    "scrolled": true
   },
   "outputs": [
    {
     "name": "stdout",
     "output_type": "stream",
     "text": [
      "Order:  1\n",
      "change\n",
      "Precision of house A is 0.572370613118\n",
      "recall of house A is 0.572370613118\n",
      "F score of house A is 0.578691859251\n",
      "Accuracy of house A is 0.722391641254\n",
      "Precision of house B is 0.414139176825\n",
      "recall of house B is 0.414139176825\n",
      "F score of house B is 0.499433964237\n",
      "Accuracy of house B is 0.558174807198\n",
      "Precision of house C is 0.476879915639\n",
      "recall of house C is 0.476879915639\n",
      "F score of house C is 0.492969831069\n",
      "Accuracy of house C is 0.787941709453\n",
      "raw\n",
      "Precision of house A is 0.401679493576\n",
      "recall of house A is 0.401679493576\n",
      "F score of house A is 0.461803506496\n",
      "Accuracy of house A is 0.557441383792\n",
      "Precision of house B is 0.302677639835\n",
      "recall of house B is 0.302677639835\n",
      "F score of house B is 0.410162668687\n",
      "Accuracy of house B is 0.636426735219\n",
      "Precision of house C is 0.186197160245\n",
      "recall of house C is 0.186197160245\n",
      "F score of house C is 0.250452247337\n",
      "Accuracy of house C is 0.312594382362\n",
      "last\n",
      "Precision of house A is 0.21753304903\n",
      "recall of house A is 0.21753304903\n",
      "F score of house A is 0.299398943749\n",
      "Accuracy of house A is 0.604784282358\n",
      "Precision of house B is 0.34168190322\n",
      "recall of house B is 0.34168190322\n",
      "F score of house B is 0.452335010811\n",
      "Accuracy of house B is 0.256426735219\n",
      "Precision of house C is 0.29890235744\n",
      "recall of house C is 0.29890235744\n",
      "F score of house C is 0.37648583526\n",
      "Accuracy of house C is 0.451562971912\n",
      "Order:  2\n",
      "change\n",
      "Precision of house A is 0.805394415528\n",
      "recall of house A is 0.805394415528\n",
      "F score of house A is 0.786881995599\n",
      "Accuracy of house A is 0.850768653918\n",
      "Precision of house B is 0.590598550389\n",
      "recall of house B is 0.590598550389\n",
      "F score of house B is 0.695919292281\n",
      "Accuracy of house B is 0.491503637626\n",
      "Precision of house C is 0.579954081248\n",
      "recall of house C is 0.579954081248\n",
      "F score of house C is 0.589517345791\n",
      "Accuracy of house C is 0.79552233171\n",
      "raw\n",
      "Precision of house A is 0.452280384819\n",
      "recall of house A is 0.452280384819\n",
      "F score of house A is 0.519033178336\n",
      "Accuracy of house A is 0.571578552681\n",
      "Precision of house B is 0.329081269274\n",
      "recall of house B is 0.329081269274\n",
      "F score of house B is 0.441241561362\n",
      "Accuracy of house B is 0.649271189491\n",
      "Precision of house C is 0.211147302994\n",
      "recall of house C is 0.211147302994\n",
      "F score of house C is 0.292480880559\n",
      "Accuracy of house C is 0.344282100653\n",
      "last\n",
      "Precision of house A is 0.330554492284\n",
      "recall of house A is 0.330554492284\n",
      "F score of house A is 0.437505675921\n",
      "Accuracy of house A is 0.702962129734\n",
      "Precision of house B is 0.423775742514\n",
      "recall of house B is 0.423775742514\n",
      "F score of house B is 0.539579422358\n",
      "Accuracy of house B is 0.262217537726\n",
      "Precision of house C is 0.321600594932\n",
      "recall of house C is 0.321600594932\n",
      "F score of house C is 0.404394807808\n",
      "Accuracy of house C is 0.456412579756\n"
     ]
    }
   ],
   "source": [
    "# House Number and X Types\n",
    "houses = ['A', 'B', 'C']\n",
    "xtype_dict = {'r':'raw', 'c':'change','l':'last'}\n",
    "orders = [1, 2]\n",
    "\n",
    "\n",
    "all_result = []\n",
    "for order in orders:\n",
    "    print \"Order: \", order\n",
    "    by_xtype = []\n",
    "    for xtype in xtype_dict.keys():\n",
    "        print xtype_dict[xtype]\n",
    "        by_house = []\n",
    "        for house in houses:\n",
    "            act_df, sensor_df, X, Y, miu, prior = read_data(house, xtype)\n",
    "            X_train = X\n",
    "            Y_train = Y\n",
    "            X_test = X\n",
    "            Y_test = Y\n",
    "            result = HMM(house, X_train, Y_train, X_test, Y_test, order)\n",
    "            by_house.append(result)\n",
    "        dict_by_house = dict(zip(houses, by_house))\n",
    "        by_xtype.append(dict_by_house)\n",
    "    dict_by_xtype = dict(zip(xtype_dict.keys(), by_xtype))\n",
    "    all_result.append(dict_by_xtype)\n",
    "result_by_order = dict(zip(orders, all_result))"
   ]
  },
  {
   "cell_type": "code",
   "execution_count": 69,
   "metadata": {
    "collapsed": false
   },
   "outputs": [],
   "source": [
    "with open('data/result_hmm.json', 'w') as f:\n",
    "     json.dump(result_by_order, f)"
   ]
  },
  {
   "cell_type": "code",
   "execution_count": 3,
   "metadata": {
    "collapsed": true
   },
   "outputs": [],
   "source": [
    "act_df = pd.read_csv(\"data/houseC_act.csv\")"
   ]
  },
  {
   "cell_type": "code",
   "execution_count": 10,
   "metadata": {
    "collapsed": false,
    "scrolled": true
   },
   "outputs": [
    {
     "data": {
      "text/html": [
       "<div>\n",
       "<table border=\"1\" class=\"dataframe\">\n",
       "  <thead>\n",
       "    <tr style=\"text-align: right;\">\n",
       "      <th></th>\n",
       "      <th>start_time</th>\n",
       "      <th>end_time</th>\n",
       "      <th>label</th>\n",
       "      <th>meaning</th>\n",
       "    </tr>\n",
       "  </thead>\n",
       "  <tbody>\n",
       "    <tr>\n",
       "      <th>0</th>\n",
       "      <td>2008-11-19 17:49:00</td>\n",
       "      <td>2008-11-19 17:49:59</td>\n",
       "      <td>1</td>\n",
       "      <td>leave house</td>\n",
       "    </tr>\n",
       "    <tr>\n",
       "      <th>1</th>\n",
       "      <td>2008-11-19 17:50:40</td>\n",
       "      <td>2008-11-19 17:51:45</td>\n",
       "      <td>4</td>\n",
       "      <td>use toilet downstairs</td>\n",
       "    </tr>\n",
       "    <tr>\n",
       "      <th>2</th>\n",
       "      <td>2008-11-19 17:59:25</td>\n",
       "      <td>2008-11-19 18:00:00</td>\n",
       "      <td>17</td>\n",
       "      <td>get drink</td>\n",
       "    </tr>\n",
       "    <tr>\n",
       "      <th>3</th>\n",
       "      <td>2008-11-19 18:00:50</td>\n",
       "      <td>2008-11-19 20:24:59</td>\n",
       "      <td>28</td>\n",
       "      <td>relax</td>\n",
       "    </tr>\n",
       "    <tr>\n",
       "      <th>4</th>\n",
       "      <td>2008-11-19 19:14:50</td>\n",
       "      <td>2008-11-19 19:15:19</td>\n",
       "      <td>17</td>\n",
       "      <td>get drink</td>\n",
       "    </tr>\n",
       "    <tr>\n",
       "      <th>5</th>\n",
       "      <td>2008-11-19 19:39:00</td>\n",
       "      <td>2008-11-19 19:39:59</td>\n",
       "      <td>16</td>\n",
       "      <td>get snack</td>\n",
       "    </tr>\n",
       "    <tr>\n",
       "      <th>6</th>\n",
       "      <td>2008-11-19 20:30:29</td>\n",
       "      <td>2008-11-19 20:31:10</td>\n",
       "      <td>7</td>\n",
       "      <td>use toilet upstairs</td>\n",
       "    </tr>\n",
       "    <tr>\n",
       "      <th>7</th>\n",
       "      <td>2008-11-19 20:31:30</td>\n",
       "      <td>2008-11-19 20:36:20</td>\n",
       "      <td>6</td>\n",
       "      <td>brush teeth</td>\n",
       "    </tr>\n",
       "    <tr>\n",
       "      <th>8</th>\n",
       "      <td>2008-11-19 20:36:59</td>\n",
       "      <td>2008-11-20 04:31:40</td>\n",
       "      <td>10</td>\n",
       "      <td>go to bed</td>\n",
       "    </tr>\n",
       "    <tr>\n",
       "      <th>9</th>\n",
       "      <td>2008-11-20 03:48:39</td>\n",
       "      <td>2008-11-20 03:49:40</td>\n",
       "      <td>7</td>\n",
       "      <td>use toilet upstairs</td>\n",
       "    </tr>\n",
       "  </tbody>\n",
       "</table>\n",
       "</div>"
      ],
      "text/plain": [
       "            start_time             end_time  label                meaning\n",
       "0  2008-11-19 17:49:00  2008-11-19 17:49:59      1            leave house\n",
       "1  2008-11-19 17:50:40  2008-11-19 17:51:45      4  use toilet downstairs\n",
       "2  2008-11-19 17:59:25  2008-11-19 18:00:00     17              get drink\n",
       "3  2008-11-19 18:00:50  2008-11-19 20:24:59     28                  relax\n",
       "4  2008-11-19 19:14:50  2008-11-19 19:15:19     17              get drink\n",
       "5  2008-11-19 19:39:00  2008-11-19 19:39:59     16              get snack\n",
       "6  2008-11-19 20:30:29  2008-11-19 20:31:10      7    use toilet upstairs\n",
       "7  2008-11-19 20:31:30  2008-11-19 20:36:20      6            brush teeth\n",
       "8  2008-11-19 20:36:59  2008-11-20 04:31:40     10              go to bed\n",
       "9  2008-11-20 03:48:39  2008-11-20 03:49:40      7    use toilet upstairs"
      ]
     },
     "execution_count": 10,
     "metadata": {},
     "output_type": "execute_result"
    }
   ],
   "source": [
    "act_df[[\"start_time\", \"end_time\", \"label\", \"meaning\"]].head(10)"
   ]
  },
  {
   "cell_type": "code",
   "execution_count": 11,
   "metadata": {
    "collapsed": true
   },
   "outputs": [],
   "source": [
    "sensor_df = pd.read_csv(\"data/houseC_sensor.csv\")"
   ]
  },
  {
   "cell_type": "code",
   "execution_count": 13,
   "metadata": {
    "collapsed": false
   },
   "outputs": [
    {
     "data": {
      "text/html": [
       "<div>\n",
       "<table border=\"1\" class=\"dataframe\">\n",
       "  <thead>\n",
       "    <tr style=\"text-align: right;\">\n",
       "      <th></th>\n",
       "      <th>start_time</th>\n",
       "      <th>end_time</th>\n",
       "      <th>on</th>\n",
       "      <th>label</th>\n",
       "      <th>meaning</th>\n",
       "    </tr>\n",
       "  </thead>\n",
       "  <tbody>\n",
       "    <tr>\n",
       "      <th>0</th>\n",
       "      <td>2008-11-19 17:47:46</td>\n",
       "      <td>2008-11-19 17:49:17</td>\n",
       "      <td>1</td>\n",
       "      <td>28</td>\n",
       "      <td>voordeur, reed</td>\n",
       "    </tr>\n",
       "    <tr>\n",
       "      <th>1</th>\n",
       "      <td>2008-11-19 17:49:20</td>\n",
       "      <td>2008-11-19 17:49:22</td>\n",
       "      <td>1</td>\n",
       "      <td>28</td>\n",
       "      <td>voordeur, reed</td>\n",
       "    </tr>\n",
       "    <tr>\n",
       "      <th>2</th>\n",
       "      <td>2008-11-19 17:49:24</td>\n",
       "      <td>2008-11-19 17:50:14</td>\n",
       "      <td>1</td>\n",
       "      <td>28</td>\n",
       "      <td>voordeur, reed</td>\n",
       "    </tr>\n",
       "    <tr>\n",
       "      <th>3</th>\n",
       "      <td>2008-11-19 17:50:18</td>\n",
       "      <td>2008-11-20 06:14:11</td>\n",
       "      <td>1</td>\n",
       "      <td>28</td>\n",
       "      <td>voordeur, reed</td>\n",
       "    </tr>\n",
       "    <tr>\n",
       "      <th>4</th>\n",
       "      <td>2008-11-19 17:51:02</td>\n",
       "      <td>2008-11-19 17:51:04</td>\n",
       "      <td>1</td>\n",
       "      <td>25</td>\n",
       "      <td>deur toilet beneden</td>\n",
       "    </tr>\n",
       "    <tr>\n",
       "      <th>5</th>\n",
       "      <td>2008-11-19 17:51:04</td>\n",
       "      <td>2008-11-19 17:51:45</td>\n",
       "      <td>1</td>\n",
       "      <td>25</td>\n",
       "      <td>deur toilet beneden</td>\n",
       "    </tr>\n",
       "    <tr>\n",
       "      <th>6</th>\n",
       "      <td>2008-11-19 17:51:49</td>\n",
       "      <td>2008-11-20 06:03:26</td>\n",
       "      <td>1</td>\n",
       "      <td>25</td>\n",
       "      <td>deur toilet beneden</td>\n",
       "    </tr>\n",
       "    <tr>\n",
       "      <th>7</th>\n",
       "      <td>2008-11-19 17:52:17</td>\n",
       "      <td>2008-11-20 06:04:01</td>\n",
       "      <td>1</td>\n",
       "      <td>10</td>\n",
       "      <td>toilet flush beneden. flush</td>\n",
       "    </tr>\n",
       "    <tr>\n",
       "      <th>8</th>\n",
       "      <td>2008-11-19 17:59:12</td>\n",
       "      <td>2008-11-19 17:59:40</td>\n",
       "      <td>1</td>\n",
       "      <td>23</td>\n",
       "      <td>kastje borden/kruiden,reed</td>\n",
       "    </tr>\n",
       "    <tr>\n",
       "      <th>9</th>\n",
       "      <td>2008-11-19 17:59:53</td>\n",
       "      <td>2008-11-19 18:00:04</td>\n",
       "      <td>1</td>\n",
       "      <td>30</td>\n",
       "      <td>koelkast, reed</td>\n",
       "    </tr>\n",
       "  </tbody>\n",
       "</table>\n",
       "</div>"
      ],
      "text/plain": [
       "            start_time             end_time  on  label  \\\n",
       "0  2008-11-19 17:47:46  2008-11-19 17:49:17   1     28   \n",
       "1  2008-11-19 17:49:20  2008-11-19 17:49:22   1     28   \n",
       "2  2008-11-19 17:49:24  2008-11-19 17:50:14   1     28   \n",
       "3  2008-11-19 17:50:18  2008-11-20 06:14:11   1     28   \n",
       "4  2008-11-19 17:51:02  2008-11-19 17:51:04   1     25   \n",
       "5  2008-11-19 17:51:04  2008-11-19 17:51:45   1     25   \n",
       "6  2008-11-19 17:51:49  2008-11-20 06:03:26   1     25   \n",
       "7  2008-11-19 17:52:17  2008-11-20 06:04:01   1     10   \n",
       "8  2008-11-19 17:59:12  2008-11-19 17:59:40   1     23   \n",
       "9  2008-11-19 17:59:53  2008-11-19 18:00:04   1     30   \n",
       "\n",
       "                        meaning  \n",
       "0               voordeur, reed   \n",
       "1               voordeur, reed   \n",
       "2               voordeur, reed   \n",
       "3               voordeur, reed   \n",
       "4           deur toilet beneden  \n",
       "5           deur toilet beneden  \n",
       "6           deur toilet beneden  \n",
       "7  toilet flush beneden. flush   \n",
       "8   kastje borden/kruiden,reed   \n",
       "9               koelkast, reed   "
      ]
     },
     "execution_count": 13,
     "metadata": {},
     "output_type": "execute_result"
    }
   ],
   "source": [
    "sensor_df[[\"start_time\", \"end_time\", \"on\", \"label\", \"meaning\"]].head(10)"
   ]
  },
  {
   "cell_type": "code",
   "execution_count": null,
   "metadata": {
    "collapsed": true
   },
   "outputs": [],
   "source": []
  }
 ],
 "metadata": {
  "kernelspec": {
   "display_name": "Python 2",
   "language": "python",
   "name": "python2"
  },
  "language_info": {
   "codemirror_mode": {
    "name": "ipython",
    "version": 2
   },
   "file_extension": ".py",
   "mimetype": "text/x-python",
   "name": "python",
   "nbconvert_exporter": "python",
   "pygments_lexer": "ipython2",
   "version": "2.7.11"
  }
 },
 "nbformat": 4,
 "nbformat_minor": 0
}
