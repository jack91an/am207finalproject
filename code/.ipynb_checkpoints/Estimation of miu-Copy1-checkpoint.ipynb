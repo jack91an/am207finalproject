{
 "cells": [
  {
   "cell_type": "code",
   "execution_count": 64,
   "metadata": {
    "collapsed": true
   },
   "outputs": [],
   "source": [
    "import pandas as pd\n",
    "import numpy as np\n",
    "import matplotlib.pyplot as plt\n",
    "%matplotlib inline"
   ]
  },
  {
   "cell_type": "code",
   "execution_count": 65,
   "metadata": {
    "collapsed": false
   },
   "outputs": [],
   "source": [
    "houses = ['A', 'B', 'C']\n",
    "xtype_dict = {'r':'raw', 'c':'change', 'l':'last'}"
   ]
  },
  {
   "cell_type": "markdown",
   "metadata": {},
   "source": [
    "## Estimation of $\\mu$"
   ]
  },
  {
   "cell_type": "code",
   "execution_count": 66,
   "metadata": {
    "collapsed": true
   },
   "outputs": [],
   "source": [
    "def read_data(house, xtype):\n",
    "    assert house in houses\n",
    "    assert xtype in xtype_dict\n",
    "    \n",
    "    act_df = pd.read_csv(\"data/house{}_act.csv\".format(house))\n",
    "    sensor_df = pd.read_csv(\"data/house{}_sensor.csv\".format(house))\n",
    "    X = np.load(\"data/X_{}_house{}.npy\".format(xtype_dict[xtype], house))\n",
    "    Y = np.load(\"data/Y_house{}.npy\".format(house))\n",
    "    return act_df, sensor_df, X, Y"
   ]
  },
  {
   "cell_type": "code",
   "execution_count": 67,
   "metadata": {
    "collapsed": false
   },
   "outputs": [],
   "source": [
    "def calc_miu(X, Y, all_sensor=all_sensor, all_act=all_act):\n",
    "    assert len(X)==len(Y)\n",
    "    \n",
    "    num_act = len(all_act)\n",
    "    num_sensor = len(all_sensor)\n",
    "    a2i = dict(zip(all_act, range(num_act)))\n",
    "    miu = np.zeros([num_act, num_sensor])\n",
    "    for act in all_act:\n",
    "        sensor = X[Y==act]\n",
    "        for row in sensor:\n",
    "            miu[a2i[act]] += row\n",
    "        total = np.sum(Y==act)\n",
    "        if total != 0:\n",
    "            miu[a2i[act]] = miu[a2i[act]]/total\n",
    "    return miu"
   ]
  },
  {
   "cell_type": "code",
   "execution_count": 69,
   "metadata": {
    "collapsed": false
   },
   "outputs": [],
   "source": [
    "#read in data\n",
    "for house in houses:\n",
    "    for t in xtype_dict:\n",
    "        act_df,sensor_df,X,Y = read_data(house, t)\n",
    "        #build 4 dict, act to idx, idx to act, sensor to idx, idx to sensor\n",
    "        all_act = list(set(act_df.label)) + [0] #all the act labels\n",
    "        all_sensor = list(set(sensor_df.label)) #all the sensor labels\n",
    "\n",
    "        miu = calc_miu(X,Y,all_sensor, all_act)\n",
    "        # save miu\n",
    "        np.save(\"data/mu{}_{}.npy\".format(house,t), miu)"
   ]
  }
 ],
 "metadata": {
  "kernelspec": {
   "display_name": "Python 2",
   "language": "python",
   "name": "python2"
  },
  "language_info": {
   "codemirror_mode": {
    "name": "ipython",
    "version": 2
   },
   "file_extension": ".py",
   "mimetype": "text/x-python",
   "name": "python",
   "nbconvert_exporter": "python",
   "pygments_lexer": "ipython2",
   "version": "2.7.11"
  }
 },
 "nbformat": 4,
 "nbformat_minor": 0
}
