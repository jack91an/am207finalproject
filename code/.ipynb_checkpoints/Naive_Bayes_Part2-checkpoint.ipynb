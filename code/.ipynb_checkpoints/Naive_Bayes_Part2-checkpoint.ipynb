{
 "cells": [
  {
   "cell_type": "code",
   "execution_count": 3,
   "metadata": {
    "collapsed": true
   },
   "outputs": [],
   "source": [
    "import pandas as pd\n",
    "import numpy as np\n",
    "import seaborn as sns\n",
    "import matplotlib.pyplot as plt\n",
    "%matplotlib inline"
   ]
  },
  {
   "cell_type": "code",
   "execution_count": 4,
   "metadata": {
    "collapsed": false
   },
   "outputs": [],
   "source": [
    "houses = ['A', 'B', 'C']\n",
    "xtype_dict = {'r':'raw', 'c':'change','l':'last'}"
   ]
  },
  {
   "cell_type": "markdown",
   "metadata": {},
   "source": [
    "### Naive Bayes Function"
   ]
  },
  {
   "cell_type": "code",
   "execution_count": 29,
   "metadata": {
    "collapsed": true
   },
   "outputs": [],
   "source": [
    "def read_data(house, xtype):\n",
    "    assert house in houses\n",
    "    assert xtype in xtype_dict\n",
    "    \n",
    "    act_df = pd.read_csv(\"house{}_act.csv\".format(house))\n",
    "    sensor_df = pd.read_csv(\"house{}_sensor.csv\".format(house))\n",
    "    X = np.load(\"X_{}_house{}.npy\".format(xtype_dict[xtype], house))\n",
    "    Y = np.load(\"Y_house{}.npy\".format(house))\n",
    "    miu = np.load(\"mu{}_{}.npy\".format(house, xtype))\n",
    "    prior = np.load('Prior_{}.npy'.format(house))\n",
    "    return act_df, sensor_df, X, Y, miu, prior"
   ]
  },
  {
   "cell_type": "code",
   "execution_count": 11,
   "metadata": {
    "collapsed": true
   },
   "outputs": [],
   "source": [
    "def max_posterior(mu, X, prior):\n",
    "    num_time = len(X)\n",
    "    num_act = len(mu)\n",
    "    prob = np.zeros((num_time, num_act))\n",
    "    for i in range(num_time):\n",
    "        sensor = X[i]\n",
    "        for j in range(num_act):\n",
    "            act = mu[j]\n",
    "            logp = 0\n",
    "            for k,s in enumerate(sensor):\n",
    "                if s == 1.:\n",
    "                    logp += np.log(act[k])\n",
    "                else:\n",
    "                    logp += np.log(1-act[k])\n",
    "            prob[i,j] = logp + np.log(prior[i , j])\n",
    "    return prob"
   ]
  },
  {
   "cell_type": "code",
   "execution_count": 12,
   "metadata": {
    "collapsed": false
   },
   "outputs": [],
   "source": [
    "def NB(matrix):\n",
    "    est = np.zeros(len(matrix))\n",
    "    for i,row in enumerate(matrix):\n",
    "        est[i] = np.argmax(row)\n",
    "    return est"
   ]
  },
  {
   "cell_type": "markdown",
   "metadata": {},
   "source": [
    "### Evaluation Metrics Function\n",
    "$$\\text{Precision} = \\frac{1}{N}\\sum^N_i \\frac{TP_i}{TI_i} $$\n",
    "$$\\text{Recall} = \\frac{1}{N}\\sum^N_i\\frac{TP_i}{TT_i} $$\n",
    "$$\\text{F-Measure} = \\frac{2 \\cdot precision \\cdot recal}{precision+recall} $$\n",
    "$$\\text{Accuracy} = \\frac{\\sum^N_i TP_i}{Total}$$"
   ]
  },
  {
   "cell_type": "code",
   "execution_count": 13,
   "metadata": {
    "collapsed": true
   },
   "outputs": [],
   "source": [
    "def precision(pred_label, Y):\n",
    "    all_label = list(set(Y))\n",
    "    N = len(all_label)\n",
    "    res = 0\n",
    "    for y in list(set(Y)):\n",
    "        TP = np.sum(pred_label[Y==y]==y)\n",
    "        TI = np.sum(pred_label==y)\n",
    "        if TI != 0:\n",
    "            res += (float(TP)/TI)\n",
    "    return float(res)/N\n",
    "\n",
    "def recall(pred_label, Y):\n",
    "    all_label = list(set(Y))\n",
    "    N = len(all_label)\n",
    "    res = 0\n",
    "    for y in list(set(Y)):\n",
    "        TP = np.sum(pred_label[Y==y]==y)\n",
    "        TT = np.sum(Y==y)\n",
    "        if TT != 0:\n",
    "            res += float(TP)/TT\n",
    "    return float(res)/N\n",
    "\n",
    "def f_score(pred_label, Y):\n",
    "    p = precision(pred_label, Y)\n",
    "    r = recall(pred_label, Y)\n",
    "    return 2*p*r/(p+r)\n",
    "\n",
    "def accuracy(pred_label, Y):\n",
    "    res = 0\n",
    "    all_label = list(set(Y))\n",
    "    for y in list(set(Y)):\n",
    "        TP = np.sum(pred_label[Y==y]==y)\n",
    "        res += TP\n",
    "    return float(res)/len(Y)"
   ]
  },
  {
   "cell_type": "markdown",
   "metadata": {},
   "source": [
    "### Result Function"
   ]
  },
  {
   "cell_type": "code",
   "execution_count": 41,
   "metadata": {
    "collapsed": false
   },
   "outputs": [],
   "source": [
    "def result(miu, X, prior, act_df):\n",
    "    likes = max_posterior(miu,X,prior)\n",
    "    result = NB(likes) #note: result is index, not label yet\n",
    "    #convert index to label\n",
    "    all_act = list(set(act_df.label)) + [0] #all the act labels\n",
    "    i2a = dict(zip(range(len(all_act)), all_act)) #ind to act dict\n",
    "    res_label = np.array([i2a[e] for e in result])\n",
    "#     for i,act in enumerate(all_act):\n",
    "#         print \"{},act label: {}, Y count:{}, estimate count:{}\".format(i,act, sum(Y==act), sum(res_label==act))\n",
    "    return res_label"
   ]
  },
  {
   "cell_type": "code",
   "execution_count": 42,
   "metadata": {
    "collapsed": true
   },
   "outputs": [],
   "source": [
    "def evaluation(house,res_label, Y):\n",
    "    print 'Precision of house {} is {}'.format(house,precision(res_label, Y))\n",
    "    print 'recall of house {} is {}'.format(house,recall(res_label, Y))\n",
    "    print 'F score of house {} is {}'.format(house,f_score(res_label, Y))\n",
    "    print 'Accuracy of house {} is {}'.format(house,accuracy(res_label, Y))"
   ]
  },
  {
   "cell_type": "markdown",
   "metadata": {},
   "source": [
    "# Naive Bayes Raw Data Representation"
   ]
  },
  {
   "cell_type": "code",
   "execution_count": 45,
   "metadata": {
    "collapsed": false
   },
   "outputs": [
    {
     "name": "stdout",
     "output_type": "stream",
     "text": [
      "HouseA:\n",
      "Precision of house A is 0.827909600324\n",
      "recall of house A is 0.576325527602\n",
      "F score of house A is 0.679580545629\n",
      "Accuracy of house A is 0.775583662451\n",
      "HouseB:\n",
      "Precision of house B is 0.806193713717\n",
      "recall of house B is 0.71489999497\n",
      "F score of house B is 0.757807199635\n",
      "Accuracy of house B is 0.874652956298\n",
      "HouseC:\n",
      "Precision of house C is 0.621109582685\n",
      "recall of house C is 0.469259255971\n",
      "F score of house C is 0.534610693766\n",
      "Accuracy of house C is 0.767253095741\n"
     ]
    }
   ],
   "source": [
    "t = 'r'\n",
    "for house in houses:\n",
    "    act_df,sensor_df,X,Y,miu,prior = read_data(house, t)\n",
    "    # result\n",
    "    res_label = result(miu, X, prior, act_df)\n",
    "    # Evaluation\n",
    "    print 'House{}:'.format(house)\n",
    "    evaluation(house,res_label, Y)"
   ]
  },
  {
   "cell_type": "markdown",
   "metadata": {
    "collapsed": true
   },
   "source": [
    "# Naive Bayes Change Data Representation"
   ]
  },
  {
   "cell_type": "code",
   "execution_count": 46,
   "metadata": {
    "collapsed": false
   },
   "outputs": [
    {
     "name": "stdout",
     "output_type": "stream",
     "text": [
      "HouseA:\n",
      "Precision of house A is 0.770766501191\n",
      "recall of house A is 0.575909143045\n",
      "F score of house A is 0.659240370298\n",
      "Accuracy of house A is 0.710318452232\n",
      "HouseB:\n",
      "Precision of house B is 0.775019136988\n",
      "recall of house B is 0.425651213242\n",
      "F score of house B is 0.549506091962\n",
      "Accuracy of house B is 0.542519280206\n",
      "HouseC:\n",
      "Precision of house C is 0.716180378285\n",
      "recall of house C is 0.432146479634\n",
      "F score of house C is 0.539036123947\n",
      "Accuracy of house C is 0.735238598611\n"
     ]
    }
   ],
   "source": [
    "t = 'c'\n",
    "for house in houses:\n",
    "    act_df,sensor_df,X,Y,miu,prior = read_data(house, t)\n",
    "    # result\n",
    "    res_label = result(miu, X, prior, act_df)\n",
    "    # Evaluation\n",
    "    print 'House{}:'.format(house)\n",
    "    evaluation(house,res_label, Y)"
   ]
  },
  {
   "cell_type": "markdown",
   "metadata": {
    "collapsed": true
   },
   "source": [
    "# Naive Bayes Last Fire Data Representation"
   ]
  },
  {
   "cell_type": "code",
   "execution_count": 47,
   "metadata": {
    "collapsed": false
   },
   "outputs": [
    {
     "name": "stdout",
     "output_type": "stream",
     "text": [
      "HouseA:\n",
      "Precision of house A is 0.662168290111\n",
      "recall of house A is 0.620084068935\n",
      "F score of house A is 0.640435565987\n",
      "Accuracy of house A is 0.853147027946\n",
      "HouseB:\n",
      "Precision of house B is 0.667133479473\n",
      "recall of house B is 0.566522040912\n",
      "F score of house B is 0.612725050238\n",
      "Accuracy of house B is 0.754550128535\n",
      "HouseC:\n",
      "Precision of house C is 0.618966706095\n",
      "recall of house C is 0.610360858939\n",
      "F score of house C is 0.614633660112\n",
      "Accuracy of house C is 0.800437934159\n"
     ]
    }
   ],
   "source": [
    "t = 'l'\n",
    "for house in houses:\n",
    "    act_df,sensor_df,X,Y,miu,prior = read_data(house, t)\n",
    "    # result\n",
    "    res_label = result(miu, X, prior, act_df)\n",
    "    # Evaluation\n",
    "    print 'House{}:'.format(house)\n",
    "    evaluation(house,res_label, Y)"
   ]
  }
 ],
 "metadata": {
  "kernelspec": {
   "display_name": "Python 2",
   "language": "python",
   "name": "python2"
  },
  "language_info": {
   "codemirror_mode": {
    "name": "ipython",
    "version": 2
   },
   "file_extension": ".py",
   "mimetype": "text/x-python",
   "name": "python",
   "nbconvert_exporter": "python",
   "pygments_lexer": "ipython2",
   "version": "2.7.11"
  }
 },
 "nbformat": 4,
 "nbformat_minor": 0
}
