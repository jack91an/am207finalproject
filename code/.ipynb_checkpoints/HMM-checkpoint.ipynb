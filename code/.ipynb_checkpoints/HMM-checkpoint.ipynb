{
 "cells": [
  {
   "cell_type": "code",
   "execution_count": 1,
   "metadata": {
    "collapsed": false
   },
   "outputs": [
    {
     "name": "stderr",
     "output_type": "stream",
     "text": [
      "/Users/fqian/anaconda/lib/python2.7/site-packages/matplotlib/font_manager.py:273: UserWarning: Matplotlib is building the font cache using fc-list. This may take a moment.\n",
      "  warnings.warn('Matplotlib is building the font cache using fc-list. This may take a moment.')\n"
     ]
    }
   ],
   "source": [
    "import numpy as np\n",
    "import matplotlib\n",
    "import matplotlib.pyplot as plt\n",
    "%matplotlib inline\n",
    "\n",
    "import seaborn as sns\n",
    "sns.set_style(\"white\")\n",
    "\n",
    "import time\n",
    "import timeit\n",
    "\n",
    "import scipy.stats \n",
    "import pandas as pd\n",
    "import pymc as pm\n",
    "\n",
    "import re\n",
    "import numpy as np\n",
    "\n",
    "import string\n",
    "import itertools\n",
    "\n",
    "import time"
   ]
  },
  {
   "cell_type": "code",
   "execution_count": 2,
   "metadata": {
    "collapsed": true
   },
   "outputs": [],
   "source": [
    "# Exactly the same code from NB\n",
    "houses = ['A', 'B', 'C']\n",
    "xtype_dict = {'r':'raw', 'c':'change','l':'last'}\n",
    "\n",
    "def read_data(house, xtype):\n",
    "    assert house in houses\n",
    "    assert xtype in xtype_dict\n",
    "    \n",
    "    act_df = pd.read_csv(\"data/house{}_act.csv\".format(house))\n",
    "    sensor_df = pd.read_csv(\"data/house{}_sensor.csv\".format(house))\n",
    "    X = np.load(\"data/X_{}_house{}.npy\".format(xtype_dict[xtype], house))\n",
    "    Y = np.load(\"data/Y_house{}.npy\".format(house))\n",
    "    miu = np.load(\"data/mu{}_{}.npy\".format(house, xtype))\n",
    "    prior = np.load('data/Prior_{}.npy'.format(house))\n",
    "    return act_df, sensor_df, X, Y, miu, prior"
   ]
  },
  {
   "cell_type": "code",
   "execution_count": null,
   "metadata": {
    "collapsed": true
   },
   "outputs": [],
   "source": []
  }
 ],
 "metadata": {
  "kernelspec": {
   "display_name": "Python 2",
   "language": "python",
   "name": "python2"
  },
  "language_info": {
   "codemirror_mode": {
    "name": "ipython",
    "version": 2
   },
   "file_extension": ".py",
   "mimetype": "text/x-python",
   "name": "python",
   "nbconvert_exporter": "python",
   "pygments_lexer": "ipython2",
   "version": "2.7.11"
  }
 },
 "nbformat": 4,
 "nbformat_minor": 0
}
